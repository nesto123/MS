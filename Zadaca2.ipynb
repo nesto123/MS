{
 "cells": [
  {
   "cell_type": "markdown",
   "metadata": {},
   "source": [
    "Na https://py.checkio.org/en/mission/four-to-the-floor/ imate zadatak koji trebate riješiti. Ukratko, treba napisati funkciju is_covered koja prima duljinu i širinu sobe (u kojem god obliku želite) i podatke o senzorima (kao numpy.array oblika (brojsenzora, 3)). O svakom senzoru poznate su koordinate središta i polumjer kruga (na podu) koji pokriva. Funkcija treba vratiti (bool) je li čitav pod sobe pokriven senzorima (False akko postoji točka na podu koja nije u krugu nijednog senzora).\n",
    "\n",
    "Egzaktni algoritam je vrlo kompliciran za napisati -- vaša zadaća je puno jednostavnija. Treba generirati mnogo (barem milijun, a možda i više ovisno o tome koliku točnost želite) uniformno distribuiranih slučajnih točaka na podu, i provjeriti jesu li sve one u dosegu senzora. Naravno, s obzirom na broj točaka, senzora i testova, trebate to riješiti koristeći Numpy, ne Pythonove petlje.\n",
    "\n",
    "Testovi se nalaze na https://github.com/quarkov/checkio-mission-four-to-the-floor/blob/master/verification/tests.py#L116-L206 (možete samo copy-pasteati taj dio u bilježnicu). U istoj bilježnici gdje ste implementirali funkciju, testirajte je s njima (dio za testiranje smije koristiti Pythonove petlje, samo funkcija is_covered ne). Svakako bi testovi grupe Basics trebali proći (za bod), a za testove grupe Extra (ako se želite igrati) će možda trebati nekakva dodatna heuristika u smislu broja točaka i/ili njihove distribucije -- ovisno o tome kakvo računalo imate.\n",
    "\n",
    "Svi testovi koje imate moraju se evaluirati u manje od 5 minuta. (To je više nego dovoljno vremena za dovoljnu preciznost da prođu svi testovi.) Svakako na početku bilježnice postavite numpy.random.seed na neki jedinstveni broj (npr. Vaš JMBAG bez vodećih nulâ), radi reproducibilnosti pseudoslučajnih brojeva.\n"
   ]
  },
  {
   "cell_type": "code",
   "execution_count": 1,
   "metadata": {},
   "outputs": [],
   "source": [
    "import numpy as np\n",
    "np.random.seed(1191236005)\n",
    "from math import sqrt"
   ]
  },
  {
   "cell_type": "code",
   "execution_count": 2,
   "metadata": {},
   "outputs": [],
   "source": [
    "def is_covered(ulaz, senzori):\n",
    "    W, H = ulaz\n",
    "    if (H <= 0 ) | (H >1000):\n",
    "        return False\n",
    "    if ( W < H ) | ( W > 4*H):\n",
    "        return False\n",
    "    sx = senzori[:,0]\n",
    "    sy = senzori[:,1]\n",
    "    r = senzori[:,2]\n",
    "    pod_x = np.random.uniform(0, W,1000000)\n",
    "    pod_y = np.random.uniform(0, H,1000000)\n",
    "    pod = np.vstack((pod_x, pod_y))\n",
    "    #pod = np.array([[5,5], [2,2], [2,2]]).T \n",
    "    #print(pod.shape)\n",
    "    \n",
    "    def f(x,y):\n",
    "     #   print(x)\n",
    "      #  print(np.array([(x - sx)**2 + (y - sy)**2 < r**2]))\n",
    "       # print(np.array([(x - sx)**2 + (y - sy)**2 < r**2]).any())\n",
    "        if np.array([(x - sx)**2 + (y - sy)**2 < r**2]).any():\n",
    "            return True\n",
    "        return False\n",
    "    fv = np.vectorize( f)\n",
    "    if all(fv(pod[0,:],pod[1,:])):\n",
    "        return True\n",
    "    return False\n",
    "\n",
    "#matrica = np.array([[5,5,2], [2,2,1]])\n",
    "#print(matrica.shape)\n",
    "#print(matrica)\n",
    "\n",
    "#is_covered(10,10,matrica)\n"
   ]
  },
  {
   "cell_type": "markdown",
   "metadata": {},
   "source": [
    "Testovi"
   ]
  },
  {
   "cell_type": "code",
   "execution_count": 3,
   "metadata": {},
   "outputs": [],
   "source": [
    "testovi = [\n",
    "    [[200, 150], [[100, 75, 130]]],\n",
    "    [[200, 150], [[50, 75, 100], [150, 75, 100]]],\n",
    "    [[200, 150], [[50, 75, 100], [150, 25, 50], [150, 125, 50]]],\n",
    "    [[200, 150], [[100, 75, 100], [0, 40, 60], [0, 110, 60], [200, 40, 60], [200, 110, 60]]],\n",
    "    [[200, 150], [[100, 75, 100], [0, 40, 50], [0, 110, 50], [200, 40, 50], [200, 110, 50]]],\n",
    "    [[200, 150], [[100, 75, 110], [105, 75, 110]]],\n",
    "    [[200, 150], [[100, 75, 110], [105, 75, 20]]],\n",
    "    [[3, 1], [[1, 0, 2], [2, 1, 2]]],\n",
    "    [[30, 10], [[0, 10, 10], [10, 0, 10], [20, 10, 10], [30, 0, 10]]],\n",
    "    [[30, 10], [[0, 10, 8], [10, 0, 7], [20, 10, 9], [30, 0, 10]]],\n",
    "]"
   ]
  },
  {
   "cell_type": "code",
   "execution_count": 4,
   "metadata": {},
   "outputs": [
    {
     "name": "stdout",
     "output_type": "stream",
     "text": [
      "CPU times: user 2 µs, sys: 0 ns, total: 2 µs\n",
      "Wall time: 3.34 µs\n"
     ]
    },
    {
     "data": {
      "text/plain": [
       "[True, True, False, True, False, False, False, True, True, False]"
      ]
     },
     "execution_count": 4,
     "metadata": {},
     "output_type": "execute_result"
    }
   ],
   "source": [
    "spaces = []\n",
    "senzor = []\n",
    "for i in range( len( testovi )):\n",
    "    spaces.append( testovi[i][0] )\n",
    "    senzor.append( testovi[i][1] )\n",
    "solution = []\n",
    "for i in range(len( testovi )):\n",
    "    space = np.array( spaces[i] )\n",
    "    senzori_sobe = np.array( senzor[i] )\n",
    "    solution.append( is_covered(space, senzori_sobe) )\n",
    "%time solution"
   ]
  },
  {
   "cell_type": "markdown",
   "metadata": {},
   "source": [
    "Ekstra testovi"
   ]
  },
  {
   "cell_type": "code",
   "execution_count": 5,
   "metadata": {},
   "outputs": [
    {
     "name": "stdout",
     "output_type": "stream",
     "text": [
      "CPU times: user 2 µs, sys: 0 ns, total: 2 µs\n",
      "Wall time: 3.81 µs\n"
     ]
    },
    {
     "data": {
      "text/plain": [
       "[True, False, False, False, True, True, False, True, False, True]"
      ]
     },
     "execution_count": 5,
     "metadata": {},
     "output_type": "execute_result"
    }
   ],
   "source": [
    "testovi = [\n",
    "    [[8, 6], [[4, 3, 5]]],\n",
    "    [[2000, 1000], [[0, 0, 500], [500, 0, 500], [1000, 0, 500], [1500, 0, 500], [2000, 0, 500], [0, 500, 500], [500, 500, 500], [1000, 500, 500], [1500, 500, 500], [2000, 500, 500]]],\n",
    "    [[4000, 1000], [[0, 500, 1600], [2000, 100, 500], [2100, 900, 500], [2500, 200, 500], [2600, 800, 500], [4000, 0, 1200]]],\n",
    "    [[4000, 1000], [[0, 500, 1600], [2000, 100, 500], [2100, 900, 500], [2500, 200, 500], [2600, 800, 500], [4000, 0, 1200], [4000, 500, 200]]],\n",
    "    [[4000, 1000], [[0, 500, 1600], [2000, 100, 500], [2100, 900, 500], [2500, 200, 500], [2600, 800, 500], [4000, 500, 1200], [1600, 500, 600]]],\n",
    "    [[4000, 1000], [[0, 500, 1600], [2000, 100, 500], [2100, 900, 500], [2500, 200, 500], [2600, 800, 500], [4000, 600, 1200], [1600, 500, 600]]],\n",
    "    [[100, 100], [[50, 50, 65], [25, 25, 25], [25, 75, 25], [75, 25, 25], [75, 75, 25]]],\n",
    "    [[100, 100], [[50, 50, 65], [5, 5, 25], [5, 95, 25], [95, 5, 25], [95, 95, 25]]],\n",
    "    [[800, 800], [[0, 0, 500], [0, 800, 500], [800, 0, 500], [800, 800, 500]]],\n",
    "    [[800, 800], [[0, 0, 570], [0, 800, 500], [800, 0, 500], [800, 800, 570]]]\n",
    "]\n",
    "\n",
    "\n",
    "spaces = []\n",
    "senzor = []\n",
    "for i in range( len( testovi )):\n",
    "    spaces.append( testovi[i][0] )\n",
    "    senzor.append( testovi[i][1] )\n",
    "solution = []\n",
    "for i in range(len( testovi )):\n",
    "    space = np.array( spaces[i] )\n",
    "    senzori_sobe = np.array( senzor[i] )\n",
    "    solution.append( is_covered(space, senzori_sobe) )\n",
    "%time solution"
   ]
  },
  {
   "cell_type": "code",
   "execution_count": null,
   "metadata": {},
   "outputs": [],
   "source": []
  }
 ],
 "metadata": {
  "kernelspec": {
   "display_name": "Python 3",
   "language": "python",
   "name": "python3"
  },
  "language_info": {
   "codemirror_mode": {
    "name": "ipython",
    "version": 3
   },
   "file_extension": ".py",
   "mimetype": "text/x-python",
   "name": "python",
   "nbconvert_exporter": "python",
   "pygments_lexer": "ipython3",
   "version": "3.7.4"
  }
 },
 "nbformat": 4,
 "nbformat_minor": 2
}
