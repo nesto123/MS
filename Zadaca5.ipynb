{
 "cells": [
  {
   "cell_type": "markdown",
   "metadata": {},
   "source": [
    "Sympy-galerija\n",
    "\n",
    "Za svako od dolje navedenih 6 područja prikažite jedan primjer koji po Vašem mišljenju dobro pokazuje mogućnosti Sympyja na tom području. Idealno, svaki primjer bi trebao biti naslov (naziv područja), jedna tekstna ćelija (opis vlastitim riječima, ili tekst zadatka) i jedna ćelija s kodom, ali može biti i opširnije. Moja je zamisao da mogućnosti budu pozitivne (nešto što Vas je impresioniralo, nešto što sami niste znali, nešto što alati poput photomatha ili Wolfram Alphe ne znaju,...) ali ako baš ne volite Sympy, smiju biti i negativni (nešto što je krivo riješio, nešto što ne zna riješiti a smatrate da bi trebao znati, nešto što jednostavniji sustavi poput džepnih kalkulatora znaju bolje prikazati ili riješiti,...).\n",
    "\n",
    "Primjeri ne moraju biti veliki: vjerujem da će mnogi biti u jednoj liniji, iako će neki (vjerojatno geometrija npr.) zahtijevati malo kompliciraniji setup. Svako područje s dovoljno impresivnim primjerom (ili kontraprimjerom) nosi 0.5p. Probajte da ne bude sva impresivnost samo u veličini problema (tipa, determinanta matrice 100×100 ; ) - imajte na umu da je moja mašina skoro sigurno slabija od Vaše. :-o\n",
    "\n",
    "   1 (re)prezentacija simboličkih izraza: obuhvaća konverziju u LaTeX, DOT (Graphviz), pprint, ili transformacije izraza koje se automatski izvode pri njihovom pretvaranju u simboličku reprezentaciju\n",
    "\n",
    "  2  linearna algebra, (simbolički) matrični/vektorski račun (dobar primjer je ono simboličko potenciranje matrice s kraja bilježnice s \"predavanja\", ali naravno, ne možete koristiti baš taj primjer: )\n",
    "\n",
    "   3 diferencijalni i integralni račun: neki težak integral, (parcijalna) diferencijalna jednadžba (možda s početnim uvjetom), implicitno zadane funkcije, limesi koji se ne mogu riješiti L'Hôpitalom,...\n",
    "\n",
    "  4  geometrija (ovo područje nismo baš obrađivali, ali možete vidjeti dokumentaciju na https://docs.sympy.org/latest/modules/geometry/index.html) - za ideje/zadatke možete posjetiti https://web.math.pmf.unizg.hr/~cerin/\n",
    "\n",
    "  5  logika i zaključivanje (ask / assumptions / refine, upiti o svojstvima matematičkih objekata)\n",
    "\n",
    "  6  algebarske manipulacije (pozitivni primjer će vjerojatno biti neki impresivni .simplify ili .factor, možda expand_func; naravno, negativni primjer može biti bilo što: )\n",
    "\n",
    "   7 Jedno od gornjih šest područja možete zamijeniti područjem po Vašoj želji (ne mora uopće biti s popisa), ali ako bude područje koje već jest na popisu, primjer bi trebao biti suštinski drugačiji od onog koji ste već iskoristili za to područje (dakle, ne tipa \"ista funkcija s drugim brojevima\"). Svakako napišite ako/gdje koristite ovaj joker.\n",
    "\n"
   ]
  },
  {
   "cell_type": "code",
   "execution_count": 2,
   "metadata": {},
   "outputs": [],
   "source": [
    "import sympy as sp\n",
    "sp.init_printing()"
   ]
  },
  {
   "cell_type": "markdown",
   "metadata": {},
   "source": [
    "1. (re)prezentacija simboličkih izraza: obuhvaća konverziju u LaTeX, DOT (Graphviz), pprint, ili transformacije izraza koje se automatski izvode pri njihovom pretvaranju u simboličku reprezentaciju"
   ]
  },
  {
   "cell_type": "code",
   "execution_count": null,
   "metadata": {},
   "outputs": [],
   "source": [
    "\n"
   ]
  },
  {
   "cell_type": "code",
   "execution_count": null,
   "metadata": {},
   "outputs": [],
   "source": []
  },
  {
   "cell_type": "code",
   "execution_count": null,
   "metadata": {},
   "outputs": [],
   "source": []
  },
  {
   "cell_type": "markdown",
   "metadata": {},
   "source": [
    "3. diferencijalni i integralni račun: neki težak integral, (parcijalna) diferencijalna jednadžba (možda s početnim uvjetom), implicitno zadane funkcije, limesi koji se ne mogu riješiti L'Hôpitalom,..."
   ]
  },
  {
   "cell_type": "code",
   "execution_count": 10,
   "metadata": {},
   "outputs": [
    {
     "data": {
      "image/png": "[encoded data removed]",
      "text/latex": [
       "$\\displaystyle \\frac{17 \\pi}{3}$"
      ],
      "text/plain": [
       "17⋅π\n",
       "────\n",
       " 3  "
      ]
     },
     "execution_count": 10,
     "metadata": {},
     "output_type": "execute_result"
    }
   ],
   "source": [
    "from sympy.abc import x, y, z\n",
    "\n",
    "\n",
    "integral = sp.Integral(x**2+y**2+z**2 , (y,-1*sp.sqrt(x*(2-x)) , sp.sqrt(x*(2-x))), (z,0,2), (x,0,2))\n",
    "integral.doit()"
   ]
  },
  {
   "cell_type": "code",
   "execution_count": 16,
   "metadata": {},
   "outputs": [
    {
     "data": {
      "image/png": "[encoded data removed]",
      "text/latex": [
       "$\\displaystyle \\frac{3 \\left(- \\frac{5 \\left(x + 1\\right)^{2}}{8 \\left(x + 5\\right)^{3}} + \\frac{3 \\left(x + 1\\right)}{2 \\left(x + 5\\right)^{2}} - \\frac{1}{x + 5} - \\frac{3 \\left(x + 1\\right)^{2}}{4 \\left(x - 1\\right) \\left(x + 5\\right)^{2}} + \\frac{2 \\left(x + 1\\right)}{\\left(x - 1\\right) \\left(x + 5\\right)} - \\frac{2}{x - 1} - \\frac{\\left(x + 1\\right)^{2}}{\\left(x - 1\\right)^{2} \\left(x + 5\\right)} + \\frac{4 \\left(x + 1\\right)}{\\left(x - 1\\right)^{2}} - \\frac{2 \\left(x + 1\\right)^{2}}{\\left(x - 1\\right)^{3}}\\right)}{\\left(x - 1\\right) \\sqrt{x + 5}}$"
      ],
      "text/plain": [
       "  ⎛           2                                     2                         \n",
       "  ⎜  5⋅(x + 1)    3⋅(x + 1)      1         3⋅(x + 1)           2⋅(x + 1)      \n",
       "3⋅⎜- ────────── + ────────── - ───── - ────────────────── + ─────────────── - \n",
       "  ⎜           3            2   x + 5                    2   (x - 1)⋅(x + 5)   \n",
       "  ⎝  8⋅(x + 5)    2⋅(x + 5)            4⋅(x - 1)⋅(x + 5)                      \n",
       "──────────────────────────────────────────────────────────────────────────────\n",
       "                                                                 _______      \n",
       "                                                       (x - 1)⋅╲╱ x + 5       \n",
       "\n",
       "                   2                            2⎞\n",
       "  2         (x + 1)        4⋅(x + 1)   2⋅(x + 1) ⎟\n",
       "───── - ──────────────── + ───────── - ──────────⎟\n",
       "x - 1          2                   2           3 ⎟\n",
       "        (x - 1) ⋅(x + 5)    (x - 1)     (x - 1)  ⎠\n",
       "──────────────────────────────────────────────────\n",
       "                                                  \n",
       "                                                  "
      ]
     },
     "execution_count": 16,
     "metadata": {},
     "output_type": "execute_result"
    }
   ],
   "source": [
    "#kolokvij ma2 2016\n",
    "derivacija = sp.Derivative((x+1)**2/(x-1)/sp.sqrt(x+5),  x, 3)\n",
    "derivacija.doit()"
   ]
  },
  {
   "cell_type": "code",
   "execution_count": 19,
   "metadata": {},
   "outputs": [],
   "source": [
    "#n ta derivacija\n",
    "\n",
    "funkcija = sp.sin(x**2-2*x+2)\n",
    "\n",
    "n = sp.symbols('n', positive=True)\n",
    "derivacija = sp.Derivative(funkcija,  x, n)\n"
   ]
  },
  {
   "cell_type": "code",
   "execution_count": 21,
   "metadata": {},
   "outputs": [
    {
     "data": {
      "image/png": "[encoded data removed]",
      "text/latex": [
       "$\\displaystyle \\frac{d^{2}}{d nd x} \\sin{\\left(x^{2} - 2 x + 2 \\right)}$"
      ],
      "text/plain": [
       "   2                    \n",
       "  d  ⎛   ⎛ 2          ⎞⎞\n",
       "─────⎝sin⎝x  - 2⋅x + 2⎠⎠\n",
       "dn dx                   "
      ]
     },
     "execution_count": 21,
     "metadata": {},
     "output_type": "execute_result"
    }
   ],
   "source": [
    "derivacija"
   ]
  },
  {
   "cell_type": "code",
   "execution_count": null,
   "metadata": {},
   "outputs": [],
   "source": []
  }
 ],
 "metadata": {
  "kernelspec": {
   "display_name": "Python 3",
   "language": "python",
   "name": "python3"
  },
  "language_info": {
   "codemirror_mode": {
    "name": "ipython",
    "version": 3
   },
   "file_extension": ".py",
   "mimetype": "text/x-python",
   "name": "python",
   "nbconvert_exporter": "python",
   "pygments_lexer": "ipython3",
   "version": "3.7.7"
  }
 },
 "nbformat": 4,
 "nbformat_minor": 4
}
