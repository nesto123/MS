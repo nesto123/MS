{
 "cells": [
  {
   "cell_type": "markdown",
   "metadata": {},
   "source": [
    "Sympy-galerija\n",
    "\n",
    "Za svako od dolje navedenih 6 područja prikažite jedan primjer koji po Vašem mišljenju dobro pokazuje mogućnosti Sympyja na tom području. Idealno, svaki primjer bi trebao biti naslov (naziv područja), jedna tekstna ćelija (opis vlastitim riječima, ili tekst zadatka) i jedna ćelija s kodom, ali može biti i opširnije. Moja je zamisao da mogućnosti budu pozitivne (nešto što Vas je impresioniralo, nešto što sami niste znali, nešto što alati poput photomatha ili Wolfram Alphe ne znaju,...) ali ako baš ne volite Sympy, smiju biti i negativni (nešto što je krivo riješio, nešto što ne zna riješiti a smatrate da bi trebao znati, nešto što jednostavniji sustavi poput džepnih kalkulatora znaju bolje prikazati ili riješiti,...).\n",
    "\n",
    "Primjeri ne moraju biti veliki: vjerujem da će mnogi biti u jednoj liniji, iako će neki (vjerojatno geometrija npr.) zahtijevati malo kompliciraniji setup. Svako područje s dovoljno impresivnim primjerom (ili kontraprimjerom) nosi 0.5p. Probajte da ne bude sva impresivnost samo u veličini problema (tipa, determinanta matrice 100×100 ; ) - imajte na umu da je moja mašina skoro sigurno slabija od Vaše. :-o\n",
    "\n",
    "   1 (re)prezentacija simboličkih izraza: obuhvaća konverziju u LaTeX, DOT (Graphviz), pprint, ili transformacije izraza koje se automatski izvode pri njihovom pretvaranju u simboličku reprezentaciju\n",
    "\n",
    "  2  linearna algebra, (simbolički) matrični/vektorski račun (dobar primjer je ono simboličko potenciranje matrice s kraja bilježnice s \"predavanja\", ali naravno, ne možete koristiti baš taj primjer: )\n",
    "\n",
    "   3 diferencijalni i integralni račun: neki težak integral, (parcijalna) diferencijalna jednadžba (možda s početnim uvjetom), implicitno zadane funkcije, limesi koji se ne mogu riješiti L'Hôpitalom,...\n",
    "\n",
    "  4  geometrija (ovo područje nismo baš obrađivali, ali možete vidjeti dokumentaciju na https://docs.sympy.org/latest/modules/geometry/index.html) - za ideje/zadatke možete posjetiti https://web.math.pmf.unizg.hr/~cerin/\n",
    "\n",
    "  5  logika i zaključivanje (ask / assumptions / refine, upiti o svojstvima matematičkih objekata)\n",
    "\n",
    "  6  algebarske manipulacije (pozitivni primjer će vjerojatno biti neki impresivni .simplify ili .factor, možda expand_func; naravno, negativni primjer može biti bilo što: )\n",
    "\n",
    "   7 Jedno od gornjih šest područja možete zamijeniti područjem po Vašoj želji (ne mora uopće biti s popisa), ali ako bude područje koje već jest na popisu, primjer bi trebao biti suštinski drugačiji od onog koji ste već iskoristili za to područje (dakle, ne tipa \"ista funkcija s drugim brojevima\"). Svakako napišite ako/gdje koristite ovaj joker.\n",
    "\n"
   ]
  },
  {
   "cell_type": "code",
   "execution_count": 2,
   "metadata": {},
   "outputs": [],
   "source": [
    "import sympy as sp\n",
    "sp.init_printing()"
   ]
  },
  {
   "cell_type": "markdown",
   "metadata": {},
   "source": [
    "1. (re)prezentacija simboličkih izraza: obuhvaća konverziju u LaTeX, DOT (Graphviz), pprint, ili transformacije izraza koje se automatski izvode pri njihovom pretvaranju u simboličku reprezentaciju\n",
    "\n",
    "--convertiranje u druge programske jezike"
   ]
  },
  {
   "cell_type": "code",
   "execution_count": 60,
   "metadata": {},
   "outputs": [
    {
     "data": {
      "image/png": "[encoded data removed]",
      "text/latex": [
       "$\\displaystyle \\frac{\\sqrt{2} e^{- \\frac{\\left(- \\mu + x\\right)^{2}}{2 \\sigma^{2}}}}{2 \\sqrt{\\pi} \\sqrt{\\sigma^{2}}}$"
      ],
      "text/plain": [
       "sqrt(2)*exp(-(-mu + x)**2/(2*sigma**2))/(2*sqrt(pi)*sqrt(sigma**2))"
      ]
     },
     "execution_count": 60,
     "metadata": {},
     "output_type": "execute_result"
    }
   ],
   "source": [
    "sigma, mi = sp.Symbol('sigma'), sp.Symbol('mu')\n",
    "stnormal=(sp.sqrt((2*sp.pi*sigma**2)))**(-1)*sp.exp(-(x-mi)**2/(2*sigma**2))\n",
    "stnormal"
   ]
  },
  {
   "cell_type": "code",
   "execution_count": 61,
   "metadata": {},
   "outputs": [
    {
     "name": "stdout",
     "output_type": "stream",
     "text": [
      "Ispis u C-u: (1.0/2.0)*M_SQRT2*exp(-1.0/2.0*pow(-mu + x, 2)/pow(sigma, 2))/(sqrt(M_PI)*sqrt(pow(sigma, 2)))\n"
     ]
    }
   ],
   "source": [
    "print('Ispis u C-u:', sp.ccode(stnormal))"
   ]
  },
  {
   "cell_type": "code",
   "execution_count": 54,
   "metadata": {},
   "outputs": [
    {
     "name": "stdout",
     "output_type": "stream",
     "text": [
      "Ispis u C++-u: (1.0/2.0)*M_SQRT2*std::exp(-1.0/2.0*std::pow(-mu + x, 2)/std::pow(sigma, 2))/(std::sqrt(M_PI)*std::sqrt(std::pow(sigma, 2)))\n"
     ]
    }
   ],
   "source": [
    "print('Ispis u C++-u:', sp.cxxcode(stnormal))"
   ]
  },
  {
   "cell_type": "code",
   "execution_count": 55,
   "metadata": {},
   "outputs": [
    {
     "name": "stdout",
     "output_type": "stream",
     "text": [
      "Ispis u Octave-u: sqrt(2)*exp(-(-mu + x).^2./(2*sigma.^2))./(2*sqrt(pi)*sqrt(sigma.^2))\n"
     ]
    }
   ],
   "source": [
    "print('Ispis u Octave-u:', sp.octave_code(stnormal))"
   ]
  },
  {
   "cell_type": "code",
   "execution_count": 56,
   "metadata": {},
   "outputs": [
    {
     "name": "stdout",
     "output_type": "stream",
     "text": [
      "Ispis u Octave-u: (1/2)*Math.sqrt(2)*Math.exp(-1/2*Math.pow(-mu + x, 2)/Math.pow(sigma, 2))/(Math.sqrt(Math.PI)*Math.sqrt(Math.pow(sigma, 2)))\n"
     ]
    }
   ],
   "source": [
    "print('Ispis u Octave-u:', sp.jscode(stnormal))"
   ]
  },
  {
   "cell_type": "markdown",
   "metadata": {},
   "source": [
    "2. linearna algebra, (simbolički) matrični/vektorski račun (dobar primjer je ono simboličko potenciranje matrice s kraja bilježnice s \"predavanja\", ali naravno, ne možete koristiti baš taj primjer: )\n",
    "\n",
    "--računanje jacobijana"
   ]
  },
  {
   "cell_type": "code",
   "execution_count": 106,
   "metadata": {},
   "outputs": [
    {
     "data": {
      "text/latex": [
       "$\\displaystyle \\left[\\begin{matrix}\\log{\\left(\\left|{\\sinh{\\left(x \\right)}}\\right| \\right)}\\\\\\tan{\\left(e^{\\left\\lfloor{\\operatorname{asech}{\\left(y \\right)}}\\right\\rfloor} \\right)}\\end{matrix}\\right]$"
      ],
      "text/plain": [
       "Matrix([\n",
       "[        log(Abs(sinh(x)))],\n",
       "[tan(exp(floor(asech(y))))]])"
      ]
     },
     "execution_count": 106,
     "metadata": {},
     "output_type": "execute_result"
    }
   ],
   "source": [
    "from sympy.abc import x, y\n",
    "a=sp.Matrix([sp.ln(sp.Abs(sp.sinh(x))),sp.tan(sp.exp(sp.floor(sp.asech(y))))])\n",
    "a"
   ]
  },
  {
   "cell_type": "code",
   "execution_count": 107,
   "metadata": {},
   "outputs": [
    {
     "data": {
      "text/latex": [
       "$\\displaystyle \\left[\\begin{matrix}\\frac{\\left(\\left(\\sin{\\left(\\operatorname{im}{\\left(x\\right)} \\right)} \\sinh{\\left(\\operatorname{re}{\\left(x\\right)} \\right)} \\frac{d}{d x} \\operatorname{re}{\\left(x\\right)} + \\cos{\\left(\\operatorname{im}{\\left(x\\right)} \\right)} \\cosh{\\left(\\operatorname{re}{\\left(x\\right)} \\right)} \\frac{d}{d x} \\operatorname{im}{\\left(x\\right)}\\right) \\sin{\\left(\\operatorname{im}{\\left(x\\right)} \\right)} \\cosh{\\left(\\operatorname{re}{\\left(x\\right)} \\right)} + \\left(- \\sin{\\left(\\operatorname{im}{\\left(x\\right)} \\right)} \\sinh{\\left(\\operatorname{re}{\\left(x\\right)} \\right)} \\frac{d}{d x} \\operatorname{im}{\\left(x\\right)} + \\cos{\\left(\\operatorname{im}{\\left(x\\right)} \\right)} \\cosh{\\left(\\operatorname{re}{\\left(x\\right)} \\right)} \\frac{d}{d x} \\operatorname{re}{\\left(x\\right)}\\right) \\cos{\\left(\\operatorname{im}{\\left(x\\right)} \\right)} \\sinh{\\left(\\operatorname{re}{\\left(x\\right)} \\right)}\\right) \\operatorname{sign}{\\left(\\sinh{\\left(x \\right)} \\right)}}{\\sinh{\\left(x \\right)} \\left|{\\sinh{\\left(x \\right)}}\\right|} & 0\\\\0 & - \\frac{\\left(\\tan^{2}{\\left(e^{\\left\\lfloor{\\operatorname{asech}{\\left(y \\right)}}\\right\\rfloor} \\right)} + 1\\right) e^{\\left\\lfloor{\\operatorname{asech}{\\left(y \\right)}}\\right\\rfloor} \\left. \\frac{d}{d \\xi_{1}} \\left\\lfloor{\\xi_{1}}\\right\\rfloor \\right|_{\\substack{ \\xi_{1}=\\operatorname{asech}{\\left(y \\right)} }}}{y \\sqrt{1 - y^{2}}}\\end{matrix}\\right]$"
      ],
      "text/plain": [
       "Matrix([\n",
       "[((sin(im(x))*sinh(re(x))*Derivative(re(x), x) + cos(im(x))*cosh(re(x))*Derivative(im(x), x))*sin(im(x))*cosh(re(x)) + (-sin(im(x))*sinh(re(x))*Derivative(im(x), x) + cos(im(x))*cosh(re(x))*Derivative(re(x), x))*cos(im(x))*sinh(re(x)))*sign(sinh(x))/(sinh(x)*Abs(sinh(x))),                                                                                                                                  0],\n",
       "[                                                                                                                                                                                                                                                                              0, -(tan(exp(floor(asech(y))))**2 + 1)*exp(floor(asech(y)))*Subs(Derivative(floor(_xi_1), _xi_1), _xi_1, asech(y))/(y*sqrt(1 - y**2))]])"
      ]
     },
     "execution_count": 107,
     "metadata": {},
     "output_type": "execute_result"
    }
   ],
   "source": [
    "a.jacobian([x,y])"
   ]
  },
  {
   "cell_type": "markdown",
   "metadata": {},
   "source": [
    "3. diferencijalni i integralni račun: neki težak integral, (parcijalna) diferencijalna jednadžba (možda s početnim uvjetom), implicitno zadane funkcije, limesi koji se ne mogu riješiti L'Hôpitalom,..."
   ]
  },
  {
   "cell_type": "code",
   "execution_count": 10,
   "metadata": {},
   "outputs": [
    {
     "data": {
      "image/png": "[encoded data removed]",
      "text/latex": [
       "$\\displaystyle \\frac{17 \\pi}{3}$"
      ],
      "text/plain": [
       "17⋅π\n",
       "────\n",
       " 3  "
      ]
     },
     "execution_count": 10,
     "metadata": {},
     "output_type": "execute_result"
    }
   ],
   "source": [
    "from sympy.abc import x, y, z\n",
    "\n",
    "integral = sp.Integral(x**2+y**2+z**2 , (y,-1*sp.sqrt(x*(2-x)) , sp.sqrt(x*(2-x))), (z,0,2), (x,0,2))\n",
    "integral.doit()"
   ]
  },
  {
   "cell_type": "code",
   "execution_count": 16,
   "metadata": {},
   "outputs": [
    {
     "data": {
      "image/png": "[encoded data removed]",
      "text/latex": [
       "$\\displaystyle \\frac{3 \\left(- \\frac{5 \\left(x + 1\\right)^{2}}{8 \\left(x + 5\\right)^{3}} + \\frac{3 \\left(x + 1\\right)}{2 \\left(x + 5\\right)^{2}} - \\frac{1}{x + 5} - \\frac{3 \\left(x + 1\\right)^{2}}{4 \\left(x - 1\\right) \\left(x + 5\\right)^{2}} + \\frac{2 \\left(x + 1\\right)}{\\left(x - 1\\right) \\left(x + 5\\right)} - \\frac{2}{x - 1} - \\frac{\\left(x + 1\\right)^{2}}{\\left(x - 1\\right)^{2} \\left(x + 5\\right)} + \\frac{4 \\left(x + 1\\right)}{\\left(x - 1\\right)^{2}} - \\frac{2 \\left(x + 1\\right)^{2}}{\\left(x - 1\\right)^{3}}\\right)}{\\left(x - 1\\right) \\sqrt{x + 5}}$"
      ],
      "text/plain": [
       "  ⎛           2                                     2                         \n",
       "  ⎜  5⋅(x + 1)    3⋅(x + 1)      1         3⋅(x + 1)           2⋅(x + 1)      \n",
       "3⋅⎜- ────────── + ────────── - ───── - ────────────────── + ─────────────── - \n",
       "  ⎜           3            2   x + 5                    2   (x - 1)⋅(x + 5)   \n",
       "  ⎝  8⋅(x + 5)    2⋅(x + 5)            4⋅(x - 1)⋅(x + 5)                      \n",
       "──────────────────────────────────────────────────────────────────────────────\n",
       "                                                                 _______      \n",
       "                                                       (x - 1)⋅╲╱ x + 5       \n",
       "\n",
       "                   2                            2⎞\n",
       "  2         (x + 1)        4⋅(x + 1)   2⋅(x + 1) ⎟\n",
       "───── - ──────────────── + ───────── - ──────────⎟\n",
       "x - 1          2                   2           3 ⎟\n",
       "        (x - 1) ⋅(x + 5)    (x - 1)     (x - 1)  ⎠\n",
       "──────────────────────────────────────────────────\n",
       "                                                  \n",
       "                                                  "
      ]
     },
     "execution_count": 16,
     "metadata": {},
     "output_type": "execute_result"
    }
   ],
   "source": [
    "#kolokvij ma2 2016\n",
    "derivacija = sp.Derivative((x+1)**2/(x-1)/sp.sqrt(x+5),  x, 3)\n",
    "derivacija.doit()"
   ]
  },
  {
   "cell_type": "code",
   "execution_count": 19,
   "metadata": {},
   "outputs": [],
   "source": [
    "#n ta derivacija\n",
    "\n",
    "funkcija = sp.sin(x**2-2*x+2)\n",
    "\n",
    "n = sp.symbols('n', positive=True)\n",
    "derivacija = sp.Derivative(funkcija,  x, n)\n"
   ]
  },
  {
   "cell_type": "code",
   "execution_count": 21,
   "metadata": {},
   "outputs": [
    {
     "data": {
      "image/png": "[encoded data removed]",
      "text/latex": [
       "$\\displaystyle \\frac{d^{2}}{d nd x} \\sin{\\left(x^{2} - 2 x + 2 \\right)}$"
      ],
      "text/plain": [
       "   2                    \n",
       "  d  ⎛   ⎛ 2          ⎞⎞\n",
       "─────⎝sin⎝x  - 2⋅x + 2⎠⎠\n",
       "dn dx                   "
      ]
     },
     "execution_count": 21,
     "metadata": {},
     "output_type": "execute_result"
    }
   ],
   "source": [
    "derivacija"
   ]
  },
  {
   "cell_type": "markdown",
   "metadata": {},
   "source": [
    "4. geometrija (ovo područje nismo baš obrađivali, ali možete vidjeti dokumentaciju na https://docs.sympy.org/latest/modules/geometry/index.html) - za ideje/zadatke možete posjetiti https://web.math.pmf.unizg.hr/~cerin/"
   ]
  },
  {
   "cell_type": "markdown",
   "metadata": {},
   "source": [
    "5. logika i zaključivanje (ask / assumptions / refine, upiti o svojstvima matematičkih objekata)"
   ]
  },
  {
   "cell_type": "markdown",
   "metadata": {},
   "source": [
    "  6.  algebarske manipulacije (pozitivni primjer će vjerojatno biti neki impresivni .simplify ili .factor, možda expand_func; naravno, negativni primjer može biti bilo što: )\n"
   ]
  },
  {
   "cell_type": "markdown",
   "metadata": {},
   "source": []
  }
 ],
 "metadata": {
  "kernelspec": {
   "display_name": "Python 3",
   "language": "python",
   "name": "python3"
  },
  "language_info": {
   "codemirror_mode": {
    "name": "ipython",
    "version": 3
   },
   "file_extension": ".py",
   "mimetype": "text/x-python",
   "name": "python",
   "nbconvert_exporter": "python",
   "pygments_lexer": "ipython3",
   "version": "3.7.7"
  }
 },
 "nbformat": 4,
 "nbformat_minor": 4
}
