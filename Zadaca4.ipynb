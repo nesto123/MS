{
 "cells": [
  {
   "cell_type": "markdown",
   "metadata": {},
   "source": [
    "[travanj -> Uskrs -> zečevi -> Fibonacci -> zlatni rez -> ?]\n",
    "\n",
    "Napišite funkciju koja prima n (jednoznamenkast) i crta zlatnu spiralu kroz n kvadrata. (Primjer za n=10, samo bez dijela spirale kroz prva dva kvadrata, je na https://i.stack.imgur.com/eHWK9.png.) U kvadratima trebaju biti upisani odgovarajući Fibonaccijevi brojevi (bilo bi dobro da su različitih veličina i da ih spirala ne siječe, ali nije nužno). Kvadrati bi trebali biti različitih boja (odaberite colormap s tim svojstvom po volji). Orijentirajte spiralu kako želite (bilo bi dobro da joj je za svaki n širina veća od visine, ali nije nužno).\n",
    "\n",
    "(Napominjem da \"spirala\" zapravo matematički nije spirala, već n spojenih četvrtinâ kruga.)\n",
    "\n",
    "Testirajte funkciju pozivanjem sa svim jednoznamenkastim brojevima."
   ]
  },
  {
   "cell_type": "code",
   "execution_count": 2,
   "metadata": {},
   "outputs": [],
   "source": [
    "import matplotlib.pyplot as plt\n",
    "import numpy as np\n",
    "import matplotlib.patches as patches\n",
    "import pylab as pl"
   ]
  },
  {
   "cell_type": "code",
   "execution_count": 3,
   "metadata": {},
   "outputs": [],
   "source": [
    "def fibonacci(n):\n",
    "    lista = [0, 1]\n",
    "    for i in range(2, n+1): #idemo od 0\n",
    "        lista.append( lista[-2] + lista[-1] )\n",
    "    return lista\n"
   ]
  },
  {
   "cell_type": "code",
   "execution_count": 4,
   "metadata": {},
   "outputs": [],
   "source": [
    "def kvadrat(x,y,fn, col, i, ax):\n",
    "    rect = patches.Rectangle((x,y),fn, fn,linewidth=1,edgecolor='red',facecolor=col);\n",
    "    if fn > 1:\n",
    "        plt.text( x + fn / 2, y + fn / 2, fn, fontsize=i+6)\n",
    "    ax.add_patch(rect)\n"
   ]
  },
  {
   "cell_type": "code",
   "execution_count": 5,
   "metadata": {},
   "outputs": [],
   "source": [
    "def circle(x, y, r, fi0, fi1, ax):\n",
    "    t = np.linspace(fi0, fi1)\n",
    "    ax.plot(x+r*np.cos(t), y+r*np.sin(t),color='black')"
   ]
  },
  {
   "cell_type": "code",
   "execution_count": 6,
   "metadata": {},
   "outputs": [],
   "source": [
    "def slucaj(i, x, y, fn, fn_1, col, ax):\n",
    "    if i == 0:\n",
    "        y ,x = 0\n",
    "    if i % 4 == 0:\n",
    "        y = y + fn_1;\n",
    "        circle(x+fn,y,fn, np.pi/2, np.pi, ax)\n",
    "    if i % 4 == 1:\n",
    "        y = y + fn_1 - fn\n",
    "        x = x + fn_1\n",
    "        circle(x, y,fn, 0, np.pi/2, ax)\n",
    "    if i % 4 == 2:\n",
    "        x = x + fn_1 - fn\n",
    "        y = y - fn\n",
    "        circle(x, y+fn,fn, -np.pi/2, 0, ax)\n",
    "    if i % 4 == 3:\n",
    "        x -= fn\n",
    "        circle(x+fn,y+fn, fn, np.pi, 3*np.pi/2 ,ax)\n",
    "    kvadrat(x, y, fn, col, i, ax)\n",
    "    return x,y\n",
    "    "
   ]
  },
  {
   "cell_type": "code",
   "execution_count": 7,
   "metadata": {
    "scrolled": true
   },
   "outputs": [],
   "source": [
    "def zlatni_rez( N = 10):\n",
    "    fib=(fibonacci(N))\n",
    "    fib.reverse()\n",
    "\n",
    "    fig, ax = plt.subplots()\n",
    "\n",
    "    ax.set_xlim(-1,fib[0]+fib[1]+1)\n",
    "    ax.set_ylim(-1,fib[0]+1)\n",
    "\n",
    "    rect = patches.Rectangle((0,0),fib[0]+fib[1], fib[0],linewidth=1,edgecolor='red',facecolor='none')\n",
    "    ax.add_patch(rect)\n",
    "    \n",
    "    plt.axis('off')\n",
    "    vs = np.random.randn(N)\n",
    "    normal = pl.Normalize(vs.min(), vs.max())\n",
    "    colors = pl.cm.jet(normal(vs))\n",
    "\n",
    "    x,y =0,0\n",
    "    #prvi kvadrat jos ispisat....\n",
    "    kvadrat(0,0, fib[0], colors[-1], N+1, ax)\n",
    "    circle(fib[0],y,fib[0], np.pi/2, np.pi, ax)\n",
    "    for i in range(1, len(fib)-1):\n",
    "        x,y = slucaj(i, x,y,fib[i], fib[i-1], colors[i], ax)\n",
    "    \n",
    "\n",
    "\n"
   ]
  },
  {
   "cell_type": "code",
   "execution_count": 8,
   "metadata": {},
   "outputs": [
    {
     "data": {
      "image/png": "[encoded data removed]",
      "text/plain": [
       "<Figure size 432x288 with 1 Axes>"
      ]
     },
     "metadata": {
      "needs_background": "light"
     },
     "output_type": "display_data"
    }
   ],
   "source": [
    "zlatni_rez()\n"
   ]
  },
  {
   "cell_type": "code",
   "execution_count": 15,
   "metadata": {
    "scrolled": true
   },
   "outputs": [
    {
     "data": {
      "image/png": "[encoded data removed]",
      "text/plain": [
       "<Figure size 432x288 with 1 Axes>"
      ]
     },
     "metadata": {
      "needs_background": "light"
     },
     "output_type": "display_data"
    }
   ],
   "source": [
    "zlatni_rez(7)"
   ]
  },
  {
   "cell_type": "code",
   "execution_count": null,
   "metadata": {},
   "outputs": [],
   "source": []
  }
 ],
 "metadata": {
  "kernelspec": {
   "display_name": "Python 3",
   "language": "python",
   "name": "python3"
  },
  "language_info": {
   "codemirror_mode": {
    "name": "ipython",
    "version": 3
   },
   "file_extension": ".py",
   "mimetype": "text/x-python",
   "name": "python",
   "nbconvert_exporter": "python",
   "pygments_lexer": "ipython3",
   "version": "3.7.7"
  }
 },
 "nbformat": 4,
 "nbformat_minor": 4
}
