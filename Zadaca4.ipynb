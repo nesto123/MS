{
 "cells": [
  {
   "cell_type": "markdown",
   "metadata": {},
   "source": [
    "[travanj -> Uskrs -> zečevi -> Fibonacci -> zlatni rez -> ?]\n",
    "\n",
    "Napišite funkciju koja prima n (jednoznamenkast) i crta zlatnu spiralu kroz n kvadrata. (Primjer za n=10, samo bez dijela spirale kroz prva dva kvadrata, je na https://i.stack.imgur.com/eHWK9.png.) U kvadratima trebaju biti upisani odgovarajući Fibonaccijevi brojevi (bilo bi dobro da su različitih veličina i da ih spirala ne siječe, ali nije nužno). Kvadrati bi trebali biti različitih boja (odaberite colormap s tim svojstvom po volji). Orijentirajte spiralu kako želite (bilo bi dobro da joj je za svaki n širina veća od visine, ali nije nužno).\n",
    "\n",
    "(Napominjem da \"spirala\" zapravo matematički nije spirala, već n spojenih četvrtinâ kruga.)\n",
    "\n",
    "Testirajte funkciju pozivanjem sa svim jednoznamenkastim brojevima.\n"
   ]
  },
  {
   "cell_type": "code",
   "execution_count": null,
   "metadata": {},
   "outputs": [],
   "source": []
  }
 ],
 "metadata": {
  "kernelspec": {
   "display_name": "Python 3",
   "language": "python",
   "name": "python3"
  },
  "language_info": {
   "codemirror_mode": {
    "name": "ipython",
    "version": 3
   },
   "file_extension": ".py",
   "mimetype": "text/x-python",
   "name": "python",
   "nbconvert_exporter": "python",
   "pygments_lexer": "ipython3",
   "version": "3.7.7"
  }
 },
 "nbformat": 4,
 "nbformat_minor": 4
}
