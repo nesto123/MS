{
 "cells": [
  {
   "cell_type": "markdown",
   "metadata": {},
   "source": [
    "# Sympy"
   ]
  },
  {
   "cell_type": "markdown",
   "metadata": {},
   "source": [
    "Standardno uvezemo Sympy pod uobičajenom skraćenicom `sp`. Pozivom funkcije `init_printing` podešavamo lijep ispis matematičkih izraza unutar Jupytera (konkretno, koristeći $\\LaTeX$). Ako želimo Sympy koristiti interaktivno kao \"pametni kalkulator\", možemo umjesto `init_printing` pozvati `init_session`, što će automatski uvesti sve (`*`) iz Sympyjevog prostora imena u tekući, i još definirati nekoliko simbola za uobičajene \"varijable\" (više o simbolima kasnije). No ako želimo programirati kao da je Sympy samo još jedan modul, dobro je ne pozvati `init_session`, nego ručno konstruirati simbole koji nam trebaju, i dohvaćati Sympyjeve funkcije eksplicitnim navođenjem `sp.`."
   ]
  },
  {
   "cell_type": "code",
   "execution_count": 1,
   "metadata": {},
   "outputs": [],
   "source": [
    "import sympy as sp\n",
    "sp.init_printing()"
   ]
  },
  {
   "cell_type": "markdown",
   "metadata": {},
   "source": [
    "## Računanje s brojevima"
   ]
  },
  {
   "cell_type": "markdown",
   "metadata": {},
   "source": [
    "Evo jednostavnog primjera koji pokazuje razliku numeričkog i simboličkog računanja. $\\sqrt 8$ nije izračunat na određeni broj decimala (približno), već je pojednostavljen egzaktno."
   ]
  },
  {
   "cell_type": "code",
   "execution_count": 2,
   "metadata": {},
   "outputs": [
    {
     "data": {
      "image/png": "[encoded data removed]",
      "text/latex": [
       "$\\displaystyle 2 \\sqrt{2}$"
      ],
      "text/plain": [
       "2⋅√2"
      ]
     },
     "execution_count": 2,
     "metadata": {},
     "output_type": "execute_result"
    }
   ],
   "source": [
    "x = sp.sqrt(8)\n",
    "x"
   ]
  },
  {
   "cell_type": "markdown",
   "metadata": {},
   "source": [
    "Naravno, ako nemamo LaTeX ili želimo dalje poslati taj izraz nekome tko razumije samo nizove znakova, možemo ga jednostavno pretvoriti u string pomoću poziva `str` (ili `print` ako to odmah želimo ispisati). Također, ako želimo izraz uvrstiti u neki LaTeX-dokument, lako je dobiti kod koji moramo zalijepiti. Funkcija `pprint` također zna na razne načine vizualno reprezentirati izraze tako da budu što sličniji uobičajenoj matematičkoj notaciji."
   ]
  },
  {
   "cell_type": "code",
   "execution_count": 10,
   "metadata": {},
   "outputs": [
    {
     "name": "stdout",
     "output_type": "stream",
     "text": [
      "2*sqrt(2)\n",
      "\n",
      "2 \\sqrt{2}\n",
      "\n",
      "2⋅√2\n",
      "    ___\n",
      "2*\\/ 2 \n"
     ]
    }
   ],
   "source": [
    "print(x)\n",
    "print()\n",
    "print(sp.latex(x))\n",
    "print()\n",
    "sp.pprint(x)\n",
    "sp.pprint(x, use_unicode=False)"
   ]
  },
  {
   "cell_type": "markdown",
   "metadata": {},
   "source": [
    "Interna reprezentacija takvog izraza je stablo, čiji korijen (`.func`) predstavlja vrstu izraza, a glavna podstabla (`.args`) dijelove izraza. Iz naziva tih atributa vidimo da su prvenstveno zamišljeni za modeliranje poziva funkcije (`func(args)`), ali zapravo se mogu koristiti i za razne druge stvari: operacije (`Mul(faktor1, faktor2)`), pa čak i tipove podataka (`Integer(cijeli_broj)`). Funkcija `.srepr` pretvara to stablo u string."
   ]
  },
  {
   "cell_type": "code",
   "execution_count": 4,
   "metadata": {},
   "outputs": [
    {
     "data": {
      "text/plain": [
       "'Mul(Integer(2), Pow(Integer(2), Rational(1, 2)))'"
      ]
     },
     "execution_count": 4,
     "metadata": {},
     "output_type": "execute_result"
    }
   ],
   "source": [
    "sp.srepr(x)"
   ]
  },
  {
   "cell_type": "code",
   "execution_count": 5,
   "metadata": {},
   "outputs": [
    {
     "data": {
      "text/plain": [
       "(sympy.core.mul.Mul, (2, sqrt(2)))"
      ]
     },
     "execution_count": 5,
     "metadata": {},
     "output_type": "execute_result"
    }
   ],
   "source": [
    "x.func, x.args"
   ]
  },
  {
   "cell_type": "markdown",
   "metadata": {},
   "source": [
    "Pomoću `.args` i indeksa (uglatih zagrada) možemo doći na proizvoljno mjesto u izrazu ('kretati se kroz stablo')."
   ]
  },
  {
   "cell_type": "code",
   "execution_count": 6,
   "metadata": {},
   "outputs": [
    {
     "data": {
      "image/png": "[encoded data removed]",
      "text/latex": [
       "$\\displaystyle 2$"
      ],
      "text/plain": [
       "2"
      ]
     },
     "execution_count": 6,
     "metadata": {},
     "output_type": "execute_result"
    }
   ],
   "source": [
    "x.args[1].args[0]"
   ]
  },
  {
   "cell_type": "markdown",
   "metadata": {},
   "source": [
    "Stablasta struktura Sympyjevih izraza ne prati doslovno Pythonova apstraktna sintaksna stabla. Recimo, matematički, oduzimanje nije zasebna operacija, već jednostavno zbrajanje sa suprotnim brojem --- a u prstenu s jedinicom, suprotni broj možemo dobiti množenjem s konstantom $-1$. Potpuno analogno, dijeljenje se dobije množenjem s multiplikativnim inverzom, koji se pak dobije potenciranjem eksponentom $-1$.\n",
    "\n",
    "Na taj način, već pri pretvaranju u kanonski oblik stabla, možemo ustanoviti jednakost nekih izraza. Pythonov `==` uspoređuje izraze kao stabla i ne pokušava transformirati jedan u drugi, ali svejedno zna da je $-a+b=b-a$ jer je zbrajanje komutativno (korijen `Add` pri konstrukciji stabla odmah sortira svoju djecu)."
   ]
  },
  {
   "cell_type": "code",
   "execution_count": 7,
   "metadata": {},
   "outputs": [
    {
     "data": {
      "image/png": "[encoded data removed]",
      "text/latex": [
       "$\\displaystyle - \\sqrt{3} + \\sqrt{2}$"
      ],
      "text/plain": [
       "-√3 + √2"
      ]
     },
     "execution_count": 7,
     "metadata": {},
     "output_type": "execute_result"
    }
   ],
   "source": [
    "y = sp.sqrt(2) - sp.sqrt(3)\n",
    "y"
   ]
  },
  {
   "cell_type": "code",
   "execution_count": 8,
   "metadata": {},
   "outputs": [
    {
     "data": {
      "text/plain": [
       "'Add(Mul(Integer(-1), Pow(Integer(3), Rational(1, 2))), Pow(Integer(2), Rational(1, 2)))'"
      ]
     },
     "execution_count": 8,
     "metadata": {},
     "output_type": "execute_result"
    }
   ],
   "source": [
    "sp.srepr(y)"
   ]
  },
  {
   "cell_type": "code",
   "execution_count": 9,
   "metadata": {},
   "outputs": [
    {
     "data": {
      "text/plain": [
       "True"
      ]
     },
     "execution_count": 9,
     "metadata": {},
     "output_type": "execute_result"
    }
   ],
   "source": [
    "-sp.sqrt(3) + sp.sqrt(2) == y"
   ]
  },
  {
   "cell_type": "markdown",
   "metadata": {},
   "source": [
    "Naravno, glavna prednost simboličkog računanja je u tome što nemamo grešaka aproksimacije: $x^2$ je točno $8$. Ipak, ponekad bismo htjeli neki broj (najčešće konačni rezultat) numerički aproksimirati, odnosno izračunati na zadani broj decimala. Tome služi metoda `.n`."
   ]
  },
  {
   "cell_type": "code",
   "execution_count": 10,
   "metadata": {},
   "outputs": [
    {
     "data": {
      "text/plain": [
       "True"
      ]
     },
     "execution_count": 10,
     "metadata": {},
     "output_type": "execute_result"
    }
   ],
   "source": [
    "x**2 == 8"
   ]
  },
  {
   "cell_type": "code",
   "execution_count": 11,
   "metadata": {},
   "outputs": [
    {
     "data": {
      "image/png": "[encoded data removed]",
      "text/latex": [
       "$\\displaystyle 2.8284271247461900976033774484193961571393437507539$"
      ],
      "text/plain": [
       "2.8284271247461900976033774484193961571393437507539"
      ]
     },
     "execution_count": 11,
     "metadata": {},
     "output_type": "execute_result"
    }
   ],
   "source": [
    "x.n(50)"
   ]
  },
  {
   "cell_type": "markdown",
   "metadata": {},
   "source": [
    "## Simboli"
   ]
  },
  {
   "cell_type": "markdown",
   "metadata": {},
   "source": [
    "Egzaktnim računanjem s brojevima već možemo mnogo toga, ali puna snaga Sympyja dolazi od baratanja *simbolima*, koji predstavljaju matematičke varijable. Običaj je da se simbolu $t$ (koji je objekt) dade ime, najčešće globalno, `t` u Pythonu. Tako možemo kasnije jednostavno referirati na njih u izrazima. Jednu ili više takvih asocijacija možemo stvoriti pozivom funkcije `symbols`, a jednoslovne simbole (latinične ili grčke) možemo i uvesti iz modula `sympy.abc`.\n",
    "\n",
    "Pri pozivu `symbols` sami biramo kako će se objekt zvati (možemo birati ime koje je lakše tipkati za Python, a ime koje ljepše izgleda u formulama za Sympy). To možemo i u slučaju uvoza iz `sympy.abc`, korištenjem `as`. No običaj je da se imena koriste u što sličnijem obliku (napomena: $\\lambda$ se zove `sympy.abc.lamda`, jer je `lambda` ključna riječ u Pythonu), da ne moramo puno toga pamtiti.\n",
    "\n",
    "*Napomena:* u `sp.abc` postoje i simboli `i`, `pi` i `e`, ali bez semantike kakvu u matematici obično vezujemo uz te simbole. Treba biti oprezan da ne pobrkamo `sp.abc.i` i `sp.I` (imaginarna jedinica), `sp.abc.e` i `sp.E` (baza prirodnog logaritma), te `sp.abc.pi` i `sp.pi` (površina jediničnog kruga)."
   ]
  },
  {
   "cell_type": "code",
   "execution_count": 12,
   "metadata": {},
   "outputs": [
    {
     "data": {
      "image/png": "[encoded data removed]",
      "text/latex": [
       "$\\displaystyle v = \\frac{s}{t}$"
      ],
      "text/plain": [
       "    s\n",
       "v = ─\n",
       "    t"
      ]
     },
     "execution_count": 12,
     "metadata": {},
     "output_type": "execute_result"
    }
   ],
   "source": [
    "brzina, put, vrijeme = sp.symbols('v, s, t')\n",
    "izraz = sp.Eq(brzina, put / vrijeme)\n",
    "izraz"
   ]
  },
  {
   "cell_type": "code",
   "execution_count": 13,
   "metadata": {},
   "outputs": [
    {
     "data": {
      "image/png": "[encoded data removed]",
      "text/latex": [
       "$\\displaystyle r \\sin{\\left(\\theta + \\frac{\\pi}{3} \\right)}$"
      ],
      "text/plain": [
       "     ⎛    π⎞\n",
       "r⋅sin⎜θ + ─⎟\n",
       "     ⎝    3⎠"
      ]
     },
     "execution_count": 13,
     "metadata": {},
     "output_type": "execute_result"
    }
   ],
   "source": [
    "from sympy.abc import r, theta\n",
    "polarno = r * sp.sin(theta + sp.pi/3)\n",
    "polarno"
   ]
  },
  {
   "cell_type": "code",
   "execution_count": 14,
   "metadata": {},
   "outputs": [
    {
     "data": {
      "text/plain": [
       "\"Equality(Symbol('v'), Mul(Symbol('s'), Pow(Symbol('t'), Integer(-1))))\""
      ]
     },
     "execution_count": 14,
     "metadata": {},
     "output_type": "execute_result"
    }
   ],
   "source": [
    "sp.srepr(izraz)"
   ]
  },
  {
   "cell_type": "code",
   "execution_count": 15,
   "metadata": {},
   "outputs": [
    {
     "data": {
      "text/plain": [
       "sympy.core.symbol.Symbol"
      ]
     },
     "execution_count": 15,
     "metadata": {},
     "output_type": "execute_result"
    }
   ],
   "source": [
    "izraz.args[1].args[1].args[0].func"
   ]
  },
  {
   "cell_type": "markdown",
   "metadata": {},
   "source": [
    "### Supstiticije"
   ]
  },
  {
   "cell_type": "markdown",
   "metadata": {},
   "source": [
    "Pomoću metode `.subs` možemo simbole (ili podizraze, ali vidjeli smo da što su Sympyju podizrazi ne mora biti baš intuitivno) u izrazu zamjenjivati nekim drugim izrazima."
   ]
  },
  {
   "cell_type": "code",
   "execution_count": 16,
   "metadata": {},
   "outputs": [
    {
     "data": {
      "image/png": "[encoded data removed]",
      "text/latex": [
       "$\\displaystyle 15 = \\frac{s}{t + 60}$"
      ],
      "text/plain": [
       "       s   \n",
       "15 = ──────\n",
       "     t + 60"
      ]
     },
     "execution_count": 16,
     "metadata": {},
     "output_type": "execute_result"
    }
   ],
   "source": [
    "izraz.subs({brzina: 15, vrijeme: vrijeme+60})"
   ]
  },
  {
   "cell_type": "code",
   "execution_count": 17,
   "metadata": {},
   "outputs": [
    {
     "data": {
      "image/png": "[encoded data removed]",
      "text/latex": [
       "$\\displaystyle 2 x^{5} - 2 x + y^{6} - y^{4} + 4 y^{2} - 4 z^{3} + 3$"
      ],
      "text/plain": [
       "   5          6    4      2      3    \n",
       "2⋅x  - 2⋅x + y  - y  + 4⋅y  - 4⋅z  + 3"
      ]
     },
     "execution_count": 17,
     "metadata": {},
     "output_type": "execute_result"
    }
   ],
   "source": [
    "x, y, z = sp.symbols('x, y, z')\n",
    "(x**6 + 2*x**5 - x**4 - 4*x**3 + 4*x**2 - 2*x + 3).subs({x**3: z**3, x**2: y**2})"
   ]
  },
  {
   "cell_type": "markdown",
   "metadata": {},
   "source": [
    "Uzastopnim supstitucijama uz LaTeXov *rendering engine* možemo čak dobiti i [lijepe slike](https://en.wikipedia.org/wiki/Iterated_function_system)."
   ]
  },
  {
   "cell_type": "code",
   "execution_count": 18,
   "metadata": {
    "scrolled": true
   },
   "outputs": [
    {
     "data": {
      "image/png": "[encoded data removed]",
      "text/latex": [
       "$\\displaystyle \\left(\\left(\\left(\\left(o^{o}\\right)^{o^{o}}\\right)^{\\left(o^{o}\\right)^{o^{o}}}\\right)^{\\left(\\left(o^{o}\\right)^{o^{o}}\\right)^{\\left(o^{o}\\right)^{o^{o}}}}\\right)^{\\left(\\left(\\left(o^{o}\\right)^{o^{o}}\\right)^{\\left(o^{o}\\right)^{o^{o}}}\\right)^{\\left(\\left(o^{o}\\right)^{o^{o}}\\right)^{\\left(o^{o}\\right)^{o^{o}}}}}$"
      ],
      "text/plain": [
       "                                              ⎛                      ⎛        \n",
       "                                              ⎜                      ⎜        \n",
       "                                              ⎜                      ⎜        \n",
       "                                              ⎜                      ⎜        \n",
       "                                              ⎜                      ⎜⎛    ⎛ o\n",
       "                                              ⎜                      ⎜⎜    ⎝o \n",
       "                                              ⎜                      ⎜⎜⎛ o⎞   \n",
       "                                              ⎜                      ⎝⎝⎝o ⎠   \n",
       "                                              ⎜⎛          ⎛    ⎛ o⎞⎞⎞         \n",
       "                                              ⎜⎜          ⎜    ⎝o ⎠⎟⎟         \n",
       "                                              ⎜⎜          ⎜⎛ o⎞    ⎟⎟         \n",
       "                                              ⎜⎜          ⎝⎝o ⎠    ⎠⎟         \n",
       "                                              ⎜⎜⎛    ⎛ o⎞⎞          ⎟         \n",
       "                                              ⎜⎜⎜    ⎝o ⎠⎟          ⎟         \n",
       "                                              ⎜⎜⎜⎛ o⎞    ⎟          ⎟         \n",
       "                                              ⎝⎝⎝⎝o ⎠    ⎠          ⎠         \n",
       "⎛                      ⎛          ⎛    ⎛ o⎞⎞⎞⎞                                \n",
       "⎜                      ⎜          ⎜    ⎝o ⎠⎟⎟⎟                                \n",
       "⎜                      ⎜          ⎜⎛ o⎞    ⎟⎟⎟                                \n",
       "⎜                      ⎜          ⎝⎝o ⎠    ⎠⎟⎟                                \n",
       "⎜                      ⎜⎛    ⎛ o⎞⎞          ⎟⎟                                \n",
       "⎜                      ⎜⎜    ⎝o ⎠⎟          ⎟⎟                                \n",
       "⎜                      ⎜⎜⎛ o⎞    ⎟          ⎟⎟                                \n",
       "⎜                      ⎝⎝⎝o ⎠    ⎠          ⎠⎟                                \n",
       "⎜⎛          ⎛    ⎛ o⎞⎞⎞                      ⎟                                \n",
       "⎜⎜          ⎜    ⎝o ⎠⎟⎟                      ⎟                                \n",
       "⎜⎜          ⎜⎛ o⎞    ⎟⎟                      ⎟                                \n",
       "⎜⎜          ⎝⎝o ⎠    ⎠⎟                      ⎟                                \n",
       "⎜⎜⎛    ⎛ o⎞⎞          ⎟                      ⎟                                \n",
       "⎜⎜⎜    ⎝o ⎠⎟          ⎟                      ⎟                                \n",
       "⎜⎜⎜⎛ o⎞    ⎟          ⎟                      ⎟                                \n",
       "⎝⎝⎝⎝o ⎠    ⎠          ⎠                      ⎠                                \n",
       "\n",
       "  ⎛    ⎛ o⎞⎞⎞⎞\n",
       "  ⎜    ⎝o ⎠⎟⎟⎟\n",
       "  ⎜⎛ o⎞    ⎟⎟⎟\n",
       "  ⎝⎝o ⎠    ⎠⎟⎟\n",
       "⎞⎞          ⎟⎟\n",
       "⎠⎟          ⎟⎟\n",
       " ⎟          ⎟⎟\n",
       " ⎠          ⎠⎟\n",
       "             ⎟\n",
       "             ⎟\n",
       "             ⎟\n",
       "             ⎟\n",
       "             ⎟\n",
       "             ⎟\n",
       "             ⎟\n",
       "             ⎠\n",
       "              \n",
       "              \n",
       "              \n",
       "              \n",
       "              \n",
       "              \n",
       "              \n",
       "              \n",
       "              \n",
       "              \n",
       "              \n",
       "              \n",
       "              \n",
       "              \n",
       "              \n",
       "              "
      ]
     },
     "execution_count": 18,
     "metadata": {},
     "output_type": "execute_result"
    }
   ],
   "source": [
    "from sympy.abc import o\n",
    "fraktal = o\n",
    "for korak in range(5): fraktal = fraktal.subs(o, o**o)\n",
    "fraktal"
   ]
  },
  {
   "cell_type": "markdown",
   "metadata": {},
   "source": [
    "Ako želimo aproksimirati vrijednost izraza na određeni broj decimala, puno je bolje (brže, a često i točnije) dati argument `subs` metodi `.n` nego pozivati prvo `.subs` pa `.n` zasebno."
   ]
  },
  {
   "cell_type": "code",
   "execution_count": 19,
   "metadata": {},
   "outputs": [
    {
     "data": {
      "image/png": "[encoded data removed]",
      "text/latex": [
       "$\\displaystyle 4.829629131445341433748715998644486838169524195042$"
      ],
      "text/plain": [
       "4.8296291314453414337487159986444868381695241950420"
      ]
     },
     "execution_count": 19,
     "metadata": {},
     "output_type": "execute_result"
    }
   ],
   "source": [
    "polarno.n(50, subs={r: 5, theta: sp.pi/4})"
   ]
  },
  {
   "cell_type": "markdown",
   "metadata": {},
   "source": [
    "## Analiza"
   ]
  },
  {
   "cell_type": "markdown",
   "metadata": {},
   "source": [
    "Na izrazima možemo primjenjivati razne operatore: deriviranja, integriranja, sumiranja, limesa, ...\n",
    "\n",
    "Svi takvi komplicirani operatori imaju metodu `.doit` koja zapravo provodi simbolički račun -- sâm poziv operatora samo konstruira simbolički izraz (koji možemo ispisati da bismo vidjeli da je Sympy ispravno shvatio što hoćemo)."
   ]
  },
  {
   "cell_type": "code",
   "execution_count": 20,
   "metadata": {
    "scrolled": true
   },
   "outputs": [
    {
     "data": {
      "image/png": "[encoded data removed]",
      "text/latex": [
       "$\\displaystyle \\frac{\\partial^{4}}{\\partial y^{3}\\partial x} e^{y} \\sin{\\left(x + y \\right)}$"
      ],
      "text/plain": [
       "   4                 \n",
       "  ∂   ⎛ y           ⎞\n",
       "──────⎝ℯ ⋅sin(x + y)⎠\n",
       "  3                  \n",
       "∂y  ∂x               "
      ]
     },
     "execution_count": 20,
     "metadata": {},
     "output_type": "execute_result"
    }
   ],
   "source": [
    "from sympy.abc import x, y\n",
    "der_zadatak = sp.Derivative(sp.sin(x+y) * sp.E**y, x, y, 3)\n",
    "der_zadatak"
   ]
  },
  {
   "cell_type": "code",
   "execution_count": 21,
   "metadata": {},
   "outputs": [
    {
     "data": {
      "image/png": "[encoded data removed]",
      "text/latex": [
       "$\\displaystyle - 2 \\left(\\sin{\\left(x + y \\right)} + \\cos{\\left(x + y \\right)}\\right) e^{y}$"
      ],
      "text/plain": [
       "                              y\n",
       "-2⋅(sin(x + y) + cos(x + y))⋅ℯ "
      ]
     },
     "execution_count": 21,
     "metadata": {},
     "output_type": "execute_result"
    }
   ],
   "source": [
    "der_rješenje = der_zadatak.doit()\n",
    "der_rješenje"
   ]
  },
  {
   "cell_type": "code",
   "execution_count": 22,
   "metadata": {},
   "outputs": [
    {
     "name": "stdout",
     "output_type": "stream",
     "text": [
      "\\iiiint - 2 \\left(\\sin{\\left(x + y \\right)} + \\cos{\\left(x + y \\right)}\\right) e^{y}\\, dy\\, dy\\, dy\\, dx\n"
     ]
    },
    {
     "data": {
      "image/png": "[encoded data removed]",
      "text/latex": [
       "$\\displaystyle \\iiiint - 2 \\left(\\sin{\\left(x + y \\right)} + \\cos{\\left(x + y \\right)}\\right) e^{y}\\, dy\\, dy\\, dy\\, dx$"
      ],
      "text/plain": [
       "⌠ ⌠ ⌠ ⌠                                            \n",
       "⎮ ⎮ ⎮ ⎮                               y            \n",
       "⎮ ⎮ ⎮ ⎮ -2⋅(sin(x + y) + cos(x + y))⋅ℯ  dy dy dy dx\n",
       "⌡ ⌡ ⌡ ⌡                                            "
      ]
     },
     "execution_count": 22,
     "metadata": {},
     "output_type": "execute_result"
    }
   ],
   "source": [
    "integral_zadatak = sp.Integral(der_rješenje, y, y, y, x)\n",
    "print(sp.latex(integral_zadatak))\n",
    "integral_zadatak"
   ]
  },
  {
   "cell_type": "code",
   "execution_count": 23,
   "metadata": {},
   "outputs": [
    {
     "name": "stdout",
     "output_type": "stream",
     "text": [
      "CPU times: user 1.9 s, sys: 14.7 ms, total: 1.91 s\n",
      "Wall time: 1.91 s\n"
     ]
    },
    {
     "data": {
      "image/png": "[encoded data removed]",
      "text/latex": [
       "$\\displaystyle e^{y} \\sin{\\left(x + y \\right)}$"
      ],
      "text/plain": [
       " y           \n",
       "ℯ ⋅sin(x + y)"
      ]
     },
     "execution_count": 23,
     "metadata": {},
     "output_type": "execute_result"
    }
   ],
   "source": [
    "%time integral_zadatak.doit()"
   ]
  },
  {
   "cell_type": "markdown",
   "metadata": {},
   "source": [
    "Sympy zna svašta integirati simbolički, možda i neke integrale koje vi (niti ja) ne znate.\n",
    "\n",
    "Određeni integrali se pišu kao `Integral(`izraz`, (`varijabla`, `od`, `do`))`.\n",
    "`sp.oo` je oznaka za plus beskonačno."
   ]
  },
  {
   "cell_type": "code",
   "execution_count": 24,
   "metadata": {},
   "outputs": [
    {
     "data": {
      "image/png": "[encoded data removed]",
      "text/latex": [
       "$\\displaystyle \\frac{x \\sqrt{x^{2} + 1}}{2} + \\frac{\\operatorname{asinh}{\\left(x \\right)}}{2}$"
      ],
      "text/plain": [
       "     ________           \n",
       "    ╱  2                \n",
       "x⋅╲╱  x  + 1    asinh(x)\n",
       "───────────── + ────────\n",
       "      2            2    "
      ]
     },
     "execution_count": 24,
     "metadata": {},
     "output_type": "execute_result"
    }
   ],
   "source": [
    "sp.Integral(sp.sqrt(x**2 + 1)).doit()"
   ]
  },
  {
   "cell_type": "code",
   "execution_count": 25,
   "metadata": {},
   "outputs": [
    {
     "data": {
      "image/png": "[encoded data removed]",
      "text/latex": [
       "$\\displaystyle \\frac{\\sqrt{2} \\sqrt{\\pi}}{4}$"
      ],
      "text/plain": [
       "√2⋅√π\n",
       "─────\n",
       "  4  "
      ]
     },
     "execution_count": 25,
     "metadata": {},
     "output_type": "execute_result"
    }
   ],
   "source": [
    "sp.Integral(sp.sin(x**2), (x, 0, sp.oo)).doit()"
   ]
  },
  {
   "cell_type": "markdown",
   "metadata": {},
   "source": [
    "Evo i nekoliko limesa. Vidimo da Sympy zna mnoge limese iz Matematičke analize (zapravo zna L'Hôpitalovo pravilo, pa pomoću njega računa). Kao opcionalni zadnji argument u `sp.Limit` možemo navesti smjer iz kojeg se limes računa (može biti `'+'` za limes zdesna, `'-'` za limes slijeva, ili `'+-'` za obostrane limese -- no podrazumijevana vrijednost je `'+'` pa morate specificirati ako želite obostrani limes)."
   ]
  },
  {
   "cell_type": "code",
   "execution_count": 26,
   "metadata": {},
   "outputs": [
    {
     "data": {
      "image/png": "[encoded data removed]",
      "text/latex": [
       "$\\displaystyle \\lim_{x \\to 0}\\left(\\frac{\\cos{\\left(x \\right)} - 1}{x^{2}}\\right) = - \\frac{1}{2}$"
      ],
      "text/plain": [
       "    ⎛cos(x) - 1⎞       \n",
       "lim ⎜──────────⎟ = -1/2\n",
       "x─→0⎜     2    ⎟       \n",
       "    ⎝    x     ⎠       "
      ]
     },
     "execution_count": 26,
     "metadata": {},
     "output_type": "execute_result"
    }
   ],
   "source": [
    "limes = sp.Limit((sp.cos(x) - 1) / x**2, x, 0, '+-')\n",
    "sp.Eq(limes, limes.doit())"
   ]
  },
  {
   "cell_type": "markdown",
   "metadata": {},
   "source": [
    "Sympy zna da eksponencijalna funkcija raste brže od potencije."
   ]
  },
  {
   "cell_type": "code",
   "execution_count": 27,
   "metadata": {},
   "outputs": [
    {
     "data": {
      "image/png": "[encoded data removed]",
      "text/latex": [
       "$\\displaystyle \\infty$"
      ],
      "text/plain": [
       "∞"
      ]
     },
     "execution_count": 27,
     "metadata": {},
     "output_type": "execute_result"
    }
   ],
   "source": [
    "from sympy.abc import n\n",
    "sp.Limit(sp.E**x / x**n, x, sp.oo).doit()"
   ]
  },
  {
   "cell_type": "markdown",
   "metadata": {},
   "source": [
    "### Redovi"
   ]
  },
  {
   "cell_type": "code",
   "execution_count": 28,
   "metadata": {},
   "outputs": [
    {
     "data": {
      "image/png": "[encoded data removed]",
      "text/latex": [
       "$\\displaystyle \\sum_{x=3}^{\\infty} \\frac{1}{x^{2}} = - \\frac{5}{4} + \\frac{\\pi^{2}}{6}$"
      ],
      "text/plain": [
       "  ∞                \n",
       " ____              \n",
       " ╲                 \n",
       "  ╲   1           2\n",
       "   ╲  ──     5   π \n",
       "   ╱   2 = - ─ + ──\n",
       "  ╱   x      4   6 \n",
       " ╱                 \n",
       " ‾‾‾‾              \n",
       "x = 3              "
      ]
     },
     "execution_count": 28,
     "metadata": {},
     "output_type": "execute_result"
    }
   ],
   "source": [
    "red = sp.Sum(x**-2, (x, 3, sp.oo))\n",
    "sp.Eq(red, red.doit())"
   ]
  },
  {
   "cell_type": "code",
   "execution_count": 29,
   "metadata": {
    "scrolled": true
   },
   "outputs": [
    {
     "data": {
      "image/png": "[encoded data removed]",
      "text/latex": [
       "$\\displaystyle \\sum_{x=4}^{10} \\frac{1}{x^{2}} = \\frac{239609}{1270080}$"
      ],
      "text/plain": [
       "  10              \n",
       " ____             \n",
       " ╲                \n",
       "  ╲   1           \n",
       "   ╲  ──    239609\n",
       "   ╱   2 = ───────\n",
       "  ╱   x    1270080\n",
       " ╱                \n",
       " ‾‾‾‾             \n",
       "x = 4             "
      ]
     },
     "execution_count": 29,
     "metadata": {},
     "output_type": "execute_result"
    }
   ],
   "source": [
    "suma = sp.Sum(x**-2, (x, 4, 10))\n",
    "sp.Eq(suma, suma.doit())"
   ]
  },
  {
   "cell_type": "markdown",
   "metadata": {},
   "source": [
    "Metodom `.series` možemo izraz razviti u red do nekog člana (eksponenta). Možemo navesti varijablu $x$ po kojoj razvijamo, točku $\\alpha$ oko koje razvijamo, eksponent $n$ do kojeg razvijamo, i smjer (`'+'` ili `'-'`). Povratna vrijednost u sebi uključuje i član s ocjenom greške $O((x-\\alpha)^n)$ --- ako ga želimo maknuti, pozovemo metodu `removeO()`."
   ]
  },
  {
   "cell_type": "code",
   "execution_count": 30,
   "metadata": {
    "scrolled": true
   },
   "outputs": [
    {
     "data": {
      "image/png": "[encoded data removed]",
      "text/latex": [
       "$\\displaystyle \\frac{1}{- x + \\frac{\\pi}{2}} - \\frac{\\pi}{6} - \\frac{\\left(- x + \\frac{\\pi}{2}\\right)^{3}}{45} - \\frac{2 \\left(- x + \\frac{\\pi}{2}\\right)^{5}}{945} - \\frac{\\left(- x + \\frac{\\pi}{2}\\right)^{7}}{4725} + \\frac{x}{3} + O\\left(\\left(x - \\frac{\\pi}{2}\\right)^{9}; x\\rightarrow \\frac{\\pi}{2}\\right)$"
      ],
      "text/plain": [
       "                     3             5           7                         \n",
       "             ⎛     π⎞      ⎛     π⎞    ⎛     π⎞                          \n",
       "             ⎜-x + ─⎟    2⋅⎜-x + ─⎟    ⎜-x + ─⎟         ⎛       9       ⎞\n",
       "  1      π   ⎝     2⎠      ⎝     2⎠    ⎝     2⎠    x    ⎜⎛    π⎞       π⎟\n",
       "────── - ─ - ───────── - ─────────── - ───────── + ─ + O⎜⎜x - ─⎟ ; x → ─⎟\n",
       "     π   6       45          945          4725     3    ⎝⎝    2⎠       2⎠\n",
       "-x + ─                                                                   \n",
       "     2                                                                   "
      ]
     },
     "execution_count": 30,
     "metadata": {},
     "output_type": "execute_result"
    }
   ],
   "source": [
    "razvoj = sp.tan(x).series(x, sp.pi/2, 9, '-')\n",
    "razvoj"
   ]
  },
  {
   "cell_type": "code",
   "execution_count": 31,
   "metadata": {
    "scrolled": true
   },
   "outputs": [
    {
     "data": {
      "image/png": "[encoded data removed]",
      "text/latex": [
       "$\\displaystyle \\frac{x}{3} - \\frac{\\left(- x + \\frac{\\pi}{2}\\right)^{7}}{4725} - \\frac{2 \\left(- x + \\frac{\\pi}{2}\\right)^{5}}{945} - \\frac{\\left(- x + \\frac{\\pi}{2}\\right)^{3}}{45} - \\frac{\\pi}{6} + \\frac{1}{- x + \\frac{\\pi}{2}}$"
      ],
      "text/plain": [
       "            7             5           3             \n",
       "    ⎛     π⎞      ⎛     π⎞    ⎛     π⎞              \n",
       "    ⎜-x + ─⎟    2⋅⎜-x + ─⎟    ⎜-x + ─⎟              \n",
       "x   ⎝     2⎠      ⎝     2⎠    ⎝     2⎠    π     1   \n",
       "─ - ───────── - ─────────── - ───────── - ─ + ──────\n",
       "3      4725         945           45      6        π\n",
       "                                              -x + ─\n",
       "                                                   2"
      ]
     },
     "execution_count": 31,
     "metadata": {},
     "output_type": "execute_result"
    }
   ],
   "source": [
    "razvoj.removeO()"
   ]
  },
  {
   "cell_type": "markdown",
   "metadata": {},
   "source": [
    "### Inhibiranje evaluacije"
   ]
  },
  {
   "cell_type": "markdown",
   "metadata": {},
   "source": [
    "Rekli smo, ako imamo neki komplicirani zadatak, Sympy nam ga neće odmah riješiti, nego samo konstruirati simboličku reprezentaciju (koju onda doista evaluiramo s `.doit()`). Tako možemo dobiti pregledne jednadžbe oblika *zadatak*$=$*rješenje* što smo gore koristili. No što ako se radi o jednostavnom zadatku koji bi Sympy automatski riješio? Uvijek možemo ručno konstruirati izraz (pogledajte `srepr` da biste vidjeli kako ga točno konstruirati) s imenovanim argumentom `evaluate=False`). *Pazite,* ako želite takav izraz koristiti u većim izrazima, potrebno je i njima staviti `evaluate=False` jer će se inače početni izraz ipak izračunati."
   ]
  },
  {
   "cell_type": "code",
   "execution_count": 32,
   "metadata": {},
   "outputs": [
    {
     "data": {
      "image/png": "[encoded data removed]",
      "text/latex": [
       "$\\displaystyle 1 + 1 = 2$"
      ],
      "text/plain": [
       "1 + 1 = 2"
      ]
     },
     "execution_count": 32,
     "metadata": {},
     "output_type": "execute_result"
    }
   ],
   "source": [
    "čvor = sp.Add(1, 1, evaluate=False)\n",
    "sp.Eq(čvor, čvor.doit(), evaluate=False)"
   ]
  },
  {
   "cell_type": "markdown",
   "metadata": {},
   "source": [
    "## Rješavanje jednadžbi"
   ]
  },
  {
   "cell_type": "markdown",
   "metadata": {},
   "source": [
    "Vidjeli smo da jednadžbe možemo konstruirati kao `sp.Eq(`lijevo`, `desno`)`.\n",
    "Pogledajmo sada kako ih možemo rješavati. Napomena: Sympy rješava jednadžbe u polju $\\mathbb C$, jer je ono algebarski zatvoreno."
   ]
  },
  {
   "cell_type": "code",
   "execution_count": 33,
   "metadata": {},
   "outputs": [
    {
     "data": {
      "image/png": "[encoded data removed]",
      "text/latex": [
       "$\\displaystyle x^{3} + 8 = 0$"
      ],
      "text/plain": [
       " 3        \n",
       "x  + 8 = 0"
      ]
     },
     "execution_count": 33,
     "metadata": {},
     "output_type": "execute_result"
    }
   ],
   "source": [
    "jednadžba = sp.Eq(x**3 + 8, 0)\n",
    "jednadžba"
   ]
  },
  {
   "cell_type": "code",
   "execution_count": 34,
   "metadata": {},
   "outputs": [
    {
     "data": {
      "image/png": "[encoded data removed]",
      "text/latex": [
       "$\\displaystyle \\left[ -2, \\  1 - \\sqrt{3} i, \\  1 + \\sqrt{3} i\\right]$"
      ],
      "text/plain": [
       "[-2, 1 - √3⋅ⅈ, 1 + √3⋅ⅈ]"
      ]
     },
     "execution_count": 34,
     "metadata": {},
     "output_type": "execute_result"
    }
   ],
   "source": [
    "sp.solve(jednadžba)"
   ]
  },
  {
   "cell_type": "markdown",
   "metadata": {},
   "source": [
    "Podrazumijevano dobijemo samo listu rješenja. [Možemo navesti nepoznanicu kao drugi argument od `solve`, ali ako je samo jedan nenumerički simbol u jednadžbi (kao `x` gore), Sympy će automatski pretpostaviti da je to nepoznanica.] Imenovanim argumentom `dict` možemo dobiti rješenja kao rječnike, koji preslikavaju simbole u njihove vrijednosti."
   ]
  },
  {
   "cell_type": "code",
   "execution_count": 35,
   "metadata": {
    "scrolled": true
   },
   "outputs": [
    {
     "data": {
      "image/png": "[encoded data removed]",
      "text/latex": [
       "$\\displaystyle \\left[ \\left\\{ x : \\frac{1}{2} - \\frac{\\sqrt{13}}{2}\\right\\}, \\  \\left\\{ x : \\frac{1}{2} + \\frac{\\sqrt{13}}{2}\\right\\}\\right]$"
      ],
      "text/plain": [
       "⎡⎧   1   √13⎫  ⎧   1   √13⎫⎤\n",
       "⎢⎨x: ─ - ───⎬, ⎨x: ─ + ───⎬⎥\n",
       "⎣⎩   2    2 ⎭  ⎩   2    2 ⎭⎦"
      ]
     },
     "execution_count": 35,
     "metadata": {},
     "output_type": "execute_result"
    }
   ],
   "source": [
    "sp.solve(sp.Eq(x**2, x+3), x, dict=True)"
   ]
  },
  {
   "cell_type": "markdown",
   "metadata": {},
   "source": [
    "Vidimo da nam funkcija `solve` vraća listu rješenja. Možemo zadati i listu jednadžbi (i listu nepoznanica), čime rješavamo sustave. Ako nepoznanica ima više, dobit ćemo parove ili općenito n-torke (ili rječnike uz `dict=True`)."
   ]
  },
  {
   "cell_type": "code",
   "execution_count": 36,
   "metadata": {},
   "outputs": [
    {
     "data": {
      "image/png": "[encoded data removed]",
      "text/latex": [
       "$\\displaystyle \\left[ \\left( \\frac{1}{2} - \\frac{\\sqrt{19}}{2}, \\  - \\frac{\\sqrt{19}}{2} - \\frac{1}{2}\\right), \\  \\left( \\frac{1}{2} + \\frac{\\sqrt{19}}{2}, \\  - \\frac{1}{2} + \\frac{\\sqrt{19}}{2}\\right)\\right]$"
      ],
      "text/plain": [
       "⎡⎛1   √19    √19   1⎞  ⎛1   √19    1   √19⎞⎤\n",
       "⎢⎜─ - ───, - ─── - ─⎟, ⎜─ + ───, - ─ + ───⎟⎥\n",
       "⎣⎝2    2      2    2⎠  ⎝2    2     2    2 ⎠⎦"
      ]
     },
     "execution_count": 36,
     "metadata": {},
     "output_type": "execute_result"
    }
   ],
   "source": [
    "sp.solve([sp.Eq(x**2 + y**2, 10), sp.Eq(x - y, 1)], [x, y])"
   ]
  },
  {
   "cell_type": "markdown",
   "metadata": {},
   "source": [
    "Veliki nedostatak funkcije `solve` je što zna riješiti samo jednadžbe s konačno mnogo rješenja (nema uopće način da prikaže beskonačne skupove rješenja). O drugačijem, skupovnom pristupu rješavanju jednadžbi više ćemo reći kasnije."
   ]
  },
  {
   "cell_type": "markdown",
   "metadata": {},
   "source": [
    "### Diferencijalne jednadžbe"
   ]
  },
  {
   "cell_type": "markdown",
   "metadata": {},
   "source": [
    "Da bismo rješavali diferencijalne jednadžbe, prvo nam trebaju 'funkcijski simboli': simboli za nepoznate funkcije. Njih također možemo konstruirati sa `symbols`, uz imenovani argument `cls=sp.Function`.\n",
    "\n",
    "Napravimo jedan funkcijski simbol (zavisnu varijablu) $y$.\n",
    "\n",
    "Napomena: Sympy ne podržava uobičajenu konvenciju u diferencijalnim jednadžbama, da se nezavisna varijabla ispušta kao argument. Uvijek u jednadžbama moramo pisati $y(x)$, ne $y$."
   ]
  },
  {
   "cell_type": "code",
   "execution_count": 37,
   "metadata": {},
   "outputs": [
    {
     "data": {
      "text/plain": [
       "sympy.core.function.UndefinedFunction"
      ]
     },
     "execution_count": 37,
     "metadata": {},
     "output_type": "execute_result"
    }
   ],
   "source": [
    "y = sp.symbols('y', cls=sp.Function)\n",
    "type(y)"
   ]
  },
  {
   "cell_type": "code",
   "execution_count": 38,
   "metadata": {},
   "outputs": [
    {
     "data": {
      "image/png": "[encoded data removed]",
      "text/latex": [
       "$\\displaystyle - y{\\left(x \\right)} + \\frac{d^{2}}{d x^{2}} y{\\left(x \\right)} = e^{x}$"
      ],
      "text/plain": [
       "          2           \n",
       "         d           x\n",
       "-y(x) + ───(y(x)) = ℯ \n",
       "          2           \n",
       "        dx            "
      ]
     },
     "execution_count": 38,
     "metadata": {},
     "output_type": "execute_result"
    }
   ],
   "source": [
    "difj = sp.Eq(sp.Derivative(y(x), x, 2) - y(x), sp.E ** x)\n",
    "difj"
   ]
  },
  {
   "cell_type": "markdown",
   "metadata": {},
   "source": [
    "Pomoću funkcije `classify_ode` možemo vidjeti kako Sympy gleda na našu jednadžbu, i kako je planira riješiti. Tipovi odnosno metode su poredani redom kojim ih Sympy planira upotrijebiti. Dobro dođe za debugiranje.\n",
    "\n",
    "Ako smo uvjereni da Sympy zna riješiti jednadžbu, možemo samo pozvati funkciju `dsolve`."
   ]
  },
  {
   "cell_type": "code",
   "execution_count": 39,
   "metadata": {
    "scrolled": true
   },
   "outputs": [
    {
     "name": "stdout",
     "output_type": "stream",
     "text": [
      "nth_linear_constant_coeff_undetermined_coefficients\n",
      "nth_linear_constant_coeff_variation_of_parameters\n",
      "nth_linear_constant_coeff_variation_of_parameters_Integral\n"
     ]
    },
    {
     "data": {
      "image/png": "[encoded data removed]",
      "text/latex": [
       "$\\displaystyle y{\\left(x \\right)} = C_{2} e^{- x} + \\left(C_{1} + \\frac{x}{2}\\right) e^{x}$"
      ],
      "text/plain": [
       "           -x   ⎛     x⎞  x\n",
       "y(x) = C₂⋅ℯ   + ⎜C₁ + ─⎟⋅ℯ \n",
       "                ⎝     2⎠   "
      ]
     },
     "execution_count": 39,
     "metadata": {},
     "output_type": "execute_result"
    }
   ],
   "source": [
    "print(*sp.classify_ode(difj, y(x)), sep='\\n')\n",
    "sp.dsolve(difj, y(x))"
   ]
  },
  {
   "cell_type": "markdown",
   "metadata": {},
   "source": [
    "## Linearna algebra"
   ]
  },
  {
   "cell_type": "markdown",
   "metadata": {},
   "source": [
    "Pozivom klase `Matrix` možemo konstruirati matrice. One se ne ponašaju kao Numpyjevi arrayi, nego kao matematičke matrice --- npr. množe se normalno operatorom `*`, i invertiraju s `**-1`. Mnoge notacije (funkcija `zeros` za nulmatricu, svojstvo `.T` za transponiranu matricu, konstrukcija iz liste) su iste kao u Numpyju, samo s naglaskom na egzaktne rezultate."
   ]
  },
  {
   "cell_type": "code",
   "execution_count": 40,
   "metadata": {},
   "outputs": [
    {
     "data": {
      "image/png": "[encoded data removed]",
      "text/latex": [
       "$\\displaystyle \\left( \\left[\\begin{matrix}2 & 3\\\\4 & 5\\\\7 & 1\\end{matrix}\\right], \\  \\left[\\begin{matrix}2\\\\4\\\\7\\end{matrix}\\right], \\  \\left[\\begin{matrix}4 & 5\\end{matrix}\\right], \\  \\left[\\begin{matrix}29\\\\49\\\\16\\end{matrix}\\right], \\  \\left[\\begin{matrix}13 & 23 & 17\\\\23 & 41 & 33\\\\17 & 33 & 50\\end{matrix}\\right]\\right)$"
      ],
      "text/plain": [
       "⎛⎡2  3⎤  ⎡2⎤          ⎡29⎤  ⎡13  23  17⎤⎞\n",
       "⎜⎢    ⎥  ⎢ ⎥          ⎢  ⎥  ⎢          ⎥⎟\n",
       "⎜⎢4  5⎥, ⎢4⎥, [4  5], ⎢49⎥, ⎢23  41  33⎥⎟\n",
       "⎜⎢    ⎥  ⎢ ⎥          ⎢  ⎥  ⎢          ⎥⎟\n",
       "⎝⎣7  1⎦  ⎣7⎦          ⎣16⎦  ⎣17  33  50⎦⎠"
      ]
     },
     "execution_count": 40,
     "metadata": {},
     "output_type": "execute_result"
    }
   ],
   "source": [
    "M = sp.Matrix([[2, 3], [4, 5], [7, 1]])\n",
    "\n",
    "M, M.col(0), M.row(1), M*sp.Matrix([1, 9]), M*M.T"
   ]
  },
  {
   "cell_type": "markdown",
   "metadata": {},
   "source": [
    "Jedinična matrica se dobije funkcijom `eye`. Nema broadcasta broja prema matrici za zbrajanje (za množenje ima, jer je tako definirano množenje matrice skalarom) --- umjesto `6+M` trebamo `6` pomnožiti s pozivom funkcije `ones`. "
   ]
  },
  {
   "cell_type": "code",
   "execution_count": 41,
   "metadata": {
    "scrolled": true
   },
   "outputs": [
    {
     "data": {
      "image/png": "[encoded data removed]",
      "text/latex": [
       "$\\displaystyle \\left( \\left[\\begin{matrix}0 & 0 & 0\\\\0 & 0 & 0\\\\0 & 0 & 0\\\\0 & 0 & 0\\\\0 & 0 & 0\\\\0 & 0 & 0\\\\0 & 0 & 0\\end{matrix}\\right], \\  \\left[\\begin{matrix}1 & 0 & 0 & 0\\\\0 & 1 & 0 & 0\\\\0 & 0 & 1 & 0\\\\0 & 0 & 0 & 1\\end{matrix}\\right], \\  \\left[\\begin{matrix}\\frac{13}{19} & - \\frac{6}{19} & - \\frac{6}{19}\\\\- \\frac{6}{19} & \\frac{13}{19} & - \\frac{6}{19}\\\\- \\frac{6}{19} & - \\frac{6}{19} & \\frac{13}{19}\\end{matrix}\\right]\\right)$"
      ],
      "text/plain": [
       "⎛⎡0  0  0⎤                                     ⎞\n",
       "⎜⎢       ⎥                ⎡ 13                ⎤⎟\n",
       "⎜⎢0  0  0⎥                ⎢ ──    -6/19  -6/19⎥⎟\n",
       "⎜⎢       ⎥  ⎡1  0  0  0⎤  ⎢ 19                ⎥⎟\n",
       "⎜⎢0  0  0⎥  ⎢          ⎥  ⎢                   ⎥⎟\n",
       "⎜⎢       ⎥  ⎢0  1  0  0⎥  ⎢        13         ⎥⎟\n",
       "⎜⎢0  0  0⎥, ⎢          ⎥, ⎢-6/19   ──    -6/19⎥⎟\n",
       "⎜⎢       ⎥  ⎢0  0  1  0⎥  ⎢        19         ⎥⎟\n",
       "⎜⎢0  0  0⎥  ⎢          ⎥  ⎢                   ⎥⎟\n",
       "⎜⎢       ⎥  ⎣0  0  0  1⎦  ⎢               13  ⎥⎟\n",
       "⎜⎢0  0  0⎥                ⎢-6/19  -6/19   ──  ⎥⎟\n",
       "⎜⎢       ⎥                ⎣               19  ⎦⎟\n",
       "⎝⎣0  0  0⎦                                     ⎠"
      ]
     },
     "execution_count": 41,
     "metadata": {},
     "output_type": "execute_result"
    }
   ],
   "source": [
    "sp.zeros(7, 3), sp.eye(4), (6*sp.ones(3, 3) + sp.eye(3)) ** -1"
   ]
  },
  {
   "cell_type": "markdown",
   "metadata": {},
   "source": [
    "Determinante spadaju u komplicirane zadatke koje Sympy neće automatski izvršiti (kao i derivacije, integrali, ...)."
   ]
  },
  {
   "cell_type": "code",
   "execution_count": 42,
   "metadata": {},
   "outputs": [
    {
     "data": {
      "image/png": "[encoded data removed]",
      "text/latex": [
       "$\\displaystyle \\frac{1}{3}$"
      ],
      "text/plain": [
       "1/3"
      ]
     },
     "execution_count": 42,
     "metadata": {},
     "output_type": "execute_result"
    }
   ],
   "source": [
    "sp.Determinant(sp.Matrix([[1,2,3], [4,5,6], [1,3,4]])**-1).doit()"
   ]
  },
  {
   "cell_type": "markdown",
   "metadata": {},
   "source": [
    "Metodom `.eigenvects()` dobivamo rješenje svojstvenog problema: listu trojki (svojstvena vrijednost, njena algebarska kratnost u karakterističnom polinomu, lista svojstvenih vektora koji razapinju svojstveni potprostor)."
   ]
  },
  {
   "cell_type": "code",
   "execution_count": 43,
   "metadata": {},
   "outputs": [
    {
     "name": "stdout",
     "output_type": "stream",
     "text": [
      "* svojstvena vrijednost 1 algebarske kratnosti 1 i geometrijske kratnosti 1\n",
      "* svojstvena vrijednost 2 algebarske kratnosti 1 i geometrijske kratnosti 1\n",
      "* svojstvena vrijednost 4 algebarske kratnosti 2 i geometrijske kratnosti 1\n"
     ]
    },
    {
     "data": {
      "image/png": "[encoded data removed]",
      "text/latex": [
       "$\\displaystyle \\left[ \\left( -2, \\  2, \\  \\left[ \\left[\\begin{matrix}1\\\\1\\\\0\\end{matrix}\\right], \\  \\left[\\begin{matrix}-1\\\\0\\\\1\\end{matrix}\\right]\\right]\\right), \\  \\left( 4, \\  1, \\  \\left[ \\left[\\begin{matrix}\\frac{1}{2}\\\\\\frac{1}{2}\\\\1\\end{matrix}\\right]\\right]\\right)\\right]$"
      ],
      "text/plain": [
       "⎡⎛       ⎡⎡1⎤  ⎡-1⎤⎤⎞  ⎛      ⎡⎡1/2⎤⎤⎞⎤\n",
       "⎢⎜       ⎢⎢ ⎥  ⎢  ⎥⎥⎟  ⎜      ⎢⎢   ⎥⎥⎟⎥\n",
       "⎢⎜-2, 2, ⎢⎢1⎥, ⎢0 ⎥⎥⎟, ⎜4, 1, ⎢⎢1/2⎥⎥⎟⎥\n",
       "⎢⎜       ⎢⎢ ⎥  ⎢  ⎥⎥⎟  ⎜      ⎢⎢   ⎥⎥⎟⎥\n",
       "⎣⎝       ⎣⎣0⎦  ⎣1 ⎦⎦⎠  ⎝      ⎣⎣ 1 ⎦⎦⎠⎦"
      ]
     },
     "execution_count": 43,
     "metadata": {},
     "output_type": "execute_result"
    }
   ],
   "source": [
    "M4 = sp.Matrix([[ 5, 4, 2, 1], \n",
    "               [ 0, 1,-1,-1], \n",
    "               [-1,-1, 3, 0], \n",
    "               [ 1, 1,-1, 2]])\n",
    "\n",
    "for λ, kratnost, baza in M4.eigenvects():\n",
    "    print('* svojstvena vrijednost', λ, 'algebarske kratnosti', \n",
    "          kratnost, 'i geometrijske kratnosti', len(baza))\n",
    "    \n",
    "sp.Matrix([[1, -3, 3],\n",
    "           [3, -5, 3],\n",
    "           [6, -6, 4]]).eigenvects()"
   ]
  },
  {
   "cell_type": "markdown",
   "metadata": {},
   "source": [
    "Metoda `.rref()` provodi Gauss-Jordanove transformacije. Vraća do kraja reduciranu matricu i indekse pivotnih elemenata."
   ]
  },
  {
   "cell_type": "code",
   "execution_count": 44,
   "metadata": {},
   "outputs": [
    {
     "data": {
      "image/png": "[encoded data removed]",
      "text/latex": [
       "$\\displaystyle \\left( \\left[\\begin{matrix}1 & 0 & 1 & 3\\\\0 & 1 & \\frac{2}{3} & \\frac{1}{3}\\\\0 & 0 & 0 & 0\\end{matrix}\\right], \\  \\left( 0, \\  1\\right)\\right)$"
      ],
      "text/plain": [
       "⎛⎡1  0   1    3 ⎤        ⎞\n",
       "⎜⎢              ⎥        ⎟\n",
       "⎜⎢0  1  2/3  1/3⎥, (0, 1)⎟\n",
       "⎜⎢              ⎥        ⎟\n",
       "⎝⎣0  0   0    0 ⎦        ⎠"
      ]
     },
     "execution_count": 44,
     "metadata": {},
     "output_type": "execute_result"
    }
   ],
   "source": [
    "sp.Matrix([[ 1, 0, 1, 3], \n",
    "           [ 2, 3, 4, 7], \n",
    "           [-1,-3,-3,-4]]).rref()"
   ]
  },
  {
   "cell_type": "markdown",
   "metadata": {},
   "source": [
    "## Razne manipulacije izrazima"
   ]
  },
  {
   "cell_type": "markdown",
   "metadata": {},
   "source": [
    "### Funkcija `S`"
   ]
  },
  {
   "cell_type": "markdown",
   "metadata": {},
   "source": [
    "Python s cijelim brojevima obično računa egzaktno, pa nije bitno računamo li npr. `32**78` s Pythonovim ili Sympyjevim cijelim brojevima. Izuzetak je dijeljenje: u Pythonu vraća `float`, a u Sympyju vraća razlomak. Ako želimo egzaktno računati, moramo uložiti barem jedan operand u Sympy pomoću funkcije `S`."
   ]
  },
  {
   "cell_type": "code",
   "execution_count": 45,
   "metadata": {},
   "outputs": [
    {
     "data": {
      "image/png": "[encoded data removed]",
      "text/latex": [
       "$\\displaystyle \\left( x + 0.333333333333333, \\  x + \\frac{1}{3}\\right)$"
      ],
      "text/plain": [
       "(x + 0.333333333333333, x + 1/3)"
      ]
     },
     "execution_count": 45,
     "metadata": {},
     "output_type": "execute_result"
    }
   ],
   "source": [
    "x + 1 / 3, x + sp.S(1) / 3"
   ]
  },
  {
   "cell_type": "markdown",
   "metadata": {},
   "source": [
    "`S` je zapravo konstruktor Sympyjevih izraza koji može parsirati stringove u \"prirodnoj\" matematičkoj notaciji. Ipak, ta notacija može biti neprecizna (a i ne radi za neke uobičajene zapise kao `'2x'`) --- ako želimo robusno rješenje, bolje je konstruirati izraze u Sympyju direktno."
   ]
  },
  {
   "cell_type": "code",
   "execution_count": 46,
   "metadata": {},
   "outputs": [
    {
     "data": {
      "image/png": "[encoded data removed]",
      "text/latex": [
       "$\\displaystyle \\alpha + x^{2} + y^{3} - f{\\left(x + 1 \\right)} - \\frac{1}{3} + \\pi$"
      ],
      "text/plain": [
       "     2    3              1    \n",
       "α + x  + y  - f(x + 1) - ─ + π\n",
       "                         3    "
      ]
     },
     "execution_count": 46,
     "metadata": {},
     "output_type": "execute_result"
    }
   ],
   "source": [
    "sp.S('x^2+y^3-1/3+pi+alpha-f(x+1)')"
   ]
  },
  {
   "cell_type": "markdown",
   "metadata": {},
   "source": [
    "`S` ima i mnoge atribute koji označavaju često korištene objekte (najčešće brojeve i skupove). Implementirani su kao singletoni, da ih Sympy ne bi trebao uvijek iznova konstruirati (recimo vidjeli smo da se $-1$ pojavljuje pri svakom oduzimanju i dijeljenju)."
   ]
  },
  {
   "cell_type": "code",
   "execution_count": 47,
   "metadata": {
    "scrolled": false
   },
   "outputs": [
    {
     "data": {
      "image/png": "[encoded data removed]",
      "text/latex": [
       "$\\displaystyle \\left( \\mathbb{Z}, \\  \\mathbb{N}_0, \\  \\emptyset, \\  \\frac{1}{2}, \\  -1, \\  \\text{True}, \\  i\\right)$"
      ],
      "text/plain": [
       "(ℤ, ℕ₀, ∅, 1/2, -1, True, ⅈ)"
      ]
     },
     "execution_count": 47,
     "metadata": {},
     "output_type": "execute_result"
    }
   ],
   "source": [
    "sp.S.Integers, sp.S.Naturals0, sp.S.EmptySet, sp.S.Half, sp.S.NegativeOne, sp.S.true, sp.S.ImaginaryUnit"
   ]
  },
  {
   "cell_type": "markdown",
   "metadata": {},
   "source": [
    "### Vizualizacija stabala izrazâ"
   ]
  },
  {
   "cell_type": "markdown",
   "metadata": {},
   "source": [
    "Nažalost, Sympy ne zna sâm proizvesti grafički zapis stabala svojih izraza. Ali zna proizvesti zapis u formatu DOT, koji se korištenjem alata Graphviz može prebaciti u razne grafičke formate (npr. SVG, koji Jupyter zna prikazati). To može biti korisno ako želite vidjeti kako Sympy zamišlja pojedine vrste izraza (npr. za debugiranje).\n",
    "\n",
    "Ne morate imati instaliran Graphviz da biste koristili tu mogućnost: samo kopirajte donji *output* lijevo u https://dreampuf.github.io/GraphvizOnline/, pričekajte koju sekundu da se renderira desno, i klikom na crtež skinite SVG."
   ]
  },
  {
   "cell_type": "code",
   "execution_count": 48,
   "metadata": {
    "scrolled": true
   },
   "outputs": [
    {
     "name": "stdout",
     "output_type": "stream",
     "text": [
      "digraph{\n",
      "\n",
      "# Graph style\n",
      "\"ordering\"=\"out\"\n",
      "\"rankdir\"=\"TD\"\n",
      "\n",
      "#########\n",
      "# Nodes #\n",
      "#########\n",
      "\n",
      "\"Mul(Rational(-1, 2), Pow(Symbol('a'), Integer(-1)), Add(Symbol('b'), Pow(Add(Pow(Symbol('b'), Integer(2)), Mul(Integer(-4), Symbol('a'), Symbol('c'))), Rational(1, 2))))_()\" [\"color\"=\"black\", \"label\"=\"Mul\", \"shape\"=\"ellipse\"];\n",
      "\"Rational(-1, 2)_(0,)\" [\"color\"=\"black\", \"label\"=\"-1/2\", \"shape\"=\"ellipse\"];\n",
      "\"Pow(Symbol('a'), Integer(-1))_(1,)\" [\"color\"=\"black\", \"label\"=\"Pow\", \"shape\"=\"ellipse\"];\n",
      "\"Symbol('a')_(1, 0)\" [\"color\"=\"black\", \"label\"=\"a\", \"shape\"=\"ellipse\"];\n",
      "\"Integer(-1)_(1, 1)\" [\"color\"=\"black\", \"label\"=\"-1\", \"shape\"=\"ellipse\"];\n",
      "\"Add(Symbol('b'), Pow(Add(Pow(Symbol('b'), Integer(2)), Mul(Integer(-4), Symbol('a'), Symbol('c'))), Rational(1, 2)))_(2,)\" [\"color\"=\"black\", \"label\"=\"Add\", \"shape\"=\"ellipse\"];\n",
      "\"Symbol('b')_(2, 0)\" [\"color\"=\"black\", \"label\"=\"b\", \"shape\"=\"ellipse\"];\n",
      "\"Pow(Add(Pow(Symbol('b'), Integer(2)), Mul(Integer(-4), Symbol('a'), Symbol('c'))), Rational(1, 2))_(2, 1)\" [\"color\"=\"black\", \"label\"=\"Pow\", \"shape\"=\"ellipse\"];\n",
      "\"Add(Pow(Symbol('b'), Integer(2)), Mul(Integer(-4), Symbol('a'), Symbol('c')))_(2, 1, 0)\" [\"color\"=\"black\", \"label\"=\"Add\", \"shape\"=\"ellipse\"];\n",
      "\"Pow(Symbol('b'), Integer(2))_(2, 1, 0, 0)\" [\"color\"=\"black\", \"label\"=\"Pow\", \"shape\"=\"ellipse\"];\n",
      "\"Symbol('b')_(2, 1, 0, 0, 0)\" [\"color\"=\"black\", \"label\"=\"b\", \"shape\"=\"ellipse\"];\n",
      "\"Integer(2)_(2, 1, 0, 0, 1)\" [\"color\"=\"black\", \"label\"=\"2\", \"shape\"=\"ellipse\"];\n",
      "\"Mul(Integer(-4), Symbol('a'), Symbol('c'))_(2, 1, 0, 1)\" [\"color\"=\"black\", \"label\"=\"Mul\", \"shape\"=\"ellipse\"];\n",
      "\"Integer(-4)_(2, 1, 0, 1, 0)\" [\"color\"=\"black\", \"label\"=\"-4\", \"shape\"=\"ellipse\"];\n",
      "\"Symbol('a')_(2, 1, 0, 1, 1)\" [\"color\"=\"black\", \"label\"=\"a\", \"shape\"=\"ellipse\"];\n",
      "\"Symbol('c')_(2, 1, 0, 1, 2)\" [\"color\"=\"black\", \"label\"=\"c\", \"shape\"=\"ellipse\"];\n",
      "\"Rational(1, 2)_(2, 1, 1)\" [\"color\"=\"black\", \"label\"=\"1/2\", \"shape\"=\"ellipse\"];\n",
      "\n",
      "#########\n",
      "# Edges #\n",
      "#########\n",
      "\n",
      "\"Mul(Rational(-1, 2), Pow(Symbol('a'), Integer(-1)), Add(Symbol('b'), Pow(Add(Pow(Symbol('b'), Integer(2)), Mul(Integer(-4), Symbol('a'), Symbol('c'))), Rational(1, 2))))_()\" -> \"Rational(-1, 2)_(0,)\";\n",
      "\"Mul(Rational(-1, 2), Pow(Symbol('a'), Integer(-1)), Add(Symbol('b'), Pow(Add(Pow(Symbol('b'), Integer(2)), Mul(Integer(-4), Symbol('a'), Symbol('c'))), Rational(1, 2))))_()\" -> \"Pow(Symbol('a'), Integer(-1))_(1,)\";\n",
      "\"Mul(Rational(-1, 2), Pow(Symbol('a'), Integer(-1)), Add(Symbol('b'), Pow(Add(Pow(Symbol('b'), Integer(2)), Mul(Integer(-4), Symbol('a'), Symbol('c'))), Rational(1, 2))))_()\" -> \"Add(Symbol('b'), Pow(Add(Pow(Symbol('b'), Integer(2)), Mul(Integer(-4), Symbol('a'), Symbol('c'))), Rational(1, 2)))_(2,)\";\n",
      "\"Pow(Symbol('a'), Integer(-1))_(1,)\" -> \"Symbol('a')_(1, 0)\";\n",
      "\"Pow(Symbol('a'), Integer(-1))_(1,)\" -> \"Integer(-1)_(1, 1)\";\n",
      "\"Add(Symbol('b'), Pow(Add(Pow(Symbol('b'), Integer(2)), Mul(Integer(-4), Symbol('a'), Symbol('c'))), Rational(1, 2)))_(2,)\" -> \"Symbol('b')_(2, 0)\";\n",
      "\"Add(Symbol('b'), Pow(Add(Pow(Symbol('b'), Integer(2)), Mul(Integer(-4), Symbol('a'), Symbol('c'))), Rational(1, 2)))_(2,)\" -> \"Pow(Add(Pow(Symbol('b'), Integer(2)), Mul(Integer(-4), Symbol('a'), Symbol('c'))), Rational(1, 2))_(2, 1)\";\n",
      "\"Pow(Add(Pow(Symbol('b'), Integer(2)), Mul(Integer(-4), Symbol('a'), Symbol('c'))), Rational(1, 2))_(2, 1)\" -> \"Add(Pow(Symbol('b'), Integer(2)), Mul(Integer(-4), Symbol('a'), Symbol('c')))_(2, 1, 0)\";\n",
      "\"Pow(Add(Pow(Symbol('b'), Integer(2)), Mul(Integer(-4), Symbol('a'), Symbol('c'))), Rational(1, 2))_(2, 1)\" -> \"Rational(1, 2)_(2, 1, 1)\";\n",
      "\"Add(Pow(Symbol('b'), Integer(2)), Mul(Integer(-4), Symbol('a'), Symbol('c')))_(2, 1, 0)\" -> \"Pow(Symbol('b'), Integer(2))_(2, 1, 0, 0)\";\n",
      "\"Add(Pow(Symbol('b'), Integer(2)), Mul(Integer(-4), Symbol('a'), Symbol('c')))_(2, 1, 0)\" -> \"Mul(Integer(-4), Symbol('a'), Symbol('c'))_(2, 1, 0, 1)\";\n",
      "\"Pow(Symbol('b'), Integer(2))_(2, 1, 0, 0)\" -> \"Symbol('b')_(2, 1, 0, 0, 0)\";\n",
      "\"Pow(Symbol('b'), Integer(2))_(2, 1, 0, 0)\" -> \"Integer(2)_(2, 1, 0, 0, 1)\";\n",
      "\"Mul(Integer(-4), Symbol('a'), Symbol('c'))_(2, 1, 0, 1)\" -> \"Integer(-4)_(2, 1, 0, 1, 0)\";\n",
      "\"Mul(Integer(-4), Symbol('a'), Symbol('c'))_(2, 1, 0, 1)\" -> \"Symbol('a')_(2, 1, 0, 1, 1)\";\n",
      "\"Mul(Integer(-4), Symbol('a'), Symbol('c'))_(2, 1, 0, 1)\" -> \"Symbol('c')_(2, 1, 0, 1, 2)\";\n",
      "}\n"
     ]
    }
   ],
   "source": [
    "from sympy.printing.dot import dotprint\n",
    "from sympy.abc import a, b, c, x\n",
    "print(dotprint(sp.solve(a * x**2 + b * x + c, x)[~0]))"
   ]
  },
  {
   "cell_type": "code",
   "execution_count": 49,
   "metadata": {},
   "outputs": [
    {
     "data": {
      "image/svg+xml": [
       "<svg height=\"404pt\" viewBox=\"0.00 0.00 426.00 404.00\" width=\"426pt\" xmlns=\"http://www.w3.org/2000/svg\" xmlns:xlink=\"http://www.w3.org/1999/xlink\">\n",
       "<g class=\"graph\" id=\"graph0\" transform=\"scale(1 1) rotate(0) translate(4 400)\">\n",
       "<title>%0</title>\n",
       "<polygon fill=\"#ffffff\" points=\"-4,4 -4,-400 422,-400 422,4 -4,4\" stroke=\"transparent\"/>\n",
       "<!-- Mul(Rational(&#45;1, 2), Pow(Symbol(&#39;a&#39;), Integer(&#45;1)), Add(Symbol(&#39;b&#39;), Pow(Add(Pow(Symbol(&#39;b&#39;), Integer(2)), Mul(Integer(&#45;4), Symbol(&#39;a&#39;), Symbol(&#39;c&#39;))), Rational(1, 2))))_() -->\n",
       "<g class=\"node\" id=\"node1\">\n",
       "<title>Mul(Rational(-1, 2), Pow(Symbol('a'), Integer(-1)), Add(Symbol('b'), Pow(Add(Pow(Symbol('b'), Integer(2)), Mul(Integer(-4), Symbol('a'), Symbol('c'))), Rational(1, 2))))_()</title>\n",
       "<ellipse cx=\"100\" cy=\"-378\" fill=\"none\" rx=\"27.2661\" ry=\"18\" stroke=\"#000000\"/>\n",
       "<text fill=\"#000000\" font-family=\"Times,serif\" font-size=\"14.00\" text-anchor=\"middle\" x=\"100\" y=\"-373.8\">Mul</text>\n",
       "</g>\n",
       "<!-- Rational(&#45;1, 2)_(0,) -->\n",
       "<g class=\"node\" id=\"node2\">\n",
       "<title>Rational(-1, 2)_(0,)</title>\n",
       "<ellipse cx=\"27\" cy=\"-306\" fill=\"none\" rx=\"27\" ry=\"18\" stroke=\"#000000\"/>\n",
       "<text fill=\"#000000\" font-family=\"Times,serif\" font-size=\"14.00\" text-anchor=\"middle\" x=\"27\" y=\"-301.8\">-1/2</text>\n",
       "</g>\n",
       "<!-- Mul(Rational(&#45;1, 2), Pow(Symbol(&#39;a&#39;), Integer(&#45;1)), Add(Symbol(&#39;b&#39;), Pow(Add(Pow(Symbol(&#39;b&#39;), Integer(2)), Mul(Integer(&#45;4), Symbol(&#39;a&#39;), Symbol(&#39;c&#39;))), Rational(1, 2))))_()&#45;&gt;Rational(&#45;1, 2)_(0,) -->\n",
       "<g class=\"edge\" id=\"edge1\">\n",
       "<title>Mul(Rational(-1, 2), Pow(Symbol('a'), Integer(-1)), Add(Symbol('b'), Pow(Add(Pow(Symbol('b'), Integer(2)), Mul(Integer(-4), Symbol('a'), Symbol('c'))), Rational(1, 2))))_()-&gt;Rational(-1, 2)_(0,)</title>\n",
       "<path d=\"M84.5186,-362.7307C74.453,-352.803 61.1525,-339.6847 49.877,-328.5637\" fill=\"none\" stroke=\"#000000\"/>\n",
       "<polygon fill=\"#000000\" points=\"52.0366,-325.7776 42.4591,-321.2473 47.121,-330.7614 52.0366,-325.7776\" stroke=\"#000000\"/>\n",
       "</g>\n",
       "<!-- Pow(Symbol(&#39;a&#39;), Integer(&#45;1))_(1,) -->\n",
       "<g class=\"node\" id=\"node3\">\n",
       "<title>Pow(Symbol('a'), Integer(-1))_(1,)</title>\n",
       "<ellipse cx=\"100\" cy=\"-306\" fill=\"none\" rx=\"28.4107\" ry=\"18\" stroke=\"#000000\"/>\n",
       "<text fill=\"#000000\" font-family=\"Times,serif\" font-size=\"14.00\" text-anchor=\"middle\" x=\"100\" y=\"-301.8\">Pow</text>\n",
       "</g>\n",
       "<!-- Mul(Rational(&#45;1, 2), Pow(Symbol(&#39;a&#39;), Integer(&#45;1)), Add(Symbol(&#39;b&#39;), Pow(Add(Pow(Symbol(&#39;b&#39;), Integer(2)), Mul(Integer(&#45;4), Symbol(&#39;a&#39;), Symbol(&#39;c&#39;))), Rational(1, 2))))_()&#45;&gt;Pow(Symbol(&#39;a&#39;), Integer(&#45;1))_(1,) -->\n",
       "<g class=\"edge\" id=\"edge2\">\n",
       "<title>Mul(Rational(-1, 2), Pow(Symbol('a'), Integer(-1)), Add(Symbol('b'), Pow(Add(Pow(Symbol('b'), Integer(2)), Mul(Integer(-4), Symbol('a'), Symbol('c'))), Rational(1, 2))))_()-&gt;Pow(Symbol('a'), Integer(-1))_(1,)</title>\n",
       "<path d=\"M100,-359.8314C100,-352.131 100,-342.9743 100,-334.4166\" fill=\"none\" stroke=\"#000000\"/>\n",
       "<polygon fill=\"#000000\" points=\"103.5001,-334.4132 100,-324.4133 96.5001,-334.4133 103.5001,-334.4132\" stroke=\"#000000\"/>\n",
       "</g>\n",
       "<!-- Add(Symbol(&#39;b&#39;), Pow(Add(Pow(Symbol(&#39;b&#39;), Integer(2)), Mul(Integer(&#45;4), Symbol(&#39;a&#39;), Symbol(&#39;c&#39;))), Rational(1, 2)))_(2,) -->\n",
       "<g class=\"node\" id=\"node6\">\n",
       "<title>Add(Symbol('b'), Pow(Add(Pow(Symbol('b'), Integer(2)), Mul(Integer(-4), Symbol('a'), Symbol('c'))), Rational(1, 2)))_(2,)</title>\n",
       "<ellipse cx=\"174\" cy=\"-306\" fill=\"none\" rx=\"27.8306\" ry=\"18\" stroke=\"#000000\"/>\n",
       "<text fill=\"#000000\" font-family=\"Times,serif\" font-size=\"14.00\" text-anchor=\"middle\" x=\"174\" y=\"-301.8\">Add</text>\n",
       "</g>\n",
       "<!-- Mul(Rational(&#45;1, 2), Pow(Symbol(&#39;a&#39;), Integer(&#45;1)), Add(Symbol(&#39;b&#39;), Pow(Add(Pow(Symbol(&#39;b&#39;), Integer(2)), Mul(Integer(&#45;4), Symbol(&#39;a&#39;), Symbol(&#39;c&#39;))), Rational(1, 2))))_()&#45;&gt;Add(Symbol(&#39;b&#39;), Pow(Add(Pow(Symbol(&#39;b&#39;), Integer(2)), Mul(Integer(&#45;4), Symbol(&#39;a&#39;), Symbol(&#39;c&#39;))), Rational(1, 2)))_(2,) -->\n",
       "<g class=\"edge\" id=\"edge3\">\n",
       "<title>Mul(Rational(-1, 2), Pow(Symbol('a'), Integer(-1)), Add(Symbol('b'), Pow(Add(Pow(Symbol('b'), Integer(2)), Mul(Integer(-4), Symbol('a'), Symbol('c'))), Rational(1, 2))))_()-&gt;Add(Symbol('b'), Pow(Add(Pow(Symbol('b'), Integer(2)), Mul(Integer(-4), Symbol('a'), Symbol('c'))), Rational(1, 2)))_(2,)</title>\n",
       "<path d=\"M115.3328,-363.0816C125.6815,-353.0125 139.5219,-339.5463 151.1606,-328.2221\" fill=\"none\" stroke=\"#000000\"/>\n",
       "<polygon fill=\"#000000\" points=\"153.7057,-330.6292 158.4322,-321.147 148.8242,-325.6121 153.7057,-330.6292\" stroke=\"#000000\"/>\n",
       "</g>\n",
       "<!-- Symbol(&#39;a&#39;)_(1, 0) -->\n",
       "<g class=\"node\" id=\"node4\">\n",
       "<title>Symbol('a')_(1, 0)</title>\n",
       "<ellipse cx=\"29\" cy=\"-234\" fill=\"none\" rx=\"27\" ry=\"18\" stroke=\"#000000\"/>\n",
       "<text fill=\"#000000\" font-family=\"Times,serif\" font-size=\"14.00\" text-anchor=\"middle\" x=\"29\" y=\"-229.8\">a</text>\n",
       "</g>\n",
       "<!-- Pow(Symbol(&#39;a&#39;), Integer(&#45;1))_(1,)&#45;&gt;Symbol(&#39;a&#39;)_(1, 0) -->\n",
       "<g class=\"edge\" id=\"edge4\">\n",
       "<title>Pow(Symbol('a'), Integer(-1))_(1,)-&gt;Symbol('a')_(1, 0)</title>\n",
       "<path d=\"M84.9427,-290.7307C75.153,-280.803 62.2169,-267.6847 51.2503,-256.5637\" fill=\"none\" stroke=\"#000000\"/>\n",
       "<polygon fill=\"#000000\" points=\"53.5492,-253.9102 44.0356,-249.2473 48.5649,-258.8252 53.5492,-253.9102\" stroke=\"#000000\"/>\n",
       "</g>\n",
       "<!-- Integer(&#45;1)_(1, 1) -->\n",
       "<g class=\"node\" id=\"node5\">\n",
       "<title>Integer(-1)_(1, 1)</title>\n",
       "<ellipse cx=\"101\" cy=\"-234\" fill=\"none\" rx=\"27\" ry=\"18\" stroke=\"#000000\"/>\n",
       "<text fill=\"#000000\" font-family=\"Times,serif\" font-size=\"14.00\" text-anchor=\"middle\" x=\"101\" y=\"-229.8\">-1</text>\n",
       "</g>\n",
       "<!-- Pow(Symbol(&#39;a&#39;), Integer(&#45;1))_(1,)&#45;&gt;Integer(&#45;1)_(1, 1) -->\n",
       "<g class=\"edge\" id=\"edge5\">\n",
       "<title>Pow(Symbol('a'), Integer(-1))_(1,)-&gt;Integer(-1)_(1, 1)</title>\n",
       "<path d=\"M100.2523,-287.8314C100.3593,-280.131 100.4865,-270.9743 100.6053,-262.4166\" fill=\"none\" stroke=\"#000000\"/>\n",
       "<polygon fill=\"#000000\" points=\"104.1049,-262.4609 100.7443,-252.4133 97.1056,-262.3637 104.1049,-262.4609\" stroke=\"#000000\"/>\n",
       "</g>\n",
       "<!-- Symbol(&#39;b&#39;)_(2, 0) -->\n",
       "<g class=\"node\" id=\"node7\">\n",
       "<title>Symbol('b')_(2, 0)</title>\n",
       "<ellipse cx=\"174\" cy=\"-234\" fill=\"none\" rx=\"27\" ry=\"18\" stroke=\"#000000\"/>\n",
       "<text fill=\"#000000\" font-family=\"Times,serif\" font-size=\"14.00\" text-anchor=\"middle\" x=\"174\" y=\"-229.8\">b</text>\n",
       "</g>\n",
       "<!-- Add(Symbol(&#39;b&#39;), Pow(Add(Pow(Symbol(&#39;b&#39;), Integer(2)), Mul(Integer(&#45;4), Symbol(&#39;a&#39;), Symbol(&#39;c&#39;))), Rational(1, 2)))_(2,)&#45;&gt;Symbol(&#39;b&#39;)_(2, 0) -->\n",
       "<g class=\"edge\" id=\"edge6\">\n",
       "<title>Add(Symbol('b'), Pow(Add(Pow(Symbol('b'), Integer(2)), Mul(Integer(-4), Symbol('a'), Symbol('c'))), Rational(1, 2)))_(2,)-&gt;Symbol('b')_(2, 0)</title>\n",
       "<path d=\"M174,-287.8314C174,-280.131 174,-270.9743 174,-262.4166\" fill=\"none\" stroke=\"#000000\"/>\n",
       "<polygon fill=\"#000000\" points=\"177.5001,-262.4132 174,-252.4133 170.5001,-262.4133 177.5001,-262.4132\" stroke=\"#000000\"/>\n",
       "</g>\n",
       "<!-- Pow(Add(Pow(Symbol(&#39;b&#39;), Integer(2)), Mul(Integer(&#45;4), Symbol(&#39;a&#39;), Symbol(&#39;c&#39;))), Rational(1, 2))_(2, 1) -->\n",
       "<g class=\"node\" id=\"node8\">\n",
       "<title>Pow(Add(Pow(Symbol('b'), Integer(2)), Mul(Integer(-4), Symbol('a'), Symbol('c'))), Rational(1, 2))_(2, 1)</title>\n",
       "<ellipse cx=\"247\" cy=\"-234\" fill=\"none\" rx=\"28.4107\" ry=\"18\" stroke=\"#000000\"/>\n",
       "<text fill=\"#000000\" font-family=\"Times,serif\" font-size=\"14.00\" text-anchor=\"middle\" x=\"247\" y=\"-229.8\">Pow</text>\n",
       "</g>\n",
       "<!-- Add(Symbol(&#39;b&#39;), Pow(Add(Pow(Symbol(&#39;b&#39;), Integer(2)), Mul(Integer(&#45;4), Symbol(&#39;a&#39;), Symbol(&#39;c&#39;))), Rational(1, 2)))_(2,)&#45;&gt;Pow(Add(Pow(Symbol(&#39;b&#39;), Integer(2)), Mul(Integer(&#45;4), Symbol(&#39;a&#39;), Symbol(&#39;c&#39;))), Rational(1, 2))_(2, 1) -->\n",
       "<g class=\"edge\" id=\"edge7\">\n",
       "<title>Add(Symbol('b'), Pow(Add(Pow(Symbol('b'), Integer(2)), Mul(Integer(-4), Symbol('a'), Symbol('c'))), Rational(1, 2)))_(2,)-&gt;Pow(Add(Pow(Symbol('b'), Integer(2)), Mul(Integer(-4), Symbol('a'), Symbol('c'))), Rational(1, 2))_(2, 1)</title>\n",
       "<path d=\"M189.4814,-290.7307C199.547,-280.803 212.8475,-267.6847 224.123,-256.5637\" fill=\"none\" stroke=\"#000000\"/>\n",
       "<polygon fill=\"#000000\" points=\"226.879,-258.7614 231.5409,-249.2473 221.9634,-253.7776 226.879,-258.7614\" stroke=\"#000000\"/>\n",
       "</g>\n",
       "<!-- Add(Pow(Symbol(&#39;b&#39;), Integer(2)), Mul(Integer(&#45;4), Symbol(&#39;a&#39;), Symbol(&#39;c&#39;)))_(2, 1, 0) -->\n",
       "<g class=\"node\" id=\"node9\">\n",
       "<title>Add(Pow(Symbol('b'), Integer(2)), Mul(Integer(-4), Symbol('a'), Symbol('c')))_(2, 1, 0)</title>\n",
       "<ellipse cx=\"211\" cy=\"-162\" fill=\"none\" rx=\"27.8306\" ry=\"18\" stroke=\"#000000\"/>\n",
       "<text fill=\"#000000\" font-family=\"Times,serif\" font-size=\"14.00\" text-anchor=\"middle\" x=\"211\" y=\"-157.8\">Add</text>\n",
       "</g>\n",
       "<!-- Pow(Add(Pow(Symbol(&#39;b&#39;), Integer(2)), Mul(Integer(&#45;4), Symbol(&#39;a&#39;), Symbol(&#39;c&#39;))), Rational(1, 2))_(2, 1)&#45;&gt;Add(Pow(Symbol(&#39;b&#39;), Integer(2)), Mul(Integer(&#45;4), Symbol(&#39;a&#39;), Symbol(&#39;c&#39;)))_(2, 1, 0) -->\n",
       "<g class=\"edge\" id=\"edge8\">\n",
       "<title>Pow(Add(Pow(Symbol('b'), Integer(2)), Mul(Integer(-4), Symbol('a'), Symbol('c'))), Rational(1, 2))_(2, 1)-&gt;Add(Pow(Symbol('b'), Integer(2)), Mul(Integer(-4), Symbol('a'), Symbol('c')))_(2, 1, 0)</title>\n",
       "<path d=\"M238.2854,-216.5708C234.0403,-208.0807 228.8464,-197.6929 224.1337,-188.2674\" fill=\"none\" stroke=\"#000000\"/>\n",
       "<polygon fill=\"#000000\" points=\"227.237,-186.6477 219.6343,-179.2687 220.976,-189.7782 227.237,-186.6477\" stroke=\"#000000\"/>\n",
       "</g>\n",
       "<!-- Rational(1, 2)_(2, 1, 1) -->\n",
       "<g class=\"node\" id=\"node17\">\n",
       "<title>Rational(1, 2)_(2, 1, 1)</title>\n",
       "<ellipse cx=\"284\" cy=\"-162\" fill=\"none\" rx=\"27\" ry=\"18\" stroke=\"#000000\"/>\n",
       "<text fill=\"#000000\" font-family=\"Times,serif\" font-size=\"14.00\" text-anchor=\"middle\" x=\"284\" y=\"-157.8\">1/2</text>\n",
       "</g>\n",
       "<!-- Pow(Add(Pow(Symbol(&#39;b&#39;), Integer(2)), Mul(Integer(&#45;4), Symbol(&#39;a&#39;), Symbol(&#39;c&#39;))), Rational(1, 2))_(2, 1)&#45;&gt;Rational(1, 2)_(2, 1, 1) -->\n",
       "<g class=\"edge\" id=\"edge9\">\n",
       "<title>Pow(Add(Pow(Symbol('b'), Integer(2)), Mul(Integer(-4), Symbol('a'), Symbol('c'))), Rational(1, 2))_(2, 1)-&gt;Rational(1, 2)_(2, 1, 1)</title>\n",
       "<path d=\"M255.9567,-216.5708C260.3197,-208.0807 265.6578,-197.6929 270.5015,-188.2674\" fill=\"none\" stroke=\"#000000\"/>\n",
       "<polygon fill=\"#000000\" points=\"273.6681,-189.7628 275.1258,-179.2687 267.4421,-186.5633 273.6681,-189.7628\" stroke=\"#000000\"/>\n",
       "</g>\n",
       "<!-- Pow(Symbol(&#39;b&#39;), Integer(2))_(2, 1, 0, 0) -->\n",
       "<g class=\"node\" id=\"node10\">\n",
       "<title>Pow(Symbol('b'), Integer(2))_(2, 1, 0, 0)</title>\n",
       "<ellipse cx=\"175\" cy=\"-90\" fill=\"none\" rx=\"28.4107\" ry=\"18\" stroke=\"#000000\"/>\n",
       "<text fill=\"#000000\" font-family=\"Times,serif\" font-size=\"14.00\" text-anchor=\"middle\" x=\"175\" y=\"-85.8\">Pow</text>\n",
       "</g>\n",
       "<!-- Add(Pow(Symbol(&#39;b&#39;), Integer(2)), Mul(Integer(&#45;4), Symbol(&#39;a&#39;), Symbol(&#39;c&#39;)))_(2, 1, 0)&#45;&gt;Pow(Symbol(&#39;b&#39;), Integer(2))_(2, 1, 0, 0) -->\n",
       "<g class=\"edge\" id=\"edge10\">\n",
       "<title>Add(Pow(Symbol('b'), Integer(2)), Mul(Integer(-4), Symbol('a'), Symbol('c')))_(2, 1, 0)-&gt;Pow(Symbol('b'), Integer(2))_(2, 1, 0, 0)</title>\n",
       "<path d=\"M202.2854,-144.5708C198.0403,-136.0807 192.8464,-125.6929 188.1337,-116.2674\" fill=\"none\" stroke=\"#000000\"/>\n",
       "<polygon fill=\"#000000\" points=\"191.237,-114.6477 183.6343,-107.2687 184.976,-117.7782 191.237,-114.6477\" stroke=\"#000000\"/>\n",
       "</g>\n",
       "<!-- Mul(Integer(&#45;4), Symbol(&#39;a&#39;), Symbol(&#39;c&#39;))_(2, 1, 0, 1) -->\n",
       "<g class=\"node\" id=\"node13\">\n",
       "<title>Mul(Integer(-4), Symbol('a'), Symbol('c'))_(2, 1, 0, 1)</title>\n",
       "<ellipse cx=\"283\" cy=\"-90\" fill=\"none\" rx=\"27.2661\" ry=\"18\" stroke=\"#000000\"/>\n",
       "<text fill=\"#000000\" font-family=\"Times,serif\" font-size=\"14.00\" text-anchor=\"middle\" x=\"283\" y=\"-85.8\">Mul</text>\n",
       "</g>\n",
       "<!-- Add(Pow(Symbol(&#39;b&#39;), Integer(2)), Mul(Integer(&#45;4), Symbol(&#39;a&#39;), Symbol(&#39;c&#39;)))_(2, 1, 0)&#45;&gt;Mul(Integer(&#45;4), Symbol(&#39;a&#39;), Symbol(&#39;c&#39;))_(2, 1, 0, 1) -->\n",
       "<g class=\"edge\" id=\"edge11\">\n",
       "<title>Add(Pow(Symbol('b'), Integer(2)), Mul(Integer(-4), Symbol('a'), Symbol('c')))_(2, 1, 0)-&gt;Mul(Integer(-4), Symbol('a'), Symbol('c'))_(2, 1, 0, 1)</title>\n",
       "<path d=\"M226.2693,-146.7307C236.197,-136.803 249.3153,-123.6847 260.4363,-112.5637\" fill=\"none\" stroke=\"#000000\"/>\n",
       "<polygon fill=\"#000000\" points=\"263.1564,-114.7933 267.7527,-105.2473 258.2067,-109.8436 263.1564,-114.7933\" stroke=\"#000000\"/>\n",
       "</g>\n",
       "<!-- Symbol(&#39;b&#39;)_(2, 1, 0, 0, 0) -->\n",
       "<g class=\"node\" id=\"node11\">\n",
       "<title>Symbol('b')_(2, 1, 0, 0, 0)</title>\n",
       "<ellipse cx=\"103\" cy=\"-18\" fill=\"none\" rx=\"27\" ry=\"18\" stroke=\"#000000\"/>\n",
       "<text fill=\"#000000\" font-family=\"Times,serif\" font-size=\"14.00\" text-anchor=\"middle\" x=\"103\" y=\"-13.8\">b</text>\n",
       "</g>\n",
       "<!-- Pow(Symbol(&#39;b&#39;), Integer(2))_(2, 1, 0, 0)&#45;&gt;Symbol(&#39;b&#39;)_(2, 1, 0, 0, 0) -->\n",
       "<g class=\"edge\" id=\"edge12\">\n",
       "<title>Pow(Symbol('b'), Integer(2))_(2, 1, 0, 0)-&gt;Symbol('b')_(2, 1, 0, 0, 0)</title>\n",
       "<path d=\"M159.7307,-74.7307C149.803,-64.803 136.6847,-51.6847 125.5637,-40.5637\" fill=\"none\" stroke=\"#000000\"/>\n",
       "<polygon fill=\"#000000\" points=\"127.7933,-37.8436 118.2473,-33.2473 122.8436,-42.7933 127.7933,-37.8436\" stroke=\"#000000\"/>\n",
       "</g>\n",
       "<!-- Integer(2)_(2, 1, 0, 0, 1) -->\n",
       "<g class=\"node\" id=\"node12\">\n",
       "<title>Integer(2)_(2, 1, 0, 0, 1)</title>\n",
       "<ellipse cx=\"175\" cy=\"-18\" fill=\"none\" rx=\"27\" ry=\"18\" stroke=\"#000000\"/>\n",
       "<text fill=\"#000000\" font-family=\"Times,serif\" font-size=\"14.00\" text-anchor=\"middle\" x=\"175\" y=\"-13.8\">2</text>\n",
       "</g>\n",
       "<!-- Pow(Symbol(&#39;b&#39;), Integer(2))_(2, 1, 0, 0)&#45;&gt;Integer(2)_(2, 1, 0, 0, 1) -->\n",
       "<g class=\"edge\" id=\"edge13\">\n",
       "<title>Pow(Symbol('b'), Integer(2))_(2, 1, 0, 0)-&gt;Integer(2)_(2, 1, 0, 0, 1)</title>\n",
       "<path d=\"M175,-71.8314C175,-64.131 175,-54.9743 175,-46.4166\" fill=\"none\" stroke=\"#000000\"/>\n",
       "<polygon fill=\"#000000\" points=\"178.5001,-46.4132 175,-36.4133 171.5001,-46.4133 178.5001,-46.4132\" stroke=\"#000000\"/>\n",
       "</g>\n",
       "<!-- Integer(&#45;4)_(2, 1, 0, 1, 0) -->\n",
       "<g class=\"node\" id=\"node14\">\n",
       "<title>Integer(-4)_(2, 1, 0, 1, 0)</title>\n",
       "<ellipse cx=\"247\" cy=\"-18\" fill=\"none\" rx=\"27\" ry=\"18\" stroke=\"#000000\"/>\n",
       "<text fill=\"#000000\" font-family=\"Times,serif\" font-size=\"14.00\" text-anchor=\"middle\" x=\"247\" y=\"-13.8\">-4</text>\n",
       "</g>\n",
       "<!-- Mul(Integer(&#45;4), Symbol(&#39;a&#39;), Symbol(&#39;c&#39;))_(2, 1, 0, 1)&#45;&gt;Integer(&#45;4)_(2, 1, 0, 1, 0) -->\n",
       "<g class=\"edge\" id=\"edge14\">\n",
       "<title>Mul(Integer(-4), Symbol('a'), Symbol('c'))_(2, 1, 0, 1)-&gt;Integer(-4)_(2, 1, 0, 1, 0)</title>\n",
       "<path d=\"M274.2854,-72.5708C270.0403,-64.0807 264.8464,-53.6929 260.1337,-44.2674\" fill=\"none\" stroke=\"#000000\"/>\n",
       "<polygon fill=\"#000000\" points=\"263.237,-42.6477 255.6343,-35.2687 256.976,-45.7782 263.237,-42.6477\" stroke=\"#000000\"/>\n",
       "</g>\n",
       "<!-- Symbol(&#39;a&#39;)_(2, 1, 0, 1, 1) -->\n",
       "<g class=\"node\" id=\"node15\">\n",
       "<title>Symbol('a')_(2, 1, 0, 1, 1)</title>\n",
       "<ellipse cx=\"319\" cy=\"-18\" fill=\"none\" rx=\"27\" ry=\"18\" stroke=\"#000000\"/>\n",
       "<text fill=\"#000000\" font-family=\"Times,serif\" font-size=\"14.00\" text-anchor=\"middle\" x=\"319\" y=\"-13.8\">a</text>\n",
       "</g>\n",
       "<!-- Mul(Integer(&#45;4), Symbol(&#39;a&#39;), Symbol(&#39;c&#39;))_(2, 1, 0, 1)&#45;&gt;Symbol(&#39;a&#39;)_(2, 1, 0, 1, 1) -->\n",
       "<g class=\"edge\" id=\"edge15\">\n",
       "<title>Mul(Integer(-4), Symbol('a'), Symbol('c'))_(2, 1, 0, 1)-&gt;Symbol('a')_(2, 1, 0, 1, 1)</title>\n",
       "<path d=\"M291.7146,-72.5708C295.9597,-64.0807 301.1536,-53.6929 305.8663,-44.2674\" fill=\"none\" stroke=\"#000000\"/>\n",
       "<polygon fill=\"#000000\" points=\"309.024,-45.7782 310.3657,-35.2687 302.763,-42.6477 309.024,-45.7782\" stroke=\"#000000\"/>\n",
       "</g>\n",
       "<!-- Symbol(&#39;c&#39;)_(2, 1, 0, 1, 2) -->\n",
       "<g class=\"node\" id=\"node16\">\n",
       "<title>Symbol('c')_(2, 1, 0, 1, 2)</title>\n",
       "<ellipse cx=\"391\" cy=\"-18\" fill=\"none\" rx=\"27\" ry=\"18\" stroke=\"#000000\"/>\n",
       "<text fill=\"#000000\" font-family=\"Times,serif\" font-size=\"14.00\" text-anchor=\"middle\" x=\"391\" y=\"-13.8\">c</text>\n",
       "</g>\n",
       "<!-- Mul(Integer(&#45;4), Symbol(&#39;a&#39;), Symbol(&#39;c&#39;))_(2, 1, 0, 1)&#45;&gt;Symbol(&#39;c&#39;)_(2, 1, 0, 1, 2) -->\n",
       "<g class=\"edge\" id=\"edge16\">\n",
       "<title>Mul(Integer(-4), Symbol('a'), Symbol('c'))_(2, 1, 0, 1)-&gt;Symbol('c')_(2, 1, 0, 1, 2)</title>\n",
       "<path d=\"M302.3082,-77.1278C319.3555,-65.763 344.4019,-49.0654 363.5344,-36.3104\" fill=\"none\" stroke=\"#000000\"/>\n",
       "<polygon fill=\"#000000\" points=\"365.4799,-39.2199 371.8589,-30.7607 361.5969,-33.3956 365.4799,-39.2199\" stroke=\"#000000\"/>\n",
       "</g>\n",
       "</g>\n",
       "</svg>"
      ],
      "text/plain": [
       "<IPython.core.display.SVG object>"
      ]
     },
     "execution_count": 49,
     "metadata": {},
     "output_type": "execute_result"
    }
   ],
   "source": [
    "from IPython.display import SVG\n",
    "SVG('rješenja_kvadratne.svg')"
   ]
  },
  {
   "cell_type": "markdown",
   "metadata": {},
   "source": [
    "## Transformacije izraza"
   ]
  },
  {
   "cell_type": "markdown",
   "metadata": {},
   "source": [
    "Metodom `.rewrite` možemo reći izrazu da se pokuša zapisati u terminima neke druge funkcije (ako ne može, izraz će ostati nepromijenjen). Često je korisno u granama matematike gdje iz povijesnih razloga ima puno načina za zapisati jednu te istu stvar: npr. u trigonometriji.\n",
    "\n",
    "Evo kosinusa zapisanog pomoću sinusa, tangensa, kosekansa, eksponencijalne funkcije, i arkus kosinusa (ovo zadnje nije uspjelo, vjerojatno jer Sympy ne zna općenite inverze funkcija)."
   ]
  },
  {
   "cell_type": "code",
   "execution_count": 50,
   "metadata": {
    "scrolled": true
   },
   "outputs": [
    {
     "data": {
      "image/png": "[encoded data removed]",
      "text/latex": [
       "$\\displaystyle \\left[ \\sin{\\left(x + \\frac{\\pi}{2} \\right)}, \\  \\frac{1 - \\tan^{2}{\\left(\\frac{x}{2} \\right)}}{\\tan^{2}{\\left(\\frac{x}{2} \\right)} + 1}, \\  \\frac{1}{\\csc{\\left(- x + \\frac{\\pi}{2} \\right)}}, \\  \\frac{e^{i x}}{2} + \\frac{e^{- i x}}{2}, \\  \\cos{\\left(x \\right)}\\right]$"
      ],
      "text/plain": [
       "⎡                   2⎛x⎞                                   ⎤\n",
       "⎢            1 - tan ⎜─⎟                ⅈ⋅x    -ⅈ⋅x        ⎥\n",
       "⎢   ⎛    π⎞          ⎝2⎠       1       ℯ      ℯ            ⎥\n",
       "⎢sin⎜x + ─⎟, ───────────, ───────────, ──── + ─────, cos(x)⎥\n",
       "⎢   ⎝    2⎠     2⎛x⎞         ⎛     π⎞   2       2          ⎥\n",
       "⎢            tan ⎜─⎟ + 1  csc⎜-x + ─⎟                      ⎥\n",
       "⎣                ⎝2⎠         ⎝     2⎠                      ⎦"
      ]
     },
     "execution_count": 50,
     "metadata": {},
     "output_type": "execute_result"
    }
   ],
   "source": [
    "[sp.cos(x).rewrite(funkcija)\n",
    " for funkcija in (sp.sin, sp.tan, sp.csc, sp.exp, sp.acos)]"
   ]
  },
  {
   "cell_type": "markdown",
   "metadata": {},
   "source": [
    "Metoda `.equals` pokušava raznim (uglavnom polinomnim) transformacijama ustanoviti jesu li dva izraza jednaki."
   ]
  },
  {
   "cell_type": "code",
   "execution_count": 51,
   "metadata": {},
   "outputs": [
    {
     "data": {
      "text/plain": [
       "(True, True, None)"
      ]
     },
     "execution_count": 51,
     "metadata": {},
     "output_type": "execute_result"
    }
   ],
   "source": [
    "(x**2 + 2*x + 1).equals((x+1)**2), \\\n",
    "sp.sin(2*x).equals(2*sp.sin(x)*sp.cos(x)), \\\n",
    "sp.sqrt(x**2).equals(x)"
   ]
  },
  {
   "cell_type": "markdown",
   "metadata": {},
   "source": [
    "Metoda `.simplify()` pokušava sličnim transformacijama dovesti izraz u što jednostavniji oblik. Heuristika jednostavnosti joj nije previše pametna --- često je bolje koristiti specijalizirane funkcije ako znamo što želimo napraviti. No dobra je za \"preprocessing\" raznih kobasicâ koje možemo dobiti kao međurezultate."
   ]
  },
  {
   "cell_type": "code",
   "execution_count": 52,
   "metadata": {},
   "outputs": [
    {
     "data": {
      "image/png": "[encoded data removed]",
      "text/latex": [
       "$\\displaystyle x \\left(x + 1\\right)$"
      ],
      "text/plain": [
       "x⋅(x + 1)"
      ]
     },
     "execution_count": 52,
     "metadata": {},
     "output_type": "execute_result"
    }
   ],
   "source": [
    "(sp.gamma(x + 2) / sp.gamma(x)).simplify()"
   ]
  },
  {
   "cell_type": "code",
   "execution_count": 53,
   "metadata": {},
   "outputs": [
    {
     "data": {
      "image/png": "[encoded data removed]",
      "text/latex": [
       "$\\displaystyle \\left( x^{2} + 2 x + 1, \\  \\left(x + 1\\right)^{2}\\right)$"
      ],
      "text/plain": [
       "⎛ 2                   2⎞\n",
       "⎝x  + 2⋅x + 1, (x + 1) ⎠"
      ]
     },
     "execution_count": 53,
     "metadata": {},
     "output_type": "execute_result"
    }
   ],
   "source": [
    "(x ** 2 + 2 * x + 1).simplify(), (x ** 2 + 2 * x + 1).factor()"
   ]
  },
  {
   "cell_type": "markdown",
   "metadata": {},
   "source": [
    "Ponekad je korisno transformaciju primijeniti samo na neki dio izraza. Evo pomoćne funkcije koja to radi."
   ]
  },
  {
   "cell_type": "code",
   "execution_count": 54,
   "metadata": {},
   "outputs": [],
   "source": [
    "def partrans(izraz, transformacija, podizraz):\n",
    "    return izraz.subs(podizraz, transformacija(podizraz))"
   ]
  },
  {
   "cell_type": "markdown",
   "metadata": {},
   "source": [
    "Recimo, `expand_trig` raspisuje trigonometrijske funkcije višestrukog kuta. Ako je primijenimo na donji izraz, raspisat će i sinus i kosinus dvostrukog kuta. Ako želimo raspisati samo jedan od njih, to možemo pomoću funkcije `partrans`."
   ]
  },
  {
   "cell_type": "code",
   "execution_count": 55,
   "metadata": {},
   "outputs": [
    {
     "data": {
      "image/png": "[encoded data removed]",
      "text/latex": [
       "$\\displaystyle \\left( 2 \\sin{\\left(x \\right)} \\cos{\\left(x \\right)} + 2 \\cos^{2}{\\left(x \\right)} - 1, \\  2 \\sin{\\left(x \\right)} \\cos{\\left(x \\right)} + \\cos{\\left(2 x \\right)}\\right)$"
      ],
      "text/plain": [
       "⎛                       2                                   ⎞\n",
       "⎝2⋅sin(x)⋅cos(x) + 2⋅cos (x) - 1, 2⋅sin(x)⋅cos(x) + cos(2⋅x)⎠"
      ]
     },
     "execution_count": 55,
     "metadata": {},
     "output_type": "execute_result"
    }
   ],
   "source": [
    "izraz = sp.sin(2*x) + sp.cos(2*x)\n",
    "sp.expand_trig(izraz), partrans(izraz, sp.expand_trig, sp.sin(2*x))"
   ]
  },
  {
   "cell_type": "markdown",
   "metadata": {},
   "source": [
    "### Polinomne transformacije"
   ]
  },
  {
   "cell_type": "markdown",
   "metadata": {},
   "source": [
    "Metoda `.expand()` primjenjuje distributivnost (množi \"svaki sa svakim\") dok ne dobije sumu monoma."
   ]
  },
  {
   "cell_type": "code",
   "execution_count": 56,
   "metadata": {},
   "outputs": [
    {
     "data": {
      "image/png": "[encoded data removed]",
      "text/latex": [
       "$\\displaystyle 1 - 3 x$"
      ],
      "text/plain": [
       "1 - 3⋅x"
      ]
     },
     "execution_count": 56,
     "metadata": {},
     "output_type": "execute_result"
    }
   ],
   "source": [
    "((x + 1) * (x - 2) - (x + 3) * (x - 1)).expand()"
   ]
  },
  {
   "cell_type": "markdown",
   "metadata": {},
   "source": [
    "Metoda `.factor()` djeluje u suprotnom smjeru: izlučuje što može i kombinira izraze da dobije produkt što manjih izraza."
   ]
  },
  {
   "cell_type": "code",
   "execution_count": 57,
   "metadata": {},
   "outputs": [
    {
     "data": {
      "image/png": "[encoded data removed]",
      "text/latex": [
       "$\\displaystyle z \\left(x + 2 y\\right)^{2}$"
      ],
      "text/plain": [
       "           2\n",
       "z⋅(x + 2⋅y) "
      ]
     },
     "execution_count": 57,
     "metadata": {},
     "output_type": "execute_result"
    }
   ],
   "source": [
    "from sympy.abc import x,y,z\n",
    "(x**2*z + 4*x*y*z + 4*y**2*z).factor()"
   ]
  },
  {
   "cell_type": "markdown",
   "metadata": {},
   "source": [
    "Primijetimo da `.factor()` djeluje algebarski: nije ga briga za ostale veze između pribrojnika. Ovdje nije prepoznao $\\sin^2+\\cos^2$, ali jest prepoznao kvadrat zbroja."
   ]
  },
  {
   "cell_type": "code",
   "execution_count": 58,
   "metadata": {},
   "outputs": [
    {
     "data": {
      "image/png": "[encoded data removed]",
      "text/latex": [
       "$\\displaystyle \\sin^{2}{\\left(x \\right)} - 2 \\sin{\\left(x \\right)} \\cos{\\left(x \\right)} + \\cos^{2}{\\left(x \\right)} = \\left(- \\sin{\\left(x \\right)} + \\cos{\\left(x \\right)}\\right)^{2}$"
      ],
      "text/plain": [
       "   2                           2                        2\n",
       "sin (x) - 2⋅sin(x)⋅cos(x) + cos (x) = (-sin(x) + cos(x)) "
      ]
     },
     "execution_count": 58,
     "metadata": {},
     "output_type": "execute_result"
    }
   ],
   "source": [
    "trinom = sp.cos(x)**2 + sp.sin(x)**2 - 2*sp.sin(x)*sp.cos(x)\n",
    "sp.Eq(trinom, trinom.factor())"
   ]
  },
  {
   "cell_type": "markdown",
   "metadata": {},
   "source": [
    "Metodom `.coeff` možemo izvaditi koeficijent uz danu potenciju dane varijable. Precizno, `t.coeff(x, n)` je koeficijent uz $x^n$ u polinomu $t$."
   ]
  },
  {
   "cell_type": "code",
   "execution_count": 59,
   "metadata": {},
   "outputs": [
    {
     "data": {
      "image/png": "[encoded data removed]",
      "text/latex": [
       "$\\displaystyle 2 - z$"
      ],
      "text/plain": [
       "2 - z"
      ]
     },
     "execution_count": 59,
     "metadata": {},
     "output_type": "execute_result"
    }
   ],
   "source": [
    "(x*y + x - 3 + 2*x**2 - z*x**2 + x**3).coeff(x, 2)"
   ]
  },
  {
   "cell_type": "markdown",
   "metadata": {},
   "source": [
    "Evo nekoliko metoda, primijetimo da sve daju različite izraze. `.together()` je svođenje na zajednički (faktorizirani) nazivnik, `.apart()` je \"suprotno\" od toga (rastav na parcijalne razlomke). `.cancel()` skraćuje razlomke bez faktorizacije (traži NZM Euklidovim algoritmom, zato je brži nego da faktorizira i brojnik i nazivnik --- pogledajte primjer dolje). `.factor()` i `.expand()` djeluju na brojniku i na nazivniku zasebno."
   ]
  },
  {
   "cell_type": "code",
   "execution_count": 60,
   "metadata": {},
   "outputs": [
    {
     "data": {
      "image/png": "[encoded data removed]",
      "text/latex": [
       "$\\displaystyle \\left( \\frac{\\frac{3 x}{2} - 2}{x - 4} + \\frac{1}{x}, \\  \\frac{x \\left(3 x - 4\\right) + 2 x - 8}{2 x \\left(x - 4\\right)}, \\  \\frac{3 x}{2 \\left(x - 4\\right)} - \\frac{2}{x - 4} + \\frac{1}{x}, \\  \\frac{3 x^{2} - 2 x - 8}{2 x^{2} - 8 x}, \\  \\frac{3}{2} + \\frac{4}{x - 4} + \\frac{1}{x}, \\  \\frac{3 x^{2} - 2 x - 8}{2 x \\left(x - 4\\right)}, \\  \\frac{\\frac{3 x^{2}}{2} - x - 4}{x \\left(x - 4\\right)}\\right)$"
      ],
      "text/plain": [
       "⎛                                                                             \n",
       "⎜3⋅x                                                                          \n",
       "⎜─── - 2                                                       2              \n",
       "⎜ 2        1  x⋅(3⋅x - 4) + 2⋅x - 8     3⋅x        2     1  3⋅x  - 2⋅x - 8  3 \n",
       "⎜─────── + ─, ─────────────────────, ───────── - ───── + ─, ──────────────, ─ \n",
       "⎜ x - 4    x       2⋅x⋅(x - 4)       2⋅(x - 4)   x - 4   x       2          2 \n",
       "⎝                                                             2⋅x  - 8⋅x      \n",
       "\n",
       "                                2        ⎞\n",
       "                             3⋅x         ⎟\n",
       "                2            ──── - x - 4⎟\n",
       "    4     1  3⋅x  - 2⋅x - 8   2          ⎟\n",
       "+ ───── + ─, ──────────────, ────────────⎟\n",
       "  x - 4   x   2⋅x⋅(x - 4)     x⋅(x - 4)  ⎟\n",
       "                                         ⎠"
      ]
     },
     "execution_count": 60,
     "metadata": {},
     "output_type": "execute_result"
    }
   ],
   "source": [
    "izraz = 1 / x + (3*x/2 - 2) / (x - 4)\n",
    "izraz, izraz.together(), izraz.expand(), izraz.cancel(), izraz.apart(), \\\n",
    "izraz.together().expand().together(), izraz.simplify()"
   ]
  },
  {
   "cell_type": "code",
   "execution_count": 61,
   "metadata": {},
   "outputs": [
    {
     "data": {
      "image/png": "[encoded data removed]",
      "text/latex": [
       "$\\displaystyle \\left( \\frac{x y^{2} - 2 x y z + x z^{2} + y^{2} - 2 y z + z^{2}}{x^{2} - 1}, \\  \\frac{y^{2} - 2 y z + z^{2}}{x - 1}, \\  \\frac{\\left(y - z\\right)^{2}}{x - 1}\\right)$"
      ],
      "text/plain": [
       "⎛   2                2    2            2   2            2         2⎞\n",
       "⎜x⋅y  - 2⋅x⋅y⋅z + x⋅z  + y  - 2⋅y⋅z + z   y  - 2⋅y⋅z + z   (y - z) ⎟\n",
       "⎜───────────────────────────────────────, ───────────────, ────────⎟\n",
       "⎜                  2                           x - 1        x - 1  ⎟\n",
       "⎝                 x  - 1                                           ⎠"
      ]
     },
     "execution_count": 61,
     "metadata": {},
     "output_type": "execute_result"
    }
   ],
   "source": [
    "izraz = (x*y**2 - 2*x*y*z + x*z**2 + y**2 - 2*y*z + z**2) / (x**2 - 1)\n",
    "izraz, izraz.cancel(), izraz.factor()"
   ]
  },
  {
   "cell_type": "code",
   "execution_count": 62,
   "metadata": {},
   "outputs": [
    {
     "data": {
      "image/png": "[encoded data removed]",
      "text/latex": [
       "$\\displaystyle \\frac{2 x - 1}{x^{2} + x + 1} - \\frac{1}{x + 4} + \\frac{3}{x}$"
      ],
      "text/plain": [
       " 2⋅x - 1       1     3\n",
       "────────── - ───── + ─\n",
       " 2           x + 4   x\n",
       "x  + x + 1            "
      ]
     },
     "execution_count": 62,
     "metadata": {},
     "output_type": "execute_result"
    }
   ],
   "source": [
    "((4*x**3 + 21*x**2 + 10*x + 12)/(x**4 + 5*x**3 + 5*x**2 + 4*x)).apart()"
   ]
  },
  {
   "cell_type": "markdown",
   "metadata": {},
   "source": [
    "### Trigonometrijske transformacije"
   ]
  },
  {
   "cell_type": "markdown",
   "metadata": {},
   "source": [
    "Arkus kosinus nije inverzna funkcija kosinusa."
   ]
  },
  {
   "cell_type": "code",
   "execution_count": 63,
   "metadata": {},
   "outputs": [
    {
     "name": "stdout",
     "output_type": "stream",
     "text": [
      "False\n"
     ]
    },
    {
     "data": {
      "image/png": "[encoded data removed]",
      "text/latex": [
       "$\\displaystyle 7 - 2 \\pi$"
      ],
      "text/plain": [
       "7 - 2⋅π"
      ]
     },
     "execution_count": 63,
     "metadata": {},
     "output_type": "execute_result"
    }
   ],
   "source": [
    "print(sp.acos(sp.cos(7)).equals(7))\n",
    "\n",
    "sp.acos(sp.cos(7)).simplify()"
   ]
  },
  {
   "cell_type": "markdown",
   "metadata": {},
   "source": [
    "Funkcije `trigsimp` i `expand_trig` služe redukciji i ekspanziji trigonometrijskih (i hiperbolnih) izraza. Primjerice, `expand_trig` primjenjuje adicijske formule u smjeru više jednostavnijih poziva, a `trigsimp` prema manje složenijih poziva trigonometrijskih funkcija."
   ]
  },
  {
   "cell_type": "code",
   "execution_count": 64,
   "metadata": {},
   "outputs": [
    {
     "data": {
      "image/png": "[encoded data removed]",
      "text/latex": [
       "$\\displaystyle - \\cosh{\\left(2 x \\right)}$"
      ],
      "text/plain": [
       "-cosh(2⋅x)"
      ]
     },
     "execution_count": 64,
     "metadata": {},
     "output_type": "execute_result"
    }
   ],
   "source": [
    "sp.trigsimp(sp.sinh(x)**4 - sp.cosh(x)**4)"
   ]
  },
  {
   "cell_type": "code",
   "execution_count": 65,
   "metadata": {
    "scrolled": true
   },
   "outputs": [
    {
     "data": {
      "image/png": "[encoded data removed]",
      "text/latex": [
       "$\\displaystyle \\sin{\\left(1 \\right)} \\sin{\\left(x \\right)} + \\cos{\\left(1 \\right)} \\cos{\\left(x \\right)}$"
      ],
      "text/plain": [
       "sin(1)⋅sin(x) + cos(1)⋅cos(x)"
      ]
     },
     "execution_count": 65,
     "metadata": {},
     "output_type": "execute_result"
    }
   ],
   "source": [
    "sp.expand_trig(sp.cos(1 - x))"
   ]
  },
  {
   "cell_type": "markdown",
   "metadata": {},
   "source": [
    "### Eksponencijalne i potencijske transformacije"
   ]
  },
  {
   "cell_type": "markdown",
   "metadata": {},
   "source": [
    "Mnoga srednjoškolska pravila vezana uz potenciranje zapravo nisu validna za općenite (kompleksne) varijable. Neka su validna za realne varijable, a neka samo za pozitivne/nenegativne. Varijable koje uvezemo iz `sympy.abc` su općenite, ali onima koje definiramo sa `symbols` možemo propisivati svojstva. Uvedimo dvije baze i dva eksponenta, općenite (bez sufiksa), realne (sa sufiksom `r`) i nenegativne (sa sufiksom `n`)."
   ]
  },
  {
   "cell_type": "code",
   "execution_count": 66,
   "metadata": {},
   "outputs": [],
   "source": [
    "from sympy.abc import a, b, x, y\n",
    "ar, br, xr, yr = sp.symbols('a b x y', real=True)\n",
    "an, bn, xn, yn = sp.symbols('a b x y', nonnegative=True)\n",
    "ap, bp, xp, yp = sp.symbols('a b x y', positive=True)"
   ]
  },
  {
   "cell_type": "markdown",
   "metadata": {},
   "source": [
    "Prvo pravilo ($x^ax^b=x^{a+b}$) je sasvim univerzalno. Pravilo $x^a\\cdot y^a=(xy)^a$ vrijedi puno rjeđe, ali vrijedi npr. kad su $x$ i $y$ prirodni brojevi."
   ]
  },
  {
   "cell_type": "code",
   "execution_count": 67,
   "metadata": {
    "scrolled": true
   },
   "outputs": [
    {
     "data": {
      "image/png": "[encoded data removed]",
      "text/latex": [
       "$\\displaystyle \\left( x^{a + b}, \\  6^{a}\\right)$"
      ],
      "text/plain": [
       "⎛ a + b   a⎞\n",
       "⎝x     , 6 ⎠"
      ]
     },
     "execution_count": 67,
     "metadata": {},
     "output_type": "execute_result"
    }
   ],
   "source": [
    "sp.powsimp(x**a * x**b), sp.powsimp(2**a * 3**a)"
   ]
  },
  {
   "cell_type": "markdown",
   "metadata": {},
   "source": [
    "Još jedan važan slučaj gdje vrijedi je s nenegativnim bazama i realnim eksponentima. Ako nam se (kao u srednjoškolskim udžbenicima) ne dâ previše razmišljati o uvjetima, možemo forsirati primjenu pravila imenovanim argumentom `force`."
   ]
  },
  {
   "cell_type": "code",
   "execution_count": 68,
   "metadata": {},
   "outputs": [
    {
     "data": {
      "image/png": "[encoded data removed]",
      "text/latex": [
       "$\\displaystyle \\left( \\left(x y\\right)^{a}, \\  \\left(x y\\right)^{a}\\right)$"
      ],
      "text/plain": [
       "⎛     a       a⎞\n",
       "⎝(x⋅y) , (x⋅y) ⎠"
      ]
     },
     "execution_count": 68,
     "metadata": {},
     "output_type": "execute_result"
    }
   ],
   "source": [
    "sp.powsimp(xn**ar * yn**ar), sp.powsimp(x**a * y**a, force=True)"
   ]
  },
  {
   "cell_type": "markdown",
   "metadata": {},
   "source": [
    "No ako je eksponent prirodni broj, pravilo ne radi iz drugog razloga: $(xy)^n$ se automatski natrag raspisuje kao $x^ny^n$ (baš kao što se s operacijama niže razine, $n(x+y)$ automatski distribuira)."
   ]
  },
  {
   "cell_type": "code",
   "execution_count": 69,
   "metadata": {
    "scrolled": true
   },
   "outputs": [
    {
     "data": {
      "image/png": "[encoded data removed]",
      "text/latex": [
       "$\\displaystyle \\left( x^{2} y^{2}, \\  x^{2} y^{2}, \\  2 x + 2 y\\right)$"
      ],
      "text/plain": [
       "⎛ 2  2   2  2           ⎞\n",
       "⎝x ⋅y , x ⋅y , 2⋅x + 2⋅y⎠"
      ]
     },
     "execution_count": 69,
     "metadata": {},
     "output_type": "execute_result"
    }
   ],
   "source": [
    "sp.powsimp(x**2 * y**2), (x*y)**2, 2*(x+y)"
   ]
  },
  {
   "cell_type": "markdown",
   "metadata": {},
   "source": [
    "U suprotnom smjeru od `powsimp` sada imamo dvije funkcije, za bazu i za eksponent. Opet, ova druga radi uvijek, a prva samo za nenegativne baze i realni eksponent. (Ako nekom ide kompleksna analiza, neka smisli kontraprimjere!:)"
   ]
  },
  {
   "cell_type": "code",
   "execution_count": 70,
   "metadata": {},
   "outputs": [
    {
     "data": {
      "image/png": "[encoded data removed]",
      "text/latex": [
       "$\\displaystyle \\left( x^{a} x^{b}, \\  x^{a} y^{a}\\right)$"
      ],
      "text/plain": [
       "⎛ a  b   a  a⎞\n",
       "⎝x ⋅x , x ⋅y ⎠"
      ]
     },
     "execution_count": 70,
     "metadata": {},
     "output_type": "execute_result"
    }
   ],
   "source": [
    "sp.expand_power_exp(x ** (a+b)), sp.expand_power_base((xn*yn) ** ar)"
   ]
  },
  {
   "cell_type": "markdown",
   "metadata": {},
   "source": [
    "Zapravo imamo još jednu, za pojednostavljivanje ugniježđenog potenciranja. To je ona formula $(x^a)^b=x^{ab}$, koja ne vrijedi uvijek. Vrijedi za nenegativnu bazu i realne eksponente, ili za bilo kakvu potenciju i cjelobrojni vanjski eksponent."
   ]
  },
  {
   "cell_type": "code",
   "execution_count": 71,
   "metadata": {},
   "outputs": [
    {
     "data": {
      "image/png": "[encoded data removed]",
      "text/latex": [
       "$\\displaystyle \\left( x^{a b}, \\  x^{a b}\\right)$"
      ],
      "text/plain": [
       "⎛ a⋅b   a⋅b⎞\n",
       "⎝x   , x   ⎠"
      ]
     },
     "execution_count": 71,
     "metadata": {},
     "output_type": "execute_result"
    }
   ],
   "source": [
    "sp.powdenest((xn**ar)**br), sp.powdenest((x**a)**sp.symbols('b', integer=True))"
   ]
  },
  {
   "cell_type": "markdown",
   "metadata": {},
   "source": [
    "Logaritmi imaju više-manje iste transformacije, samo gledane s druge strane (i argumenti sada moraju biti pozitivni, ne samo nenegativni). Funkcije za ekspanziju i redukciju su `expand_log` i `logcombine`.\n",
    "\n",
    "Naravno, od donja dva izraza, samo je jedan jednak $x$ za sasvim općenite $x$. Drugi je jednak $x$ za _realne_ $x$."
   ]
  },
  {
   "cell_type": "code",
   "execution_count": 72,
   "metadata": {},
   "outputs": [
    {
     "data": {
      "image/png": "[encoded data removed]",
      "text/latex": [
       "$\\displaystyle \\left( x, \\  \\log{\\left(e^{x} \\right)}, \\  x\\right)$"
      ],
      "text/plain": [
       "⎛      ⎛ x⎞   ⎞\n",
       "⎝x, log⎝ℯ ⎠, x⎠"
      ]
     },
     "execution_count": 72,
     "metadata": {},
     "output_type": "execute_result"
    }
   ],
   "source": [
    "sp.exp(sp.log(x)), sp.log(sp.exp(x)), sp.log(sp.exp(xr))"
   ]
  },
  {
   "cell_type": "code",
   "execution_count": 73,
   "metadata": {},
   "outputs": [
    {
     "data": {
      "image/png": "[encoded data removed]",
      "text/latex": [
       "$\\displaystyle \\left( \\log{\\left(x \\right)} + \\log{\\left(y \\right)}, \\  a \\log{\\left(x \\right)}\\right)$"
      ],
      "text/plain": [
       "(log(x) + log(y), a⋅log(x))"
      ]
     },
     "execution_count": 73,
     "metadata": {},
     "output_type": "execute_result"
    }
   ],
   "source": [
    "sp.expand_log(sp.log(xp * yp)), sp.expand_log(sp.log(xp ** ar))"
   ]
  },
  {
   "cell_type": "code",
   "execution_count": 74,
   "metadata": {},
   "outputs": [
    {
     "data": {
      "image/png": "[encoded data removed]",
      "text/latex": [
       "$\\displaystyle \\log{\\left(x^{2} \\right)}$"
      ],
      "text/plain": [
       "   ⎛ 2⎞\n",
       "log⎝x ⎠"
      ]
     },
     "execution_count": 74,
     "metadata": {},
     "output_type": "execute_result"
    }
   ],
   "source": [
    "sp.logcombine(2 * sp.log(xp))"
   ]
  },
  {
   "cell_type": "markdown",
   "metadata": {},
   "source": [
    "### Kombinatoričke transformacije"
   ]
  },
  {
   "cell_type": "code",
   "execution_count": 75,
   "metadata": {},
   "outputs": [
    {
     "data": {
      "image/png": "[encoded data removed]",
      "text/latex": [
       "$\\displaystyle x! = \\Gamma\\left(x + 1\\right)$"
      ],
      "text/plain": [
       "x! = Γ(x + 1)"
      ]
     },
     "execution_count": 75,
     "metadata": {},
     "output_type": "execute_result"
    }
   ],
   "source": [
    "sp.Eq(sp.factorial(x), sp.gamma(x + 1))"
   ]
  },
  {
   "cell_type": "code",
   "execution_count": 76,
   "metadata": {},
   "outputs": [
    {
     "data": {
      "image/png": "[encoded data removed]",
      "text/latex": [
       "$\\displaystyle \\text{True}$"
      ],
      "text/plain": [
       "True"
      ]
     },
     "execution_count": 76,
     "metadata": {},
     "output_type": "execute_result"
    }
   ],
   "source": [
    "_.simplify()"
   ]
  },
  {
   "cell_type": "markdown",
   "metadata": {},
   "source": [
    "Ako Sympy ne zna izračunati integral, ostavit će ga u neevaluiranom obliku (`.doit()` ga neće promijeniti). Ako ga zna izračunati pod određenim uvjetima, rastavit će ga na slučajeve gdje će slučaj \"inače\" biti neevaluirani integral. (ℜ označava realni dio kompleksnog broja.)"
   ]
  },
  {
   "cell_type": "code",
   "execution_count": 77,
   "metadata": {},
   "outputs": [
    {
     "data": {
      "image/png": "[encoded data removed]",
      "text/latex": [
       "$\\displaystyle \\begin{cases} z! & \\text{for}\\: \\operatorname{re}{\\left(z\\right)} > -1 \\\\\\int\\limits_{0}^{\\infty} t^{z} e^{- t}\\, dt & \\text{otherwise} \\end{cases}$"
      ],
      "text/plain": [
       "⎧    z!       for re(z) > -1\n",
       "⎪                           \n",
       "⎪∞                          \n",
       "⎪⌠                          \n",
       "⎨⎮  z  -t                   \n",
       "⎪⎮ t ⋅ℯ   dt    otherwise   \n",
       "⎪⌡                          \n",
       "⎪0                          \n",
       "⎩                           "
      ]
     },
     "execution_count": 77,
     "metadata": {},
     "output_type": "execute_result"
    }
   ],
   "source": [
    "from sympy.abc import t\n",
    "sp.Integral(t**z * sp.E**-t, (t, 0, sp.oo)).doit().rewrite(sp.factorial)"
   ]
  },
  {
   "cell_type": "code",
   "execution_count": 78,
   "metadata": {},
   "outputs": [
    {
     "data": {
      "image/png": "[encoded data removed]",
      "text/latex": [
       "$\\displaystyle {\\binom{n}{k}} = \\frac{n!}{k! \\left(- k + n\\right)!}$"
      ],
      "text/plain": [
       "⎛n⎞        n!     \n",
       "⎜ ⎟ = ────────────\n",
       "⎝k⎠   k!⋅(-k + n)!"
      ]
     },
     "execution_count": 78,
     "metadata": {},
     "output_type": "execute_result"
    }
   ],
   "source": [
    "from sympy.abc import n, k\n",
    "binkoef = sp.binomial(n, k)\n",
    "sp.Eq(binkoef, binkoef.rewrite(sp.factorial))"
   ]
  },
  {
   "cell_type": "code",
   "execution_count": 79,
   "metadata": {},
   "outputs": [
    {
     "data": {
      "image/png": "[encoded data removed]",
      "text/latex": [
       "$\\displaystyle \\frac{n \\left(n - 3\\right) \\left(n - 2\\right) \\left(n - 1\\right)}{24}$"
      ],
      "text/plain": [
       "n⋅(n - 3)⋅(n - 2)⋅(n - 1)\n",
       "─────────────────────────\n",
       "            24           "
      ]
     },
     "execution_count": 79,
     "metadata": {},
     "output_type": "execute_result"
    }
   ],
   "source": [
    "sp.combsimp(sp.binomial(n, n-4))"
   ]
  },
  {
   "cell_type": "markdown",
   "metadata": {},
   "source": [
    "Ovu formulu vjerojatno niste znali (ja nisam!):"
   ]
  },
  {
   "cell_type": "code",
   "execution_count": 80,
   "metadata": {
    "scrolled": true
   },
   "outputs": [
    {
     "data": {
      "image/png": "[encoded data removed]",
      "text/latex": [
       "$\\displaystyle \\frac{\\pi x}{\\sin{\\left(\\pi x \\right)}}$"
      ],
      "text/plain": [
       "  π⋅x   \n",
       "────────\n",
       "sin(π⋅x)"
      ]
     },
     "execution_count": 80,
     "metadata": {},
     "output_type": "execute_result"
    }
   ],
   "source": [
    "sp.combsimp(sp.factorial(x) * sp.factorial(-x))"
   ]
  },
  {
   "cell_type": "markdown",
   "metadata": {},
   "source": [
    "## Još neke sitnice"
   ]
  },
  {
   "cell_type": "markdown",
   "metadata": {},
   "source": [
    "### Skupovno rješavanje (ne)jednadžbi"
   ]
  },
  {
   "cell_type": "markdown",
   "metadata": {},
   "source": [
    "Relativno novo sučelje Sympyja za rješavanje jednadžbi je funkcija `solveset`, koja prikazuje skupove rješenja preko parametara iz matematičkih skupova, čime omogućuje vjerno rješavanje jednadžbi koje imaju beskonačno mnogo rješenja. Može rješavati i nejednadžbe, ali tu još ima dosta bugova pa nemojte slijepo vjerovati onom što kaže."
   ]
  },
  {
   "cell_type": "code",
   "execution_count": 81,
   "metadata": {},
   "outputs": [
    {
     "data": {
      "image/png": "[encoded data removed]",
      "text/latex": [
       "$\\displaystyle \\left[ \\frac{\\pi}{4}, \\  \\frac{3 \\pi}{4}\\right]$"
      ],
      "text/plain": [
       "⎡π  3⋅π⎤\n",
       "⎢─, ───⎥\n",
       "⎣4   4 ⎦"
      ]
     },
     "execution_count": 81,
     "metadata": {},
     "output_type": "execute_result"
    }
   ],
   "source": [
    "sp.solve(sp.cos(2*x), x)"
   ]
  },
  {
   "cell_type": "markdown",
   "metadata": {},
   "source": [
    "Vidimo da je `solve` našla samo \"glavna\" rješenja (ona koja odgovaraju jednom periodu kosinusa). Sa `solveset` možemo dobiti čitav skup rješenja."
   ]
  },
  {
   "cell_type": "code",
   "execution_count": 82,
   "metadata": {},
   "outputs": [
    {
     "data": {
      "image/png": "[encoded data removed]",
      "text/latex": [
       "$\\displaystyle \\left\\{2 n \\pi + \\frac{5 \\pi}{4}\\; |\\; n \\in \\mathbb{Z}\\right\\} \\cup \\left\\{2 n \\pi + \\frac{3 \\pi}{4}\\; |\\; n \\in \\mathbb{Z}\\right\\} \\cup \\left\\{2 n \\pi + \\frac{7 \\pi}{4}\\; |\\; n \\in \\mathbb{Z}\\right\\} \\cup \\left\\{2 n \\pi + \\frac{\\pi}{4}\\; |\\; n \\in \\mathbb{Z}\\right\\}$"
      ],
      "text/plain": [
       "⎧        5⋅π        ⎫   ⎧        3⋅π        ⎫   ⎧        7⋅π        ⎫   ⎧     \n",
       "⎨2⋅n⋅π + ─── | n ∊ ℤ⎬ ∪ ⎨2⋅n⋅π + ─── | n ∊ ℤ⎬ ∪ ⎨2⋅n⋅π + ─── | n ∊ ℤ⎬ ∪ ⎨2⋅n⋅π\n",
       "⎩         4         ⎭   ⎩         4         ⎭   ⎩         4         ⎭   ⎩     \n",
       "\n",
       "   π        ⎫\n",
       " + ─ | n ∊ ℤ⎬\n",
       "   4        ⎭"
      ]
     },
     "execution_count": 82,
     "metadata": {},
     "output_type": "execute_result"
    }
   ],
   "source": [
    "sp.solveset(sp.cos(2*x), x)"
   ]
  },
  {
   "cell_type": "markdown",
   "metadata": {},
   "source": [
    "Kao i `solve`, `solveset` podrazumijevano rješava jednadžbe u kompleksnoj ravnini, što može dovesti do toga da dobijemo više rješenjâ nego što smo očekivali. Specificirati područje nad kojim se jednadžba rješava možemo navodeći treći argument."
   ]
  },
  {
   "cell_type": "code",
   "execution_count": 83,
   "metadata": {
    "scrolled": false
   },
   "outputs": [
    {
     "data": {
      "image/png": "[encoded data removed]",
      "text/latex": [
       "$\\displaystyle \\left\\{2 n i \\pi\\; |\\; n \\in \\mathbb{Z}\\right\\}$"
      ],
      "text/plain": [
       "{2⋅n⋅ⅈ⋅π | n ∊ ℤ}"
      ]
     },
     "execution_count": 83,
     "metadata": {},
     "output_type": "execute_result"
    }
   ],
   "source": [
    "sp.solveset(sp.Eq(sp.E**x, 1), x)"
   ]
  },
  {
   "cell_type": "code",
   "execution_count": 84,
   "metadata": {},
   "outputs": [
    {
     "data": {
      "image/png": "[encoded data removed]",
      "text/latex": [
       "$\\displaystyle \\left\\{0\\right\\}$"
      ],
      "text/plain": [
       "{0}"
      ]
     },
     "execution_count": 84,
     "metadata": {},
     "output_type": "execute_result"
    }
   ],
   "source": [
    "sp.solveset(sp.Eq(sp.E**x, 1), x, sp.S.Reals)"
   ]
  },
  {
   "cell_type": "markdown",
   "metadata": {},
   "source": [
    "`solveset` promatra samo generička rješenja. Za opći $y$, jednadžba $x-y=x+y+2$ nema rješenja, iako ima rješenja za $y=-1$. Nažalost, `solveset` još ne zna rješavati jednadžbe (i sustave) po više varijabli."
   ]
  },
  {
   "cell_type": "code",
   "execution_count": 85,
   "metadata": {
    "scrolled": true
   },
   "outputs": [
    {
     "data": {
      "image/png": "[encoded data removed]",
      "text/latex": [
       "$\\displaystyle \\emptyset$"
      ],
      "text/plain": [
       "∅"
      ]
     },
     "execution_count": 85,
     "metadata": {},
     "output_type": "execute_result"
    }
   ],
   "source": [
    "sp.solveset(sp.Eq(x - y, x + y + 2), x)"
   ]
  },
  {
   "cell_type": "markdown",
   "metadata": {},
   "source": [
    "Nejednadžbe... mogu se pojaviti i u procesu rješenja jednadžbi, recimo s apsolutnim vrijednostima."
   ]
  },
  {
   "cell_type": "code",
   "execution_count": 86,
   "metadata": {},
   "outputs": [
    {
     "data": {
      "image/png": "[encoded data removed]",
      "text/latex": [
       "$\\displaystyle \\left(-7, -3\\right] \\cup \\left[1, \\infty\\right)$"
      ],
      "text/plain": [
       "(-7, -3] ∪ [1, ∞)"
      ]
     },
     "execution_count": 86,
     "metadata": {},
     "output_type": "execute_result"
    }
   ],
   "source": [
    "sp.solveset((x**2 + 2*x - 3) / (x+7) >= 0, x, sp.S.Reals)"
   ]
  },
  {
   "cell_type": "code",
   "execution_count": 87,
   "metadata": {},
   "outputs": [
    {
     "data": {
      "image/png": "[encoded data removed]",
      "text/latex": [
       "$\\displaystyle \\left\\{x \\mid x \\in \\left\\{- y, y\\right\\} \\wedge y \\in \\left[0, \\infty\\right) \\right\\}$"
      ],
      "text/plain": [
       "{x | x ∊ {-y, y} ∧ (y ∈ [0, ∞))}"
      ]
     },
     "execution_count": 87,
     "metadata": {},
     "output_type": "execute_result"
    }
   ],
   "source": [
    "sp.solveset(sp.Eq(abs(x), y), x, sp.S.Reals)"
   ]
  },
  {
   "cell_type": "code",
   "execution_count": 88,
   "metadata": {},
   "outputs": [
    {
     "data": {
      "image/png": "[encoded data removed]",
      "text/latex": [
       "$\\displaystyle \\left\\{0\\right\\} \\cup \\left[\\pi, 2 \\pi\\right]$"
      ],
      "text/plain": [
       "{0} ∪ [π, 2⋅π]"
      ]
     },
     "execution_count": 88,
     "metadata": {},
     "output_type": "execute_result"
    }
   ],
   "source": [
    "krivo_rješenje = sp.solveset(sp.sin(x) <= 0, x, sp.S.Reals)\n",
    "krivo_rješenje"
   ]
  },
  {
   "cell_type": "code",
   "execution_count": 89,
   "metadata": {},
   "outputs": [
    {
     "data": {
      "text/plain": [
       "(False, True)"
      ]
     },
     "execution_count": 89,
     "metadata": {},
     "output_type": "execute_result"
    }
   ],
   "source": [
    "3*sp.pi in krivo_rješenje, sp.sin(3*sp.pi) <= 0"
   ]
  },
  {
   "cell_type": "code",
   "execution_count": 90,
   "metadata": {},
   "outputs": [
    {
     "data": {
      "text/plain": [
       "'Union(FiniteSet(Integer(0)), Interval(pi, Mul(Integer(2), pi), false, false))'"
      ]
     },
     "execution_count": 90,
     "metadata": {},
     "output_type": "execute_result"
    }
   ],
   "source": [
    "sp.srepr(krivo_rješenje)"
   ]
  },
  {
   "cell_type": "markdown",
   "metadata": {},
   "source": [
    "### Pretpostavke i upiti"
   ]
  },
  {
   "cell_type": "markdown",
   "metadata": {},
   "source": [
    "Još jedan relativno novi dio Sympyja je sučelje pomoću kojeg se mogu određivati svojstva brojeva koje izrazi predstavljaju, neovisno o vrijednostima varijabli koje se u njima pojavljuju. Funkcija `ask` prima upit oblika `Q.`svojstvo`(`izraz`)`, i vraća `True` ako je sigurna da svojstvo vrijedi, `False` ako je sigurna da svojstvo ne vrijedi, a `None` (ne ispisuje se ništa u Jupyteru) ako nije sigurna. Naravno, još uvijek je u izradi i nije joj uvijek za vjerovati, ali već zasad zna neke prilično *cool* stvari."
   ]
  },
  {
   "cell_type": "code",
   "execution_count": 91,
   "metadata": {},
   "outputs": [
    {
     "data": {
      "text/plain": [
       "False"
      ]
     },
     "execution_count": 91,
     "metadata": {},
     "output_type": "execute_result"
    }
   ],
   "source": [
    "x = sp.symbols('x', nonnegative=True)\n",
    "sp.ask(sp.Q.negative(sp.sqrt(x)))"
   ]
  },
  {
   "cell_type": "markdown",
   "metadata": {},
   "source": [
    "Vidimo da se pretpostavke mogu pisati vezane na same simbole. Ako imamo privremene pretpostavke (samo za pojedino pitanje), dobro je koristiti kontekst `with assuming`."
   ]
  },
  {
   "cell_type": "code",
   "execution_count": 92,
   "metadata": {},
   "outputs": [
    {
     "name": "stdout",
     "output_type": "stream",
     "text": [
      "True\n"
     ]
    }
   ],
   "source": [
    "with sp.assuming(sp.Q.real(x), sp.Q.nonzero(x)):\n",
    "    print(sp.ask(sp.Q.positive(x ** 2)))"
   ]
  },
  {
   "cell_type": "code",
   "execution_count": 93,
   "metadata": {},
   "outputs": [
    {
     "name": "stdout",
     "output_type": "stream",
     "text": [
      "False\n"
     ]
    }
   ],
   "source": [
    "x = sp.symbols('x')\n",
    "with sp.assuming(sp.Q.integer(x)):\n",
    "    print(sp.ask(sp.Q.prime(4 * x)))"
   ]
  },
  {
   "cell_type": "markdown",
   "metadata": {},
   "source": [
    "### Simboličko potenciranje matrice"
   ]
  },
  {
   "cell_type": "markdown",
   "metadata": {},
   "source": [
    "Za kraj pogledajmo nešto što sigurno ne bismo olovkom i papirom uspjeli izračunati: opću formulu za $n$-tu potenciju matrice tipa $3×3$. Iako je postupak sasvim jasan (Jordanova forma i Cardanova formula), sâm račun je sigurno prekompliciran za ljude. Sympy ga provede u par sekundi.\n",
    "\n",
    "Prvo učinimo matricu `M` kvadratnom. (Tako ćemo joj umjetno povećati rang, pa neće imati inverz -- zato moramo pretpostaviti pozitivnost eksponenta.)"
   ]
  },
  {
   "cell_type": "code",
   "execution_count": 94,
   "metadata": {},
   "outputs": [
    {
     "data": {
      "image/png": "[encoded data removed]",
      "text/latex": [
       "$\\displaystyle \\left[\\begin{matrix}13 & 23 & 17\\\\23 & 41 & 33\\\\17 & 33 & 50\\end{matrix}\\right]$"
      ],
      "text/plain": [
       "⎡13  23  17⎤\n",
       "⎢          ⎥\n",
       "⎢23  41  33⎥\n",
       "⎢          ⎥\n",
       "⎣17  33  50⎦"
      ]
     },
     "execution_count": 94,
     "metadata": {},
     "output_type": "execute_result"
    }
   ],
   "source": [
    "M *= M.T\n",
    "M"
   ]
  },
  {
   "cell_type": "code",
   "execution_count": 95,
   "metadata": {},
   "outputs": [
    {
     "name": "stdout",
     "output_type": "stream",
     "text": [
      "CPU times: user 1.81 s, sys: 6.59 ms, total: 1.82 s\n",
      "Wall time: 1.82 s\n"
     ]
    },
    {
     "data": {
      "image/png": "[encoded data removed]",
      "text/latex": [
       "$\\displaystyle \\left[\\begin{matrix}\\frac{673 \\sqrt{1378} \\left(52 - \\sqrt{1378}\\right)^{n} \\left(- \\frac{390507 \\sqrt{1378}}{2692} - \\left(- \\frac{19 \\left(759 \\sqrt{1378} + 29601 + 17 \\left(-39 - \\sqrt{1378}\\right) \\left(- \\sqrt{1378} - 11\\right)\\right)}{2 \\left(-529 + \\left(-39 - \\sqrt{1378}\\right) \\left(- \\sqrt{1378} - 11\\right)\\right) \\left(-39 - \\sqrt{1378}\\right)} - \\frac{31 \\left(-1678 - 33 \\sqrt{1378}\\right)}{2 \\left(-529 + \\left(-39 - \\sqrt{1378}\\right) \\left(- \\sqrt{1378} - 11\\right)\\right)}\\right) \\left(- \\frac{398841}{2692} - \\frac{19 \\left(- 759 \\sqrt{1378} + 17 \\left(-39 + \\sqrt{1378}\\right) \\left(-11 + \\sqrt{1378}\\right) + 29601\\right)}{2 \\left(-529 + \\left(-39 + \\sqrt{1378}\\right) \\left(-11 + \\sqrt{1378}\\right)\\right) \\left(-39 + \\sqrt{1378}\\right)} + \\frac{661 \\sqrt{1378}}{1346}\\right)\\right) \\left(- 759 \\sqrt{1378} + 17 \\left(-39 + \\sqrt{1378}\\right) \\left(-11 + \\sqrt{1378}\\right) + 29601\\right)}{14161017 \\left(-529 + \\left(-39 + \\sqrt{1378}\\right) \\left(-11 + \\sqrt{1378}\\right)\\right) \\left(-39 + \\sqrt{1378}\\right) \\left(\\frac{611}{673} - \\frac{661 \\sqrt{1378}}{1346}\\right)} + \\frac{673 \\sqrt{1378} \\left(\\sqrt{1378} + 52\\right)^{n} \\left(- \\frac{398841}{2692} - \\frac{19 \\left(- 759 \\sqrt{1378} + 17 \\left(-39 + \\sqrt{1378}\\right) \\left(-11 + \\sqrt{1378}\\right) + 29601\\right)}{2 \\left(-529 + \\left(-39 + \\sqrt{1378}\\right) \\left(-11 + \\sqrt{1378}\\right)\\right) \\left(-39 + \\sqrt{1378}\\right)} + \\frac{661 \\sqrt{1378}}{1346}\\right) \\left(759 \\sqrt{1378} + 29601 + 17 \\left(-39 - \\sqrt{1378}\\right) \\left(- \\sqrt{1378} - 11\\right)\\right)}{14161017 \\left(-529 + \\left(-39 - \\sqrt{1378}\\right) \\left(- \\sqrt{1378} - 11\\right)\\right) \\left(-39 - \\sqrt{1378}\\right)} & \\frac{673 \\sqrt{1378} \\left(52 - \\sqrt{1378}\\right)^{n} \\left(- \\frac{637143 \\sqrt{1378}}{2692} - \\left(- \\frac{961}{4} - \\frac{31 \\left(- 759 \\sqrt{1378} + 17 \\left(-39 + \\sqrt{1378}\\right) \\left(-11 + \\sqrt{1378}\\right) + 29601\\right)}{2 \\left(-529 + \\left(-39 + \\sqrt{1378}\\right) \\left(-11 + \\sqrt{1378}\\right)\\right) \\left(-39 + \\sqrt{1378}\\right)}\\right) \\left(- \\frac{19 \\left(759 \\sqrt{1378} + 29601 + 17 \\left(-39 - \\sqrt{1378}\\right) \\left(- \\sqrt{1378} - 11\\right)\\right)}{2 \\left(-529 + \\left(-39 - \\sqrt{1378}\\right) \\left(- \\sqrt{1378} - 11\\right)\\right) \\left(-39 - \\sqrt{1378}\\right)} - \\frac{31 \\left(-1678 - 33 \\sqrt{1378}\\right)}{2 \\left(-529 + \\left(-39 - \\sqrt{1378}\\right) \\left(- \\sqrt{1378} - 11\\right)\\right)}\\right)\\right) \\left(- 759 \\sqrt{1378} + 17 \\left(-39 + \\sqrt{1378}\\right) \\left(-11 + \\sqrt{1378}\\right) + 29601\\right)}{14161017 \\left(-529 + \\left(-39 + \\sqrt{1378}\\right) \\left(-11 + \\sqrt{1378}\\right)\\right) \\left(-39 + \\sqrt{1378}\\right) \\left(\\frac{611}{673} - \\frac{661 \\sqrt{1378}}{1346}\\right)} + \\frac{673 \\sqrt{1378} \\left(- \\frac{961}{4} - \\frac{31 \\left(- 759 \\sqrt{1378} + 17 \\left(-39 + \\sqrt{1378}\\right) \\left(-11 + \\sqrt{1378}\\right) + 29601\\right)}{2 \\left(-529 + \\left(-39 + \\sqrt{1378}\\right) \\left(-11 + \\sqrt{1378}\\right)\\right) \\left(-39 + \\sqrt{1378}\\right)}\\right) \\left(\\sqrt{1378} + 52\\right)^{n} \\left(759 \\sqrt{1378} + 29601 + 17 \\left(-39 - \\sqrt{1378}\\right) \\left(- \\sqrt{1378} - 11\\right)\\right)}{14161017 \\left(-529 + \\left(-39 - \\sqrt{1378}\\right) \\left(- \\sqrt{1378} - 11\\right)\\right) \\left(-39 - \\sqrt{1378}\\right)} & - \\frac{673 \\sqrt{1378} \\left(\\frac{18941}{1346} - \\frac{20491 \\sqrt{1378}}{2692}\\right) \\left(52 - \\sqrt{1378}\\right)^{n} \\left(- \\frac{19 \\left(759 \\sqrt{1378} + 29601 + 17 \\left(-39 - \\sqrt{1378}\\right) \\left(- \\sqrt{1378} - 11\\right)\\right)}{2 \\left(-529 + \\left(-39 - \\sqrt{1378}\\right) \\left(- \\sqrt{1378} - 11\\right)\\right) \\left(-39 - \\sqrt{1378}\\right)} - \\frac{31 \\left(-1678 - 33 \\sqrt{1378}\\right)}{2 \\left(-529 + \\left(-39 - \\sqrt{1378}\\right) \\left(- \\sqrt{1378} - 11\\right)\\right)}\\right) \\left(- 759 \\sqrt{1378} + 17 \\left(-39 + \\sqrt{1378}\\right) \\left(-11 + \\sqrt{1378}\\right) + 29601\\right)}{14161017 \\left(-529 + \\left(-39 + \\sqrt{1378}\\right) \\left(-11 + \\sqrt{1378}\\right)\\right) \\left(-39 + \\sqrt{1378}\\right) \\left(\\frac{611}{673} - \\frac{661 \\sqrt{1378}}{1346}\\right)} + \\frac{673 \\sqrt{1378} \\left(\\frac{18941}{1346} - \\frac{20491 \\sqrt{1378}}{2692}\\right) \\left(\\sqrt{1378} + 52\\right)^{n} \\left(759 \\sqrt{1378} + 29601 + 17 \\left(-39 - \\sqrt{1378}\\right) \\left(- \\sqrt{1378} - 11\\right)\\right)}{14161017 \\left(-529 + \\left(-39 - \\sqrt{1378}\\right) \\left(- \\sqrt{1378} - 11\\right)\\right) \\left(-39 - \\sqrt{1378}\\right)}\\\\\\frac{673 \\sqrt{1378} \\left(-1678 + 33 \\sqrt{1378}\\right) \\left(52 - \\sqrt{1378}\\right)^{n} \\left(- \\frac{390507 \\sqrt{1378}}{2692} - \\left(- \\frac{19 \\left(759 \\sqrt{1378} + 29601 + 17 \\left(-39 - \\sqrt{1378}\\right) \\left(- \\sqrt{1378} - 11\\right)\\right)}{2 \\left(-529 + \\left(-39 - \\sqrt{1378}\\right) \\left(- \\sqrt{1378} - 11\\right)\\right) \\left(-39 - \\sqrt{1378}\\right)} - \\frac{31 \\left(-1678 - 33 \\sqrt{1378}\\right)}{2 \\left(-529 + \\left(-39 - \\sqrt{1378}\\right) \\left(- \\sqrt{1378} - 11\\right)\\right)}\\right) \\left(- \\frac{398841}{2692} - \\frac{19 \\left(- 759 \\sqrt{1378} + 17 \\left(-39 + \\sqrt{1378}\\right) \\left(-11 + \\sqrt{1378}\\right) + 29601\\right)}{2 \\left(-529 + \\left(-39 + \\sqrt{1378}\\right) \\left(-11 + \\sqrt{1378}\\right)\\right) \\left(-39 + \\sqrt{1378}\\right)} + \\frac{661 \\sqrt{1378}}{1346}\\right)\\right)}{14161017 \\left(-529 + \\left(-39 + \\sqrt{1378}\\right) \\left(-11 + \\sqrt{1378}\\right)\\right) \\left(\\frac{611}{673} - \\frac{661 \\sqrt{1378}}{1346}\\right)} + \\frac{673 \\sqrt{1378} \\left(-1678 - 33 \\sqrt{1378}\\right) \\left(\\sqrt{1378} + 52\\right)^{n} \\left(- \\frac{398841}{2692} - \\frac{19 \\left(- 759 \\sqrt{1378} + 17 \\left(-39 + \\sqrt{1378}\\right) \\left(-11 + \\sqrt{1378}\\right) + 29601\\right)}{2 \\left(-529 + \\left(-39 + \\sqrt{1378}\\right) \\left(-11 + \\sqrt{1378}\\right)\\right) \\left(-39 + \\sqrt{1378}\\right)} + \\frac{661 \\sqrt{1378}}{1346}\\right)}{14161017 \\left(-529 + \\left(-39 - \\sqrt{1378}\\right) \\left(- \\sqrt{1378} - 11\\right)\\right)} & \\frac{673 \\sqrt{1378} \\left(-1678 + 33 \\sqrt{1378}\\right) \\left(52 - \\sqrt{1378}\\right)^{n} \\left(- \\frac{637143 \\sqrt{1378}}{2692} - \\left(- \\frac{961}{4} - \\frac{31 \\left(- 759 \\sqrt{1378} + 17 \\left(-39 + \\sqrt{1378}\\right) \\left(-11 + \\sqrt{1378}\\right) + 29601\\right)}{2 \\left(-529 + \\left(-39 + \\sqrt{1378}\\right) \\left(-11 + \\sqrt{1378}\\right)\\right) \\left(-39 + \\sqrt{1378}\\right)}\\right) \\left(- \\frac{19 \\left(759 \\sqrt{1378} + 29601 + 17 \\left(-39 - \\sqrt{1378}\\right) \\left(- \\sqrt{1378} - 11\\right)\\right)}{2 \\left(-529 + \\left(-39 - \\sqrt{1378}\\right) \\left(- \\sqrt{1378} - 11\\right)\\right) \\left(-39 - \\sqrt{1378}\\right)} - \\frac{31 \\left(-1678 - 33 \\sqrt{1378}\\right)}{2 \\left(-529 + \\left(-39 - \\sqrt{1378}\\right) \\left(- \\sqrt{1378} - 11\\right)\\right)}\\right)\\right)}{14161017 \\left(-529 + \\left(-39 + \\sqrt{1378}\\right) \\left(-11 + \\sqrt{1378}\\right)\\right) \\left(\\frac{611}{673} - \\frac{661 \\sqrt{1378}}{1346}\\right)} + \\frac{673 \\sqrt{1378} \\left(-1678 - 33 \\sqrt{1378}\\right) \\left(- \\frac{961}{4} - \\frac{31 \\left(- 759 \\sqrt{1378} + 17 \\left(-39 + \\sqrt{1378}\\right) \\left(-11 + \\sqrt{1378}\\right) + 29601\\right)}{2 \\left(-529 + \\left(-39 + \\sqrt{1378}\\right) \\left(-11 + \\sqrt{1378}\\right)\\right) \\left(-39 + \\sqrt{1378}\\right)}\\right) \\left(\\sqrt{1378} + 52\\right)^{n}}{14161017 \\left(-529 + \\left(-39 - \\sqrt{1378}\\right) \\left(- \\sqrt{1378} - 11\\right)\\right)} & - \\frac{673 \\sqrt{1378} \\left(-1678 + 33 \\sqrt{1378}\\right) \\left(\\frac{18941}{1346} - \\frac{20491 \\sqrt{1378}}{2692}\\right) \\left(52 - \\sqrt{1378}\\right)^{n} \\left(- \\frac{19 \\left(759 \\sqrt{1378} + 29601 + 17 \\left(-39 - \\sqrt{1378}\\right) \\left(- \\sqrt{1378} - 11\\right)\\right)}{2 \\left(-529 + \\left(-39 - \\sqrt{1378}\\right) \\left(- \\sqrt{1378} - 11\\right)\\right) \\left(-39 - \\sqrt{1378}\\right)} - \\frac{31 \\left(-1678 - 33 \\sqrt{1378}\\right)}{2 \\left(-529 + \\left(-39 - \\sqrt{1378}\\right) \\left(- \\sqrt{1378} - 11\\right)\\right)}\\right)}{14161017 \\left(-529 + \\left(-39 + \\sqrt{1378}\\right) \\left(-11 + \\sqrt{1378}\\right)\\right) \\left(\\frac{611}{673} - \\frac{661 \\sqrt{1378}}{1346}\\right)} + \\frac{673 \\sqrt{1378} \\left(-1678 - 33 \\sqrt{1378}\\right) \\left(\\frac{18941}{1346} - \\frac{20491 \\sqrt{1378}}{2692}\\right) \\left(\\sqrt{1378} + 52\\right)^{n}}{14161017 \\left(-529 + \\left(-39 - \\sqrt{1378}\\right) \\left(- \\sqrt{1378} - 11\\right)\\right)}\\\\- \\frac{673 \\sqrt{1378} \\left(52 - \\sqrt{1378}\\right)^{n} \\left(- \\frac{390507 \\sqrt{1378}}{2692} - \\left(- \\frac{19 \\left(759 \\sqrt{1378} + 29601 + 17 \\left(-39 - \\sqrt{1378}\\right) \\left(- \\sqrt{1378} - 11\\right)\\right)}{2 \\left(-529 + \\left(-39 - \\sqrt{1378}\\right) \\left(- \\sqrt{1378} - 11\\right)\\right) \\left(-39 - \\sqrt{1378}\\right)} - \\frac{31 \\left(-1678 - 33 \\sqrt{1378}\\right)}{2 \\left(-529 + \\left(-39 - \\sqrt{1378}\\right) \\left(- \\sqrt{1378} - 11\\right)\\right)}\\right) \\left(- \\frac{398841}{2692} - \\frac{19 \\left(- 759 \\sqrt{1378} + 17 \\left(-39 + \\sqrt{1378}\\right) \\left(-11 + \\sqrt{1378}\\right) + 29601\\right)}{2 \\left(-529 + \\left(-39 + \\sqrt{1378}\\right) \\left(-11 + \\sqrt{1378}\\right)\\right) \\left(-39 + \\sqrt{1378}\\right)} + \\frac{661 \\sqrt{1378}}{1346}\\right)\\right)}{14161017 \\left(\\frac{611}{673} - \\frac{661 \\sqrt{1378}}{1346}\\right)} - \\frac{673 \\sqrt{1378} \\left(\\sqrt{1378} + 52\\right)^{n} \\left(- \\frac{398841}{2692} - \\frac{19 \\left(- 759 \\sqrt{1378} + 17 \\left(-39 + \\sqrt{1378}\\right) \\left(-11 + \\sqrt{1378}\\right) + 29601\\right)}{2 \\left(-529 + \\left(-39 + \\sqrt{1378}\\right) \\left(-11 + \\sqrt{1378}\\right)\\right) \\left(-39 + \\sqrt{1378}\\right)} + \\frac{661 \\sqrt{1378}}{1346}\\right)}{14161017} & - \\frac{673 \\sqrt{1378} \\left(52 - \\sqrt{1378}\\right)^{n} \\left(- \\frac{637143 \\sqrt{1378}}{2692} - \\left(- \\frac{961}{4} - \\frac{31 \\left(- 759 \\sqrt{1378} + 17 \\left(-39 + \\sqrt{1378}\\right) \\left(-11 + \\sqrt{1378}\\right) + 29601\\right)}{2 \\left(-529 + \\left(-39 + \\sqrt{1378}\\right) \\left(-11 + \\sqrt{1378}\\right)\\right) \\left(-39 + \\sqrt{1378}\\right)}\\right) \\left(- \\frac{19 \\left(759 \\sqrt{1378} + 29601 + 17 \\left(-39 - \\sqrt{1378}\\right) \\left(- \\sqrt{1378} - 11\\right)\\right)}{2 \\left(-529 + \\left(-39 - \\sqrt{1378}\\right) \\left(- \\sqrt{1378} - 11\\right)\\right) \\left(-39 - \\sqrt{1378}\\right)} - \\frac{31 \\left(-1678 - 33 \\sqrt{1378}\\right)}{2 \\left(-529 + \\left(-39 - \\sqrt{1378}\\right) \\left(- \\sqrt{1378} - 11\\right)\\right)}\\right)\\right)}{14161017 \\left(\\frac{611}{673} - \\frac{661 \\sqrt{1378}}{1346}\\right)} - \\frac{673 \\sqrt{1378} \\left(- \\frac{961}{4} - \\frac{31 \\left(- 759 \\sqrt{1378} + 17 \\left(-39 + \\sqrt{1378}\\right) \\left(-11 + \\sqrt{1378}\\right) + 29601\\right)}{2 \\left(-529 + \\left(-39 + \\sqrt{1378}\\right) \\left(-11 + \\sqrt{1378}\\right)\\right) \\left(-39 + \\sqrt{1378}\\right)}\\right) \\left(\\sqrt{1378} + 52\\right)^{n}}{14161017} & \\frac{673 \\sqrt{1378} \\left(\\frac{18941}{1346} - \\frac{20491 \\sqrt{1378}}{2692}\\right) \\left(52 - \\sqrt{1378}\\right)^{n} \\left(- \\frac{19 \\left(759 \\sqrt{1378} + 29601 + 17 \\left(-39 - \\sqrt{1378}\\right) \\left(- \\sqrt{1378} - 11\\right)\\right)}{2 \\left(-529 + \\left(-39 - \\sqrt{1378}\\right) \\left(- \\sqrt{1378} - 11\\right)\\right) \\left(-39 - \\sqrt{1378}\\right)} - \\frac{31 \\left(-1678 - 33 \\sqrt{1378}\\right)}{2 \\left(-529 + \\left(-39 - \\sqrt{1378}\\right) \\left(- \\sqrt{1378} - 11\\right)\\right)}\\right)}{14161017 \\left(\\frac{611}{673} - \\frac{661 \\sqrt{1378}}{1346}\\right)} - \\frac{673 \\sqrt{1378} \\left(\\frac{18941}{1346} - \\frac{20491 \\sqrt{1378}}{2692}\\right) \\left(\\sqrt{1378} + 52\\right)^{n}}{14161017}\\end{matrix}\\right]$"
      ],
      "text/plain": [
       "⎡                      n ⎛  390507⋅√1378   ⎛  19⋅(759⋅√1378 + 29601 + 17⋅(-39 \n",
       "⎢673⋅√1378⋅(52 - √1378) ⋅⎜- ──────────── - ⎜- ────────────────────────────────\n",
       "⎢                        ⎝      2692       ⎝    2⋅(-529 + (-39 - √1378)⋅(-√137\n",
       "⎢─────────────────────────────────────────────────────────────────────────────\n",
       "⎢                                                                             \n",
       "⎢                                                                             \n",
       "⎢                                                                             \n",
       "⎢                                                                             \n",
       "⎢                                                                           n \n",
       "⎢                                  673⋅√1378⋅(-1678 + 33⋅√1378)⋅(52 - √1378) ⋅\n",
       "⎢                                                                             \n",
       "⎢                                  ───────────────────────────────────────────\n",
       "⎢                                                                             \n",
       "⎢                                                                             \n",
       "⎢                                                                             \n",
       "⎢                                                                             \n",
       "⎢                                                                            n\n",
       "⎢                                                      673⋅√1378⋅(52 - √1378) \n",
       "⎢                                                                             \n",
       "⎢                                                    - ───────────────────────\n",
       "⎢                                                                             \n",
       "⎢                                                                             \n",
       "⎣                                                                             \n",
       "\n",
       "- √1378)⋅(-√1378 - 11))           31⋅(-1678 - 33⋅√1378)         ⎞ ⎛  398841   \n",
       "─────────────────────── - ──────────────────────────────────────⎟⋅⎜- ────── - \n",
       "8 - 11))⋅(-39 - √1378)    2⋅(-529 + (-39 - √1378)⋅(-√1378 - 11))⎠ ⎝   2692    \n",
       "──────────────────────────────────────────────────────────────────────────────\n",
       "                                                                              \n",
       "                        14161017⋅(-529 + (-39 + √1378)⋅(-11 + √1378))⋅(-39 + √\n",
       "                                                                              \n",
       "                                                                              \n",
       "⎛  390507⋅√1378   ⎛  19⋅(759⋅√1378 + 29601 + 17⋅(-39 - √1378)⋅(-√1378 - 11))  \n",
       "⎜- ──────────── - ⎜- ─────────────────────────────────────────────────────── -\n",
       "⎝      2692       ⎝    2⋅(-529 + (-39 - √1378)⋅(-√1378 - 11))⋅(-39 - √1378)   \n",
       "──────────────────────────────────────────────────────────────────────────────\n",
       "                                                                              \n",
       "                                               14161017⋅(-529 + (-39 + √1378)⋅\n",
       "                                                                              \n",
       "                                                                              \n",
       " ⎛  390507⋅√1378   ⎛  19⋅(759⋅√1378 + 29601 + 17⋅(-39 - √1378)⋅(-√1378 - 11)) \n",
       "⋅⎜- ──────────── - ⎜- ─────────────────────────────────────────────────────── \n",
       " ⎝      2692       ⎝    2⋅(-529 + (-39 - √1378)⋅(-√1378 - 11))⋅(-39 - √1378)  \n",
       "──────────────────────────────────────────────────────────────────────────────\n",
       "                                                                              \n",
       "                                                                             1\n",
       "                                                                              \n",
       "\n",
       "19⋅(-759⋅√1378 + 17⋅(-39 + √1378)⋅(-11 + √1378) + 29601)   661⋅√1378⎞⎞        \n",
       "──────────────────────────────────────────────────────── + ─────────⎟⎟⋅(-759⋅√\n",
       "  2⋅(-529 + (-39 + √1378)⋅(-11 + √1378))⋅(-39 + √1378)        1346  ⎠⎠        \n",
       "──────────────────────────────────────────────────────────────────────────────\n",
       "      ⎛611   661⋅√1378⎞                                                       \n",
       "1378)⋅⎜─── - ─────────⎟                                                       \n",
       "      ⎝673      1346  ⎠                                                       \n",
       "                                                                              \n",
       "         31⋅(-1678 - 33⋅√1378)         ⎞ ⎛  398841   19⋅(-759⋅√1378 + 17⋅(-39 \n",
       " ──────────────────────────────────────⎟⋅⎜- ────── - ─────────────────────────\n",
       " 2⋅(-529 + (-39 - √1378)⋅(-√1378 - 11))⎠ ⎝   2692      2⋅(-529 + (-39 + √1378)\n",
       "──────────────────────────────────────────────────────────────────────────────\n",
       "               ⎛611   661⋅√1378⎞                                              \n",
       "(-11 + √1378))⋅⎜─── - ─────────⎟                                              \n",
       "               ⎝673      1346  ⎠                                              \n",
       "                                                                              \n",
       "          31⋅(-1678 - 33⋅√1378)         ⎞ ⎛  398841   19⋅(-759⋅√1378 + 17⋅(-39\n",
       "- ──────────────────────────────────────⎟⋅⎜- ────── - ────────────────────────\n",
       "  2⋅(-529 + (-39 - √1378)⋅(-√1378 - 11))⎠ ⎝   2692      2⋅(-529 + (-39 + √1378\n",
       "──────────────────────────────────────────────────────────────────────────────\n",
       "        ⎛611   661⋅√1378⎞                                                     \n",
       "4161017⋅⎜─── - ─────────⎟                                                     \n",
       "        ⎝673      1346  ⎠                                                     \n",
       "\n",
       "                                                                       n ⎛  39\n",
       "1378 + 17⋅(-39 + √1378)⋅(-11 + √1378) + 29601)   673⋅√1378⋅(√1378 + 52) ⋅⎜- ──\n",
       "                                                                         ⎝   2\n",
       "────────────────────────────────────────────── + ─────────────────────────────\n",
       "                                                                              \n",
       "                                                                              \n",
       "                                                                              \n",
       "                                                                              \n",
       "+ √1378)⋅(-11 + √1378) + 29601)   661⋅√1378⎞⎞                                 \n",
       "─────────────────────────────── + ─────────⎟⎟   673⋅√1378⋅(-1678 - 33⋅√1378)⋅(\n",
       "⋅(-11 + √1378))⋅(-39 + √1378)        1346  ⎠⎠                                 \n",
       "───────────────────────────────────────────── + ──────────────────────────────\n",
       "                                                                              \n",
       "                                                                              \n",
       "                                                                              \n",
       "                                                                              \n",
       " + √1378)⋅(-11 + √1378) + 29601)   661⋅√1378⎞⎞                         n ⎛  39\n",
       "──────────────────────────────── + ─────────⎟⎟   673⋅√1378⋅(√1378 + 52) ⋅⎜- ──\n",
       ")⋅(-11 + √1378))⋅(-39 + √1378)        1346  ⎠⎠                           ⎝   2\n",
       "────────────────────────────────────────────── - ─────────────────────────────\n",
       "                                                                              \n",
       "                                                                              \n",
       "                                                                              \n",
       "\n",
       "8841   19⋅(-759⋅√1378 + 17⋅(-39 + √1378)⋅(-11 + √1378) + 29601)   661⋅√1378⎞  \n",
       "──── - ──────────────────────────────────────────────────────── + ─────────⎟⋅(\n",
       "692      2⋅(-529 + (-39 + √1378)⋅(-11 + √1378))⋅(-39 + √1378)        1346  ⎠  \n",
       "──────────────────────────────────────────────────────────────────────────────\n",
       "                    14161017⋅(-529 + (-39 - √1378)⋅(-√1378 - 11))⋅(-39 - √1378\n",
       "                                                                              \n",
       "                                                                              \n",
       "                                                                              \n",
       "           n ⎛  398841   19⋅(-759⋅√1378 + 17⋅(-39 + √1378)⋅(-11 + √1378) + 296\n",
       "√1378 + 52) ⋅⎜- ────── - ─────────────────────────────────────────────────────\n",
       "             ⎝   2692      2⋅(-529 + (-39 + √1378)⋅(-11 + √1378))⋅(-39 + √1378\n",
       "──────────────────────────────────────────────────────────────────────────────\n",
       "         14161017⋅(-529 + (-39 - √1378)⋅(-√1378 - 11))                        \n",
       "                                                                              \n",
       "                                                                              \n",
       "                                                                              \n",
       "8841   19⋅(-759⋅√1378 + 17⋅(-39 + √1378)⋅(-11 + √1378) + 29601)   661⋅√1378⎞  \n",
       "──── - ──────────────────────────────────────────────────────── + ─────────⎟  \n",
       "692      2⋅(-529 + (-39 + √1378)⋅(-11 + √1378))⋅(-39 + √1378)        1346  ⎠  \n",
       "────────────────────────────────────────────────────────────────────────────  \n",
       "                    14161017                                                  \n",
       "                                                                              \n",
       "                                                                              \n",
       "\n",
       "                                                                           n ⎛\n",
       "759⋅√1378 + 29601 + 17⋅(-39 - √1378)⋅(-√1378 - 11))  673⋅√1378⋅(52 - √1378) ⋅⎜\n",
       "                                                                             ⎝\n",
       "───────────────────────────────────────────────────  ─────────────────────────\n",
       ")                                                                             \n",
       "                                                                              \n",
       "                                                                              \n",
       "                                                                              \n",
       "01)   661⋅√1378⎞                                                              \n",
       "─── + ─────────⎟                                                              \n",
       ")        1346  ⎠                                                              \n",
       "────────────────                                                              \n",
       "                                                                              \n",
       "                                                                              \n",
       "                                                                              \n",
       "                                                                              \n",
       "                                                                              \n",
       "                                                                              \n",
       "                                                                              \n",
       "                                                                              \n",
       "                                                                              \n",
       "                                                                              \n",
       "                                                                              \n",
       "\n",
       "  637143⋅√1378   ⎛  961   31⋅(-759⋅√1378 + 17⋅(-39 + √1378)⋅(-11 + √1378) + 29\n",
       "- ──────────── - ⎜- ─── - ────────────────────────────────────────────────────\n",
       "      2692       ⎝   4      2⋅(-529 + (-39 + √1378)⋅(-11 + √1378))⋅(-39 + √137\n",
       "──────────────────────────────────────────────────────────────────────────────\n",
       "                                                                              \n",
       "                                                                    14161017⋅(\n",
       "                                                                              \n",
       "                                                                              \n",
       "                                                  n ⎛  637143⋅√1378   ⎛  961  \n",
       "         673⋅√1378⋅(-1678 + 33⋅√1378)⋅(52 - √1378) ⋅⎜- ──────────── - ⎜- ─── -\n",
       "                                                    ⎝      2692       ⎝   4   \n",
       "         ─────────────────────────────────────────────────────────────────────\n",
       "                                                                              \n",
       "                                                                              \n",
       "                                                                              \n",
       "                                                                              \n",
       "                                                   n ⎛  637143⋅√1378   ⎛  961 \n",
       "                             673⋅√1378⋅(52 - √1378) ⋅⎜- ──────────── - ⎜- ─── \n",
       "                                                     ⎝      2692       ⎝   4  \n",
       "                           - ─────────────────────────────────────────────────\n",
       "                                                                              \n",
       "                                                                              \n",
       "                                                                              \n",
       "\n",
       "601)⎞ ⎛  19⋅(759⋅√1378 + 29601 + 17⋅(-39 - √1378)⋅(-√1378 - 11))           31⋅\n",
       "────⎟⋅⎜- ─────────────────────────────────────────────────────── - ───────────\n",
       "8)  ⎠ ⎝    2⋅(-529 + (-39 - √1378)⋅(-√1378 - 11))⋅(-39 - √1378)    2⋅(-529 + (\n",
       "──────────────────────────────────────────────────────────────────────────────\n",
       "                                                  ⎛611   661⋅√1378⎞           \n",
       "-529 + (-39 + √1378)⋅(-11 + √1378))⋅(-39 + √1378)⋅⎜─── - ─────────⎟           \n",
       "                                                  ⎝673      1346  ⎠           \n",
       "                                                                              \n",
       " 31⋅(-759⋅√1378 + 17⋅(-39 + √1378)⋅(-11 + √1378) + 29601)⎞ ⎛  19⋅(759⋅√1378 + \n",
       " ────────────────────────────────────────────────────────⎟⋅⎜- ────────────────\n",
       "   2⋅(-529 + (-39 + √1378)⋅(-11 + √1378))⋅(-39 + √1378)  ⎠ ⎝    2⋅(-529 + (-39\n",
       "──────────────────────────────────────────────────────────────────────────────\n",
       "                                                            ⎛611   661⋅√1378⎞ \n",
       "              14161017⋅(-529 + (-39 + √1378)⋅(-11 + √1378))⋅⎜─── - ─────────⎟ \n",
       "                                                            ⎝673      1346  ⎠ \n",
       "                                                                              \n",
       "  31⋅(-759⋅√1378 + 17⋅(-39 + √1378)⋅(-11 + √1378) + 29601)⎞ ⎛  19⋅(759⋅√1378 +\n",
       "- ────────────────────────────────────────────────────────⎟⋅⎜- ───────────────\n",
       "    2⋅(-529 + (-39 + √1378)⋅(-11 + √1378))⋅(-39 + √1378)  ⎠ ⎝    2⋅(-529 + (-3\n",
       "──────────────────────────────────────────────────────────────────────────────\n",
       "                                                    ⎛611   661⋅√1378⎞         \n",
       "                                           14161017⋅⎜─── - ─────────⎟         \n",
       "                                                    ⎝673      1346  ⎠         \n",
       "\n",
       "(-1678 - 33⋅√1378)         ⎞⎞                                                 \n",
       "───────────────────────────⎟⎟⋅(-759⋅√1378 + 17⋅(-39 + √1378)⋅(-11 + √1378) + 2\n",
       "-39 - √1378)⋅(-√1378 - 11))⎠⎠                                                 \n",
       "──────────────────────────────────────────────────────────────────────────────\n",
       "                                                                              \n",
       "                                                                              \n",
       "                                                                              \n",
       "                                                                              \n",
       "29601 + 17⋅(-39 - √1378)⋅(-√1378 - 11))           31⋅(-1678 - 33⋅√1378)       \n",
       "─────────────────────────────────────── - ────────────────────────────────────\n",
       " - √1378)⋅(-√1378 - 11))⋅(-39 - √1378)    2⋅(-529 + (-39 - √1378)⋅(-√1378 - 11\n",
       "──────────────────────────────────────────────────────────────────────────────\n",
       "                                                                              \n",
       "                                                                              \n",
       "                                                                              \n",
       "                                                                              \n",
       " 29601 + 17⋅(-39 - √1378)⋅(-√1378 - 11))           31⋅(-1678 - 33⋅√1378)      \n",
       "──────────────────────────────────────── - ───────────────────────────────────\n",
       "9 - √1378)⋅(-√1378 - 11))⋅(-39 - √1378)    2⋅(-529 + (-39 - √1378)⋅(-√1378 - 1\n",
       "──────────────────────────────────────────────────────────────────────────────\n",
       "                                                                              \n",
       "                                                                              \n",
       "                                                                              \n",
       "\n",
       "                  ⎛  961   31⋅(-759⋅√1378 + 17⋅(-39 + √1378)⋅(-11 + √1378) + 2\n",
       "9601)   673⋅√1378⋅⎜- ─── - ───────────────────────────────────────────────────\n",
       "                  ⎝   4      2⋅(-529 + (-39 + √1378)⋅(-11 + √1378))⋅(-39 + √13\n",
       "───── + ──────────────────────────────────────────────────────────────────────\n",
       "                                                  14161017⋅(-529 + (-39 - √137\n",
       "                                                                              \n",
       "                                                                              \n",
       "                                                                              \n",
       "  ⎞⎞                                ⎛  961   31⋅(-759⋅√1378 + 17⋅(-39 + √1378)\n",
       "──⎟⎟   673⋅√1378⋅(-1678 - 33⋅√1378)⋅⎜- ─── - ─────────────────────────────────\n",
       "))⎠⎠                                ⎝   4      2⋅(-529 + (-39 + √1378)⋅(-11 + \n",
       "──── + ───────────────────────────────────────────────────────────────────────\n",
       "                                       14161017⋅(-529 + (-39 - √1378)⋅(-√1378 \n",
       "                                                                              \n",
       "                                                                              \n",
       "                                                                              \n",
       "   ⎞⎞             ⎛  961   31⋅(-759⋅√1378 + 17⋅(-39 + √1378)⋅(-11 + √1378) + 2\n",
       "───⎟⎟   673⋅√1378⋅⎜- ─── - ───────────────────────────────────────────────────\n",
       "1))⎠⎠             ⎝   4      2⋅(-529 + (-39 + √1378)⋅(-11 + √1378))⋅(-39 + √13\n",
       "───── - ──────────────────────────────────────────────────────────────────────\n",
       "                                                 14161017                     \n",
       "                                                                              \n",
       "                                                                              \n",
       "\n",
       "9601)⎞             n                                                          \n",
       "─────⎟⋅(√1378 + 52) ⋅(759⋅√1378 + 29601 + 17⋅(-39 - √1378)⋅(-√1378 - 11))    6\n",
       "78)  ⎠                                                                        \n",
       "─────────────────────────────────────────────────────────────────────────  - ─\n",
       "8)⋅(-√1378 - 11))⋅(-39 - √1378)                                               \n",
       "                                                                              \n",
       "                                                                              \n",
       "                                                                              \n",
       "⋅(-11 + √1378) + 29601)⎞             n                                        \n",
       "───────────────────────⎟⋅(√1378 + 52)                                         \n",
       "√1378))⋅(-39 + √1378)  ⎠                                                      \n",
       "──────────────────────────────────────                                        \n",
       "- 11))                                                                        \n",
       "                                                                              \n",
       "                                                                              \n",
       "                                                                              \n",
       "9601)⎞             n                                                          \n",
       "─────⎟⋅(√1378 + 52)                                                           \n",
       "78)  ⎠                                                                        \n",
       "────────────────────                                                          \n",
       "                                                                              \n",
       "                                                                              \n",
       "                                                                              \n",
       "\n",
       "         ⎛18941   20491⋅√1378⎞             n ⎛  19⋅(759⋅√1378 + 29601 + 17⋅(-3\n",
       "73⋅√1378⋅⎜───── - ───────────⎟⋅(52 - √1378) ⋅⎜- ──────────────────────────────\n",
       "         ⎝ 1346       2692   ⎠               ⎝    2⋅(-529 + (-39 - √1378)⋅(-√1\n",
       "──────────────────────────────────────────────────────────────────────────────\n",
       "                                                                              \n",
       "                                                            14161017⋅(-529 + (\n",
       "                                                                              \n",
       "                                                                              \n",
       "                                                              ⎛18941   20491⋅√\n",
       "                                 673⋅√1378⋅(-1678 + 33⋅√1378)⋅⎜───── - ───────\n",
       "                                                              ⎝ 1346       269\n",
       "                               - ─────────────────────────────────────────────\n",
       "                                                                              \n",
       "                                                                              \n",
       "                                                                              \n",
       "                                                                              \n",
       "                                                             ⎛18941   20491⋅√1\n",
       "                                                   673⋅√1378⋅⎜───── - ────────\n",
       "                                                             ⎝ 1346       2692\n",
       "                                                   ───────────────────────────\n",
       "                                                                              \n",
       "                                                                              \n",
       "                                                                              \n",
       "\n",
       "9 - √1378)⋅(-√1378 - 11))           31⋅(-1678 - 33⋅√1378)         ⎞           \n",
       "───────────────────────── - ──────────────────────────────────────⎟⋅(-759⋅√137\n",
       "378 - 11))⋅(-39 - √1378)    2⋅(-529 + (-39 - √1378)⋅(-√1378 - 11))⎠           \n",
       "──────────────────────────────────────────────────────────────────────────────\n",
       "                                          ⎛611   661⋅√1378⎞                   \n",
       "-39 + √1378)⋅(-11 + √1378))⋅(-39 + √1378)⋅⎜─── - ─────────⎟                   \n",
       "                                          ⎝673      1346  ⎠                   \n",
       "                                                                              \n",
       "1378⎞             n ⎛  19⋅(759⋅√1378 + 29601 + 17⋅(-39 - √1378)⋅(-√1378 - 11))\n",
       "────⎟⋅(52 - √1378) ⋅⎜- ───────────────────────────────────────────────────────\n",
       "2   ⎠               ⎝    2⋅(-529 + (-39 - √1378)⋅(-√1378 - 11))⋅(-39 - √1378) \n",
       "──────────────────────────────────────────────────────────────────────────────\n",
       "                                                    ⎛611   661⋅√1378⎞         \n",
       "      14161017⋅(-529 + (-39 + √1378)⋅(-11 + √1378))⋅⎜─── - ─────────⎟         \n",
       "                                                    ⎝673      1346  ⎠         \n",
       "                                                                              \n",
       "378⎞             n ⎛  19⋅(759⋅√1378 + 29601 + 17⋅(-39 - √1378)⋅(-√1378 - 11)) \n",
       "───⎟⋅(52 - √1378) ⋅⎜- ─────────────────────────────────────────────────────── \n",
       "   ⎠               ⎝    2⋅(-529 + (-39 - √1378)⋅(-√1378 - 11))⋅(-39 - √1378)  \n",
       "──────────────────────────────────────────────────────────────────────────────\n",
       "                                          ⎛611   661⋅√1378⎞                   \n",
       "                                 14161017⋅⎜─── - ─────────⎟                   \n",
       "                                          ⎝673      1346  ⎠                   \n",
       "\n",
       "                                                        ⎛18941   20491⋅√1378⎞ \n",
       "8 + 17⋅(-39 + √1378)⋅(-11 + √1378) + 29601)   673⋅√1378⋅⎜───── - ───────────⎟⋅\n",
       "                                                        ⎝ 1346       2692   ⎠ \n",
       "─────────────────────────────────────────── + ────────────────────────────────\n",
       "                                                                 14161017⋅(-52\n",
       "                                                                              \n",
       "                                                                              \n",
       "                                                                              \n",
       "           31⋅(-1678 - 33⋅√1378)         ⎞                                ⎛189\n",
       " - ──────────────────────────────────────⎟   673⋅√1378⋅(-1678 - 33⋅√1378)⋅⎜───\n",
       "   2⋅(-529 + (-39 - √1378)⋅(-√1378 - 11))⎠                                ⎝ 13\n",
       "────────────────────────────────────────── + ─────────────────────────────────\n",
       "                                                      14161017⋅(-529 + (-39 - \n",
       "                                                                              \n",
       "                                                                              \n",
       "                                                                              \n",
       "          31⋅(-1678 - 33⋅√1378)         ⎞             ⎛18941   20491⋅√1378⎞   \n",
       "- ──────────────────────────────────────⎟   673⋅√1378⋅⎜───── - ───────────⎟⋅(√\n",
       "  2⋅(-529 + (-39 - √1378)⋅(-√1378 - 11))⎠             ⎝ 1346       2692   ⎠   \n",
       "───────────────────────────────────────── - ──────────────────────────────────\n",
       "                                                               14161017       \n",
       "                                                                              \n",
       "                                                                              \n",
       "\n",
       "            n                                                     ⎤\n",
       "(√1378 + 52) ⋅(759⋅√1378 + 29601 + 17⋅(-39 - √1378)⋅(-√1378 - 11))⎥\n",
       "                                                                  ⎥\n",
       "──────────────────────────────────────────────────────────────────⎥\n",
       "9 + (-39 - √1378)⋅(-√1378 - 11))⋅(-39 - √1378)                    ⎥\n",
       "                                                                  ⎥\n",
       "                                                                  ⎥\n",
       "                                                                  ⎥\n",
       "41   20491⋅√1378⎞             n                                   ⎥\n",
       "── - ───────────⎟⋅(√1378 + 52)                                    ⎥\n",
       "46       2692   ⎠                                                 ⎥\n",
       "───────────────────────────────                                   ⎥\n",
       "√1378)⋅(-√1378 - 11))                                             ⎥\n",
       "                                                                  ⎥\n",
       "                                                                  ⎥\n",
       "                                                                  ⎥\n",
       "          n                                                       ⎥\n",
       "1378 + 52)                                                        ⎥\n",
       "                                                                  ⎥\n",
       "───────────                                                       ⎥\n",
       "                                                                  ⎥\n",
       "                                                                  ⎥\n",
       "                                                                  ⎦"
      ]
     },
     "execution_count": 95,
     "metadata": {},
     "output_type": "execute_result"
    }
   ],
   "source": [
    "%%time\n",
    "n = sp.symbols('n', positive=True)\n",
    "kobasica = M ** n\n",
    "kobasica"
   ]
  },
  {
   "cell_type": "markdown",
   "metadata": {},
   "source": [
    "Za provjeru uvrstimo neki konkretni $n$ i usporedimo to s direktno izračunatom potencijom."
   ]
  },
  {
   "cell_type": "code",
   "execution_count": 96,
   "metadata": {
    "scrolled": true
   },
   "outputs": [
    {
     "name": "stdout",
     "output_type": "stream",
     "text": [
      "CPU times: user 6.96 s, sys: 12.6 ms, total: 6.97 s\n",
      "Wall time: 6.97 s\n"
     ]
    },
    {
     "data": {
      "image/png": "[encoded data removed]",
      "text/latex": [
       "$\\displaystyle \\left[\\begin{matrix}7573878 & 13938678 & 15022332\\\\13938678 & 25653446 & 27658228\\\\15022332 & 27658228 & 29907020\\end{matrix}\\right]$"
      ],
      "text/plain": [
       "⎡7573878   13938678  15022332⎤\n",
       "⎢                            ⎥\n",
       "⎢13938678  25653446  27658228⎥\n",
       "⎢                            ⎥\n",
       "⎣15022332  27658228  29907020⎦"
      ]
     },
     "execution_count": 96,
     "metadata": {},
     "output_type": "execute_result"
    }
   ],
   "source": [
    "%time sp.simplify(kobasica.subs({n: 4}))"
   ]
  },
  {
   "cell_type": "code",
   "execution_count": 97,
   "metadata": {},
   "outputs": [
    {
     "data": {
      "text/plain": [
       "True"
      ]
     },
     "execution_count": 97,
     "metadata": {},
     "output_type": "execute_result"
    }
   ],
   "source": [
    "_ == M**4"
   ]
  },
  {
   "cell_type": "markdown",
   "metadata": {},
   "source": [
    "## Literatura"
   ]
  },
  {
   "cell_type": "markdown",
   "metadata": {},
   "source": [
    "[Sympy tutorial](https://docs.sympy.org/latest/tutorial/index.html)"
   ]
  }
 ],
 "metadata": {
  "kernelspec": {
   "display_name": "Python 3",
   "language": "python",
   "name": "python3"
  },
  "language_info": {
   "codemirror_mode": {
    "name": "ipython",
    "version": 3
   },
   "file_extension": ".py",
   "mimetype": "text/x-python",
   "name": "python",
   "nbconvert_exporter": "python",
   "pygments_lexer": "ipython3",
   "version": "3.7.7"
  }
 },
 "nbformat": 4,
 "nbformat_minor": 2
}
