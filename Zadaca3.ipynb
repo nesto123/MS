{
 "cells": [
  {
   "cell_type": "code",
   "execution_count": 2,
   "metadata": {},
   "outputs": [],
   "source": [
    "import pandas as pd\n",
    "import numpy as np"
   ]
  },
  {
   "cell_type": "markdown",
   "metadata": {},
   "source": [
    "What is the average of column num2?"
   ]
  },
  {
   "cell_type": "code",
   "execution_count": 3,
   "metadata": {},
   "outputs": [
    {
     "data": {
      "text/html": [
       "<div>\n",
       "<style scoped>\n",
       "    .dataframe tbody tr th:only-of-type {\n",
       "        vertical-align: middle;\n",
       "    }\n",
       "\n",
       "    .dataframe tbody tr th {\n",
       "        vertical-align: top;\n",
       "    }\n",
       "\n",
       "    .dataframe thead th {\n",
       "        text-align: right;\n",
       "    }\n",
       "</style>\n",
       "<table border=\"1\" class=\"dataframe\">\n",
       "  <thead>\n",
       "    <tr style=\"text-align: right;\">\n",
       "      <th></th>\n",
       "      <th>date</th>\n",
       "      <th>num</th>\n",
       "      <th>num2</th>\n",
       "      <th>str</th>\n",
       "      <th>str2</th>\n",
       "    </tr>\n",
       "  </thead>\n",
       "  <tbody>\n",
       "    <tr>\n",
       "      <td>0</td>\n",
       "      <td>2014-01-15</td>\n",
       "      <td>176</td>\n",
       "      <td>631.427747</td>\n",
       "      <td>boy</td>\n",
       "      <td>yellow</td>\n",
       "    </tr>\n",
       "    <tr>\n",
       "      <td>1</td>\n",
       "      <td>2014-01-25</td>\n",
       "      <td>330</td>\n",
       "      <td>525.189511</td>\n",
       "      <td>girl</td>\n",
       "      <td>yellow</td>\n",
       "    </tr>\n",
       "    <tr>\n",
       "      <td>2</td>\n",
       "      <td>2014-03-05</td>\n",
       "      <td>260</td>\n",
       "      <td>802.829888</td>\n",
       "      <td>boy</td>\n",
       "      <td>blue</td>\n",
       "    </tr>\n",
       "    <tr>\n",
       "      <td>3</td>\n",
       "      <td>2014-03-27</td>\n",
       "      <td>192</td>\n",
       "      <td>743.697401</td>\n",
       "      <td>girl</td>\n",
       "      <td>red</td>\n",
       "    </tr>\n",
       "    <tr>\n",
       "      <td>4</td>\n",
       "      <td>2014-05-19</td>\n",
       "      <td>254</td>\n",
       "      <td>974.793224</td>\n",
       "      <td>girl</td>\n",
       "      <td>blue</td>\n",
       "    </tr>\n",
       "  </tbody>\n",
       "</table>\n",
       "</div>"
      ],
      "text/plain": [
       "         date  num        num2   str    str2\n",
       "0  2014-01-15  176  631.427747   boy  yellow\n",
       "1  2014-01-25  330  525.189511  girl  yellow\n",
       "2  2014-03-05  260  802.829888   boy    blue\n",
       "3  2014-03-27  192  743.697401  girl     red\n",
       "4  2014-05-19  254  974.793224  girl    blue"
      ]
     },
     "execution_count": 3,
     "metadata": {},
     "output_type": "execute_result"
    }
   ],
   "source": [
    "\n",
    "table1 = pd.DataFrame( [\n",
    "[\"2014-01-15\",\"176\",\"631.427747\",\"boy\",\"yellow\"],\n",
    "[\"2014-01-25\",\"330\",\"525.189511\",\"girl\",\"yellow\"],\n",
    "[\"2014-03-05\",\"260\",\"802.829888\",\"boy\",\"blue\"],\n",
    "[\"2014-03-27\",\"192\",\"743.697401\",\"girl\",\"red\"],\n",
    "[\"2014-05-19\",\"254\",\"974.793224\",\"girl\",\"blue\"],\n",
    "[\"2014-05-27\",\"943\",\"186.433405\",\"girl\",\"yellow\"],\n",
    "[\"2014-06-19\",\"589\",\"346.259034\",\"boy\",\"green\"],\n",
    "[\"2014-07-04\",\"690\",\"527.358344\",\"boy\",\"red\"],\n",
    "[\"2014-08-03\",\"792\",\"73.843848\",\"boy\",\"red\"],\n",
    "[\"2014-08-06\",\"760\",\"286.984863\",\"girl\",\"red\"],\n",
    "[\"2014-08-08\",\"71\",\"20.700987\",\"boy\",\"green\"],\n",
    "[\"2014-09-02\",\"312\",\"845.254480\",\"boy\",\"purple\"],\n",
    "[\"2014-09-06\",\"279\",\"833.293450\",\"boy\",\"green\"],\n",
    "[\"2014-09-11\",\"852\",\"473.570358\",\"boy\",\"red\"],\n",
    "[\"2014-09-21\",\"285\",\"915.997882\",\"girl\",\"red\"],\n",
    "[\"2014-10-20\",\"330\",\"679.031792\",\"boy\",\"purple\"],\n",
    "[\"2014-11-06\",\"56\",\"155.091492\",\"boy\",\"red\"],\n",
    "[\"2014-11-19\",\"518\",\"58.936581\",\"boy\",\"red\"],\n",
    "[\"2014-12-19\",\"610\",\"899.197993\",\"boy\",\"red\"],\n",
    "[\"2014-12-19\",\"462\",\"387.648537\",\"girl\",\"blue\"],\n",
    "[\"2014-12-25\",\"654\",\"346.042252\",\"girl\",\"yellow\"],\n",
    "[\"2015-02-04\",\"151\",\"421.636419\",\"girl\",\"red\"],\n",
    "[\"2015-03-15\",\"413\",\"606.343760\",\"girl\",\"yellow\"],\n",
    "[\"2015-03-25\",\"226\",\"405.178703\",\"boy\",\"green\"],\n",
    "[\"2015-05-27\",\"954\",\"4.158206\",\"boy\",\"yellow\"],\n",
    "[\"2015-07-22\",\"493\",\"164.797598\",\"boy\",\"red\"],\n",
    "[\"2015-08-05\",\"687\",\"277.021994\",\"girl\",\"red\"],\n",
    "[\"2015-08-12\",\"619\",\"658.618907\",\"boy\",\"blue\"],\n",
    "[\"2015-08-16\",\"951\",\"724.661845\",\"girl\",\"red\"],\n",
    "[\"2015-09-21\",\"345\",\"707.051491\",\"girl\",\"red\"],\n",
    "[\"2015-09-21\",\"250\",\"571.183941\",\"girl\",\"yellow\"],\n",
    "[\"2015-09-28\",\"940\",\"113.609364\",\"girl\",\"yellow\"],\n",
    "[\"2015-10-11\",\"918\",\"359.947587\",\"boy\",\"blue\"],\n",
    "[\"2015-10-29\",\"722\",\"812.100866\",\"boy\",\"purple\"],\n",
    "[\"2015-10-30\",\"31\",\"566.706857\",\"girl\",\"purple\"],\n",
    "[\"2015-10-30\",\"638\",\"919.542215\",\"boy\",\"yellow\"],\n",
    "[\"2015-11-20\",\"456\",\"405.277955\",\"girl\",\"yellow\"],\n",
    "[\"2015-11-21\",\"965\",\"127.128332\",\"girl\",\"blue\"],\n",
    "[\"2016-01-04\",\"894\",\"862.674515\",\"girl\",\"red\"],\n",
    "[\"2016-01-14\",\"133\",\"673.018684\",\"boy\",\"red\"],\n",
    "[\"2016-03-17\",\"471\",\"533.197723\",\"girl\",\"red\"],\n",
    "[\"2016-06-07\",\"625\",\"665.043979\",\"boy\",\"red\"],\n",
    "[\"2016-06-26\",\"545\",\"799.731411\",\"girl\",\"blue\"],\n",
    "[\"2016-06-29\",\"639\",\"54.200219\",\"girl\",\"green\"],\n",
    "[\"2016-07-09\",\"6\",\"63.016883\",\"girl\",\"purple\"],\n",
    "[\"2016-08-16\",\"93\",\"567.060474\",\"girl\",\"yellow\"],\n",
    "[\"2016-08-26\",\"16\",\"319.226372\",\"girl\",\"purple\"],\n",
    "[\"2016-09-05\",\"315\",\"116.141924\",\"girl\",\"red\"],\n",
    "[\"2016-09-20\",\"105\",\"476.725011\",\"girl\",\"red\"],\n",
    "[\"2016-09-26\",\"305\",\"892.255753\",\"boy\",\"green\"]],\n",
    "   columns = [\"date\",\"num\",\"num2\",\"str\",\"str2\"])\n",
    "table1.head()"
   ]
  },
  {
   "cell_type": "code",
   "execution_count": 34,
   "metadata": {},
   "outputs": [
    {
     "name": "stdout",
     "output_type": "stream",
     "text": [
      "<class 'pandas.core.frame.DataFrame'>\n",
      "RangeIndex: 50 entries, 0 to 49\n",
      "Data columns (total 5 columns):\n",
      "date    50 non-null object\n",
      "num     50 non-null object\n",
      "num2    50 non-null object\n",
      "str     50 non-null object\n",
      "str2    50 non-null object\n",
      "dtypes: object(5)\n",
      "memory usage: 2.1+ KB\n",
      "<class 'pandas.core.frame.DataFrame'>\n",
      "RangeIndex: 50 entries, 0 to 49\n",
      "Data columns (total 5 columns):\n",
      "date    50 non-null object\n",
      "num     50 non-null int64\n",
      "num2    50 non-null float64\n",
      "str     50 non-null object\n",
      "str2    50 non-null object\n",
      "dtypes: float64(1), int64(1), object(3)\n",
      "memory usage: 2.1+ KB\n"
     ]
    },
    {
     "data": {
      "text/plain": [
       "491.61684114"
      ]
     },
     "execution_count": 34,
     "metadata": {},
     "output_type": "execute_result"
    }
   ],
   "source": [
    "table1.info()\n",
    "table1 = table1.astype({\"num\": int, \"num2\": float});\n",
    "table1.info()\n",
    "table1[\"num2\"].mean()"
   ]
  },
  {
   "cell_type": "markdown",
   "metadata": {},
   "source": [
    "2. zad\n",
    "\n",
    "Group by str and find the sum of column num where the index is boy."
   ]
  },
  {
   "cell_type": "code",
   "execution_count": 36,
   "metadata": {},
   "outputs": [
    {
     "data": {
      "text/html": [
       "<div>\n",
       "<style scoped>\n",
       "    .dataframe tbody tr th:only-of-type {\n",
       "        vertical-align: middle;\n",
       "    }\n",
       "\n",
       "    .dataframe tbody tr th {\n",
       "        vertical-align: top;\n",
       "    }\n",
       "\n",
       "    .dataframe thead th {\n",
       "        text-align: right;\n",
       "    }\n",
       "</style>\n",
       "<table border=\"1\" class=\"dataframe\">\n",
       "  <thead>\n",
       "    <tr style=\"text-align: right;\">\n",
       "      <th></th>\n",
       "      <th>date</th>\n",
       "      <th>num</th>\n",
       "      <th>num2</th>\n",
       "      <th>str</th>\n",
       "      <th>str2</th>\n",
       "    </tr>\n",
       "  </thead>\n",
       "  <tbody>\n",
       "    <tr>\n",
       "      <td>0</td>\n",
       "      <td>date</td>\n",
       "      <td>num</td>\n",
       "      <td>num2</td>\n",
       "      <td>str</td>\n",
       "      <td>str2</td>\n",
       "    </tr>\n",
       "    <tr>\n",
       "      <td>1</td>\n",
       "      <td>2014-01-18</td>\n",
       "      <td>972</td>\n",
       "      <td>447.610216</td>\n",
       "      <td>boy</td>\n",
       "      <td>red</td>\n",
       "    </tr>\n",
       "    <tr>\n",
       "      <td>2</td>\n",
       "      <td>2014-02-05</td>\n",
       "      <td>945</td>\n",
       "      <td>163.364858</td>\n",
       "      <td>boy</td>\n",
       "      <td>green</td>\n",
       "    </tr>\n",
       "    <tr>\n",
       "      <td>3</td>\n",
       "      <td>2014-02-14</td>\n",
       "      <td>711</td>\n",
       "      <td>244.103166</td>\n",
       "      <td>girl</td>\n",
       "      <td>green</td>\n",
       "    </tr>\n",
       "    <tr>\n",
       "      <td>4</td>\n",
       "      <td>2014-02-25</td>\n",
       "      <td>253</td>\n",
       "      <td>551.958346</td>\n",
       "      <td>boy</td>\n",
       "      <td>green</td>\n",
       "    </tr>\n",
       "  </tbody>\n",
       "</table>\n",
       "</div>"
      ],
      "text/plain": [
       "         date  num        num2   str   str2\n",
       "0        date  num        num2   str   str2\n",
       "1  2014-01-18  972  447.610216   boy    red\n",
       "2  2014-02-05  945  163.364858   boy  green\n",
       "3  2014-02-14  711  244.103166  girl  green\n",
       "4  2014-02-25  253  551.958346   boy  green"
      ]
     },
     "execution_count": 36,
     "metadata": {},
     "output_type": "execute_result"
    }
   ],
   "source": [
    "table2 = pd.DataFrame( [\n",
    "[\"date\",\"num\",\"num2\",\"str\",\"str2\"],\n",
    "[\"2014-01-18\",\"972\",\"447.610216\",\"boy\",\"red\"],\n",
    "[\"2014-02-05\",\"945\",\"163.364858\",\"boy\",\"green\"],\n",
    "[\"2014-02-14\",\"711\",\"244.103166\",\"girl\",\"green\"],\n",
    "[\"2014-02-25\",\"253\",\"551.958346\",\"boy\",\"green\"],\n",
    "[\"2014-04-16\",\"123\",\"237.824666\",\"girl\",\"blue\"],\n",
    "[\"2014-05-15\",\"35\",\"808.260511\",\"girl\",\"red\"],\n",
    "[\"2014-05-29\",\"428\",\"682.510660\",\"girl\",\"red\"],\n",
    "[\"2014-06-19\",\"795\",\"762.252145\",\"girl\",\"green\"],\n",
    "[\"2014-06-21\",\"148\",\"15.515414\",\"boy\",\"green\"],\n",
    "[\"2014-07-04\",\"514\",\"228.735641\",\"girl\",\"yellow\"],\n",
    "[\"2014-07-06\",\"154\",\"817.175051\",\"girl\",\"blue\"],\n",
    "[\"2014-07-09\",\"853\",\"408.568399\",\"girl\",\"yellow\"],\n",
    "[\"2014-07-20\",\"60\",\"418.185172\",\"boy\",\"red\"],\n",
    "[\"2014-07-25\",\"293\",\"942.594243\",\"boy\",\"blue\"],\n",
    "[\"2014-08-06\",\"351\",\"742.921666\",\"boy\",\"green\"],\n",
    "[\"2014-08-23\",\"254\",\"260.215083\",\"boy\",\"red\"],\n",
    "[\"2014-10-01\",\"70\",\"144.219516\",\"boy\",\"purple\"],\n",
    "[\"2014-10-01\",\"946\",\"642.952792\",\"boy\",\"green\"],\n",
    "[\"2014-12-12\",\"967\",\"633.551347\",\"girl\",\"blue\"],\n",
    "[\"2015-01-09\",\"961\",\"719.305828\",\"boy\",\"red\"],\n",
    "[\"2015-01-17\",\"83\",\"823.516632\",\"girl\",\"blue\"],\n",
    "[\"2015-02-10\",\"698\",\"240.010873\",\"boy\",\"blue\"],\n",
    "[\"2015-03-01\",\"828\",\"624.912497\",\"girl\",\"yellow\"],\n",
    "[\"2015-03-10\",\"781\",\"219.765560\",\"boy\",\"blue\"],\n",
    "[\"2015-03-19\",\"650\",\"475.159931\",\"girl\",\"yellow\"],\n",
    "[\"2015-03-29\",\"529\",\"121.535897\",\"boy\",\"green\"],\n",
    "[\"2015-04-13\",\"836\",\"150.936172\",\"girl\",\"yellow\"],\n",
    "[\"2015-04-18\",\"84\",\"955.511477\",\"girl\",\"yellow\"],\n",
    "[\"2015-05-25\",\"542\",\"322.430859\",\"girl\",\"green\"],\n",
    "[\"2015-08-02\",\"537\",\"94.121788\",\"boy\",\"purple\"],\n",
    "[\"2015-08-09\",\"835\",\"891.005798\",\"girl\",\"yellow\"],\n",
    "[\"2015-08-31\",\"278\",\"925.196594\",\"girl\",\"green\"],\n",
    "[\"2015-11-11\",\"54\",\"507.628181\",\"girl\",\"blue\"],\n",
    "[\"2015-12-08\",\"735\",\"955.895300\",\"boy\",\"red\"],\n",
    "[\"2015-12-25\",\"617\",\"530.828915\",\"boy\",\"green\"],\n",
    "[\"2016-01-17\",\"335\",\"170.023531\",\"girl\",\"purple\"],\n",
    "[\"2016-01-27\",\"284\",\"58.113152\",\"girl\",\"blue\"],\n",
    "[\"2016-02-15\",\"816\",\"589.178563\",\"girl\",\"green\"],\n",
    "[\"2016-02-16\",\"236\",\"8.046423\",\"girl\",\"yellow\"],\n",
    "[\"2016-03-07\",\"121\",\"554.911955\",\"boy\",\"red\"],\n",
    "[\"2016-05-08\",\"143\",\"440.191357\",\"boy\",\"green\"],\n",
    "[\"2016-05-09\",\"798\",\"984.784592\",\"boy\",\"blue\"],\n",
    "[\"2016-05-28\",\"464\",\"293.560060\",\"girl\",\"purple\"],\n",
    "[\"2016-07-16\",\"868\",\"23.970083\",\"boy\",\"purple\"],\n",
    "[\"2016-07-23\",\"848\",\"52.273804\",\"girl\",\"red\"],\n",
    "[\"2016-08-03\",\"657\",\"203.270139\",\"boy\",\"yellow\"],\n",
    "[\"2016-08-07\",\"69\",\"754.322351\",\"boy\",\"purple\"],\n",
    "[\"2016-08-21\",\"11\",\"103.523379\",\"girl\",\"green\"],\n",
    "[\"2016-08-29\",\"16\",\"256.378778\",\"girl\",\"purple\"],\n",
    "[\"2016-09-05\",\"71\",\"78.447034\",\"girl\",\"green\"]],\n",
    "columns = [\"date\",\"num\",\"num2\",\"str\",\"str2\"])\n",
    "table2.head()"
   ]
  },
  {
   "cell_type": "code",
   "execution_count": 41,
   "metadata": {},
   "outputs": [
    {
     "name": "stdout",
     "output_type": "stream",
     "text": [
      "<class 'pandas.core.frame.DataFrame'>\n",
      "RangeIndex: 50 entries, 0 to 49\n",
      "Data columns (total 5 columns):\n",
      "date    50 non-null object\n",
      "num     50 non-null int64\n",
      "num2    50 non-null float64\n",
      "str     50 non-null object\n",
      "str2    50 non-null object\n",
      "dtypes: float64(1), int64(1), object(3)\n",
      "memory usage: 2.1+ KB\n",
      "<class 'pandas.core.frame.DataFrame'>\n",
      "RangeIndex: 50 entries, 0 to 49\n",
      "Data columns (total 5 columns):\n",
      "date    50 non-null datetime64[ns]\n",
      "num     50 non-null int64\n",
      "num2    50 non-null float64\n",
      "str     50 non-null object\n",
      "str2    50 non-null object\n",
      "dtypes: datetime64[ns](1), float64(1), int64(1), object(2)\n",
      "memory usage: 2.1+ KB\n"
     ]
    },
    {
     "data": {
      "text/plain": [
       "491.61684114"
      ]
     },
     "execution_count": 41,
     "metadata": {},
     "output_type": "execute_result"
    }
   ],
   "source": [
    "table1.info()\n",
    "table1 = table1.astype({\"num\": int, \"num2\": float, \"date\": \"datetime64[ns]\"});\n",
    "table1.info()"
   ]
  },
  {
   "cell_type": "code",
   "execution_count": 79,
   "metadata": {},
   "outputs": [
    {
     "data": {
      "text/plain": [
       "num    9.729453e+65\n",
       "dtype: float64"
      ]
     },
     "execution_count": 79,
     "metadata": {},
     "output_type": "execute_result"
    }
   ],
   "source": [
    "table2.head()\n",
    "table2.loc[table2[\"str\"]== \"boy\", [\"num\"]].sum()"
   ]
  },
  {
   "cell_type": "code",
   "execution_count": 49,
   "metadata": {},
   "outputs": [
    {
     "data": {
      "text/plain": [
       "<pandas.core.groupby.generic.DataFrameGroupBy object at 0x7fc84f92a9d0>"
      ]
     },
     "execution_count": 49,
     "metadata": {},
     "output_type": "execute_result"
    }
   ],
   "source": []
  },
  {
   "cell_type": "code",
   "execution_count": 50,
   "metadata": {},
   "outputs": [
    {
     "data": {
      "text/plain": [
       "'0.25.1'"
      ]
     },
     "execution_count": 50,
     "metadata": {},
     "output_type": "execute_result"
    }
   ],
   "source": [
    "pd.__version__\n"
   ]
  },
  {
   "cell_type": "code",
   "execution_count": 51,
   "metadata": {},
   "outputs": [
    {
     "name": "stdout",
     "output_type": "stream",
     "text": [
      "\n",
      "INSTALLED VERSIONS\n",
      "------------------\n",
      "commit           : None\n",
      "python           : 3.7.4.final.0\n",
      "python-bits      : 64\n",
      "OS               : Linux\n",
      "OS-release       : 5.3.0-42-generic\n",
      "machine          : x86_64\n",
      "processor        : x86_64\n",
      "byteorder        : little\n",
      "LC_ALL           : None\n",
      "LANG             : en_US.UTF-8\n",
      "LOCALE           : en_US.UTF-8\n",
      "\n",
      "pandas           : 0.25.1\n",
      "numpy            : 1.17.2\n",
      "pytz             : 2019.3\n",
      "dateutil         : 2.8.0\n",
      "pip              : 19.2.3\n",
      "setuptools       : 41.4.0\n",
      "Cython           : 0.29.13\n",
      "pytest           : 5.2.1\n",
      "hypothesis       : None\n",
      "sphinx           : 2.2.0\n",
      "blosc            : None\n",
      "feather          : None\n",
      "xlsxwriter       : 1.2.1\n",
      "lxml.etree       : 4.4.1\n",
      "html5lib         : 1.0.1\n",
      "pymysql          : None\n",
      "psycopg2         : None\n",
      "jinja2           : 2.10.3\n",
      "IPython          : 7.8.0\n",
      "pandas_datareader: None\n",
      "bs4              : 4.8.0\n",
      "bottleneck       : 1.2.1\n",
      "fastparquet      : None\n",
      "gcsfs            : None\n",
      "lxml.etree       : 4.4.1\n",
      "matplotlib       : 3.1.1\n",
      "numexpr          : 2.7.0\n",
      "odfpy            : None\n",
      "openpyxl         : 3.0.0\n",
      "pandas_gbq       : None\n",
      "pyarrow          : None\n",
      "pytables         : None\n",
      "s3fs             : None\n",
      "scipy            : 1.3.1\n",
      "sqlalchemy       : 1.3.9\n",
      "tables           : 3.5.2\n",
      "xarray           : None\n",
      "xlrd             : 1.2.0\n",
      "xlwt             : 1.3.0\n",
      "xlsxwriter       : 1.2.1\n"
     ]
    }
   ],
   "source": [
    "pd.show_versions(as_json=False)\n"
   ]
  },
  {
   "cell_type": "code",
   "execution_count": null,
   "metadata": {},
   "outputs": [],
   "source": []
  }
 ],
 "metadata": {
  "kernelspec": {
   "display_name": "Python 3",
   "language": "python",
   "name": "python3"
  },
  "language_info": {
   "codemirror_mode": {
    "name": "ipython",
    "version": 3
   },
   "file_extension": ".py",
   "mimetype": "text/x-python",
   "name": "python",
   "nbconvert_exporter": "python",
   "pygments_lexer": "ipython3",
   "version": "3.7.4"
  }
 },
 "nbformat": 4,
 "nbformat_minor": 2
}
